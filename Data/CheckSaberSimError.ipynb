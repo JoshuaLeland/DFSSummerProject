{
 "cells": [
  {
   "cell_type": "code",
   "execution_count": 1,
   "metadata": {},
   "outputs": [],
   "source": [
    "import pandas as pd\n",
    "import numpy as np\n",
    "import os\n",
    "import glob\n",
    "import matplotlib.pyplot as plt\n",
    "import numpy as np\n",
    "import scipy.stats as stats"
   ]
  },
  {
   "cell_type": "code",
   "execution_count": 2,
   "metadata": {},
   "outputs": [],
   "source": [
    "#Aggregate the Saber Sim predicitions\n",
    "FileNames=glob.glob('./SaberSimProjections/*')"
   ]
  },
  {
   "cell_type": "code",
   "execution_count": 3,
   "metadata": {},
   "outputs": [],
   "source": [
    "DFList=[]\n",
    "for name in FileNames:\n",
    "    DFList.append(pd.read_csv(name))\n",
    "SeasonResults = pd.concat(DFList)"
   ]
  },
  {
   "cell_type": "code",
   "execution_count": 4,
   "metadata": {},
   "outputs": [
    {
     "data": {
      "text/html": [
       "<div>\n",
       "<style scoped>\n",
       "    .dataframe tbody tr th:only-of-type {\n",
       "        vertical-align: middle;\n",
       "    }\n",
       "\n",
       "    .dataframe tbody tr th {\n",
       "        vertical-align: top;\n",
       "    }\n",
       "\n",
       "    .dataframe thead th {\n",
       "        text-align: right;\n",
       "    }\n",
       "</style>\n",
       "<table border=\"1\" class=\"dataframe\">\n",
       "  <thead>\n",
       "    <tr style=\"text-align: right;\">\n",
       "      <th></th>\n",
       "      <th>mlb_id</th>\n",
       "      <th>Name</th>\n",
       "      <th>Team</th>\n",
       "      <th>Opponent</th>\n",
       "      <th>Position</th>\n",
       "      <th>Batting Order</th>\n",
       "      <th>Projection</th>\n",
       "      <th>Actual</th>\n",
       "      <th>Price</th>\n",
       "      <th>Value</th>\n",
       "      <th>...</th>\n",
       "      <th>wOBA</th>\n",
       "      <th>ISO</th>\n",
       "      <th>IP</th>\n",
       "      <th>Wins</th>\n",
       "      <th>QS</th>\n",
       "      <th>K</th>\n",
       "      <th>CG</th>\n",
       "      <th>CGSO</th>\n",
       "      <th>ERA</th>\n",
       "      <th>FIP</th>\n",
       "    </tr>\n",
       "  </thead>\n",
       "  <tbody>\n",
       "    <tr>\n",
       "      <th>0</th>\n",
       "      <td>641771</td>\n",
       "      <td>Chad Kuhl</td>\n",
       "      <td>pit</td>\n",
       "      <td>sdn</td>\n",
       "      <td>P</td>\n",
       "      <td>NaN</td>\n",
       "      <td>17.2462</td>\n",
       "      <td>6.42</td>\n",
       "      <td>8200</td>\n",
       "      <td>2.103195</td>\n",
       "      <td>...</td>\n",
       "      <td>NaN</td>\n",
       "      <td>NaN</td>\n",
       "      <td>6.12543</td>\n",
       "      <td>0.3953</td>\n",
       "      <td>0.5081</td>\n",
       "      <td>6.0898</td>\n",
       "      <td>0.0234</td>\n",
       "      <td>0.0177</td>\n",
       "      <td>3.996454</td>\n",
       "      <td>3.860608</td>\n",
       "    </tr>\n",
       "    <tr>\n",
       "      <th>1</th>\n",
       "      <td>641778</td>\n",
       "      <td>Eric Lauer</td>\n",
       "      <td>sdn</td>\n",
       "      <td>pit</td>\n",
       "      <td>P</td>\n",
       "      <td>NaN</td>\n",
       "      <td>13.2127</td>\n",
       "      <td>2.05</td>\n",
       "      <td>4800</td>\n",
       "      <td>2.752646</td>\n",
       "      <td>...</td>\n",
       "      <td>NaN</td>\n",
       "      <td>NaN</td>\n",
       "      <td>5.74623</td>\n",
       "      <td>0.3143</td>\n",
       "      <td>0.4074</td>\n",
       "      <td>5.1006</td>\n",
       "      <td>0.0217</td>\n",
       "      <td>0.0135</td>\n",
       "      <td>4.769997</td>\n",
       "      <td>4.740612</td>\n",
       "    </tr>\n",
       "    <tr>\n",
       "      <th>2</th>\n",
       "      <td>570256</td>\n",
       "      <td>Gregory Polanco</td>\n",
       "      <td>pit</td>\n",
       "      <td>sdn</td>\n",
       "      <td>OF</td>\n",
       "      <td>2.0</td>\n",
       "      <td>8.1277</td>\n",
       "      <td>7.00</td>\n",
       "      <td>4500</td>\n",
       "      <td>1.806156</td>\n",
       "      <td>...</td>\n",
       "      <td>0.317838</td>\n",
       "      <td>0.163765</td>\n",
       "      <td>0.00000</td>\n",
       "      <td>0.0000</td>\n",
       "      <td>0.0000</td>\n",
       "      <td>0.8901</td>\n",
       "      <td>0.0000</td>\n",
       "      <td>0.0000</td>\n",
       "      <td>NaN</td>\n",
       "      <td>NaN</td>\n",
       "    </tr>\n",
       "    <tr>\n",
       "      <th>3</th>\n",
       "      <td>572816</td>\n",
       "      <td>Corey Dickerson</td>\n",
       "      <td>pit</td>\n",
       "      <td>sdn</td>\n",
       "      <td>OF</td>\n",
       "      <td>5.0</td>\n",
       "      <td>8.4083</td>\n",
       "      <td>9.00</td>\n",
       "      <td>4100</td>\n",
       "      <td>2.050805</td>\n",
       "      <td>...</td>\n",
       "      <td>0.351805</td>\n",
       "      <td>0.192948</td>\n",
       "      <td>0.00000</td>\n",
       "      <td>0.0000</td>\n",
       "      <td>0.0000</td>\n",
       "      <td>0.7610</td>\n",
       "      <td>0.0000</td>\n",
       "      <td>0.0000</td>\n",
       "      <td>NaN</td>\n",
       "      <td>NaN</td>\n",
       "    </tr>\n",
       "    <tr>\n",
       "      <th>4</th>\n",
       "      <td>605137</td>\n",
       "      <td>Josh Bell</td>\n",
       "      <td>pit</td>\n",
       "      <td>sdn</td>\n",
       "      <td>1B</td>\n",
       "      <td>4.0</td>\n",
       "      <td>8.5283</td>\n",
       "      <td>10.00</td>\n",
       "      <td>4000</td>\n",
       "      <td>2.132075</td>\n",
       "      <td>...</td>\n",
       "      <td>0.360148</td>\n",
       "      <td>0.197627</td>\n",
       "      <td>0.00000</td>\n",
       "      <td>0.0000</td>\n",
       "      <td>0.0000</td>\n",
       "      <td>0.7443</td>\n",
       "      <td>0.0000</td>\n",
       "      <td>0.0000</td>\n",
       "      <td>NaN</td>\n",
       "      <td>NaN</td>\n",
       "    </tr>\n",
       "  </tbody>\n",
       "</table>\n",
       "<p>5 rows × 55 columns</p>\n",
       "</div>"
      ],
      "text/plain": [
       "   mlb_id             Name Team Opponent Position  Batting Order  Projection  \\\n",
       "0  641771        Chad Kuhl  pit      sdn        P            NaN     17.2462   \n",
       "1  641778       Eric Lauer  sdn      pit        P            NaN     13.2127   \n",
       "2  570256  Gregory Polanco  pit      sdn       OF            2.0      8.1277   \n",
       "3  572816  Corey Dickerson  pit      sdn       OF            5.0      8.4083   \n",
       "4  605137        Josh Bell  pit      sdn       1B            4.0      8.5283   \n",
       "\n",
       "   Actual  Price     Value    ...         wOBA       ISO       IP    Wins  \\\n",
       "0    6.42   8200  2.103195    ...          NaN       NaN  6.12543  0.3953   \n",
       "1    2.05   4800  2.752646    ...          NaN       NaN  5.74623  0.3143   \n",
       "2    7.00   4500  1.806156    ...     0.317838  0.163765  0.00000  0.0000   \n",
       "3    9.00   4100  2.050805    ...     0.351805  0.192948  0.00000  0.0000   \n",
       "4   10.00   4000  2.132075    ...     0.360148  0.197627  0.00000  0.0000   \n",
       "\n",
       "       QS       K      CG    CGSO       ERA       FIP  \n",
       "0  0.5081  6.0898  0.0234  0.0177  3.996454  3.860608  \n",
       "1  0.4074  5.1006  0.0217  0.0135  4.769997  4.740612  \n",
       "2  0.0000  0.8901  0.0000  0.0000       NaN       NaN  \n",
       "3  0.0000  0.7610  0.0000  0.0000       NaN       NaN  \n",
       "4  0.0000  0.7443  0.0000  0.0000       NaN       NaN  \n",
       "\n",
       "[5 rows x 55 columns]"
      ]
     },
     "execution_count": 4,
     "metadata": {},
     "output_type": "execute_result"
    }
   ],
   "source": [
    "SeasonResults.head()"
   ]
  },
  {
   "cell_type": "code",
   "execution_count": 5,
   "metadata": {},
   "outputs": [],
   "source": [
    "#Get the BatterList\n",
    "BatterList = pd.read_csv('./DataBaseCrawler/MLBBatterRoster2018.csv')\n",
    "PitcherList = pd.read_csv('./DataBaseCrawler/MLBPitcherRoster2018.csv')"
   ]
  },
  {
   "cell_type": "code",
   "execution_count": 6,
   "metadata": {},
   "outputs": [],
   "source": [
    "#Quick Test\n",
    "Player1 = SeasonResults\n",
    "Player1 = Player1[['Name','Team','Position','Projection','Actual']]\n",
    "Player1 = Player1[Player1['Name']=='Mike Trout']\n",
    "Player1 = Player1[Player1['Projection']>0]"
   ]
  },
  {
   "cell_type": "code",
   "execution_count": 7,
   "metadata": {},
   "outputs": [
    {
     "data": {
      "text/plain": [
       "(array([13., 22., 11.,  9., 15.,  6.,  2.,  3.,  1.,  1.]),\n",
       " array([-12.195  ,  -8.06074,  -3.92648,   0.20778,   4.34204,   8.4763 ,\n",
       "         12.61056,  16.74482,  20.87908,  25.01334,  29.1476 ]),\n",
       " <a list of 10 Patch objects>)"
      ]
     },
     "execution_count": 7,
     "metadata": {},
     "output_type": "execute_result"
    },
    {
     "data": {
      "image/png": "[encoded data removed]",
      "text/plain": [
       "<matplotlib.figure.Figure at 0x7fe7510f02e8>"
      ]
     },
     "metadata": {},
     "output_type": "display_data"
    }
   ],
   "source": [
    "#Error = MikeTrout['Actual'].values-MikeTrout['Projection'].values\n",
    "Error1=Player1['Actual'].values-Player1['Projection'].values\n",
    "Error1 = Error1[~np.isnan(Error1)]\n",
    "plt.hist(Error1)"
   ]
  },
  {
   "cell_type": "code",
   "execution_count": 8,
   "metadata": {},
   "outputs": [
    {
     "data": {
      "text/plain": [
       "80.54515519578315"
      ]
     },
     "execution_count": 8,
     "metadata": {},
     "output_type": "execute_result"
    }
   ],
   "source": [
    "sum(Error1**2)/len(Error1)"
   ]
  },
  {
   "cell_type": "code",
   "execution_count": 9,
   "metadata": {},
   "outputs": [
    {
     "data": {
      "text/plain": [
       "11.337349397590362"
      ]
     },
     "execution_count": 9,
     "metadata": {},
     "output_type": "execute_result"
    }
   ],
   "source": [
    "np.mean(Player1['Actual'])"
   ]
  },
  {
   "cell_type": "code",
   "execution_count": null,
   "metadata": {},
   "outputs": [],
   "source": []
  },
  {
   "cell_type": "code",
   "execution_count": null,
   "metadata": {},
   "outputs": [],
   "source": []
  },
  {
   "cell_type": "code",
   "execution_count": null,
   "metadata": {},
   "outputs": [],
   "source": []
  },
  {
   "cell_type": "code",
   "execution_count": null,
   "metadata": {},
   "outputs": [],
   "source": []
  },
  {
   "cell_type": "code",
   "execution_count": null,
   "metadata": {},
   "outputs": [],
   "source": []
  },
  {
   "cell_type": "code",
   "execution_count": null,
   "metadata": {},
   "outputs": [],
   "source": []
  }
 ],
 "metadata": {
  "kernelspec": {
   "display_name": "Python 3",
   "language": "python",
   "name": "python3"
  },
  "language_info": {
   "codemirror_mode": {
    "name": "ipython",
    "version": 3
   },
   "file_extension": ".py",
   "mimetype": "text/x-python",
   "name": "python",
   "nbconvert_exporter": "python",
   "pygments_lexer": "ipython3",
   "version": "3.6.4"
  }
 },
 "nbformat": 4,
 "nbformat_minor": 2
}
