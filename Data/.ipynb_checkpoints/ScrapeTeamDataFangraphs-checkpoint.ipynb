{
 "cells": [
  {
   "cell_type": "code",
   "execution_count": 1,
   "metadata": {},
   "outputs": [],
   "source": [
    "import requests\n",
    "from bs4 import BeautifulSoup\n",
    "import re\n",
    "import pandas as pd\n",
    "import numpy as np\n",
    "import pandas as pd"
   ]
  },
  {
   "cell_type": "code",
   "execution_count": 2,
   "metadata": {},
   "outputs": [],
   "source": [
    "def cleanRow(x):\n",
    "    try:\n",
    "        return float(x.strip('%'))\n",
    "    except:\n",
    "        try:\n",
    "            return float(x)\n",
    "        except:\n",
    "            return x"
   ]
  },
  {
   "cell_type": "code",
   "execution_count": 3,
   "metadata": {},
   "outputs": [],
   "source": [
    "def scrapeTeamPage(Link, year):\n",
    "    #Scrape STD stats\n",
    "    TeamData=[]\n",
    "    soup = BeautifulSoup(requests.get(Link).text, \"html.parser\")\n",
    "    Rows = soup.find_all('div','RadGrid RadGrid_FanGraphs')[0].find_all('table')[0].find_all('tr','rgRow')\n",
    "\n",
    "    for row in Rows:\n",
    "        Elements = row.find_all('td')\n",
    "        cleanedRow = [year]+[cleanRow(x.get_text()) for x in Elements[1:]]\n",
    "        TeamData.append(cleanedRow)\n",
    "    return TeamData"
   ]
  },
  {
   "cell_type": "code",
   "execution_count": 4,
   "metadata": {},
   "outputs": [],
   "source": [
    "#Make links\n",
    "TeamDataSTD=[]\n",
    "TeamDataADV=[]\n",
    "for Year in range(1990,2019):\n",
    "    LinkSTD ='https://www.fangraphs.com/leaders.aspx?pos=all&stats=bat&lg=all&qual=0&type=0&season='+str(Year)+'&month=0&season1='+str(Year)+'&ind=0&team=0,ts&rost=0&age=0'\n",
    "    LinkADV = 'https://www.fangraphs.com/leaders.aspx?pos=all&stats=bat&lg=all&qual=0&type=1&season='+str(Year)+'&month=0&season1='+str(Year)+'&ind=0&team=0,ts&rost=0&age=0'\n",
    "\n",
    "    #STD Team Stats\n",
    "    TeamDataSTD.append(pd.DataFrame(data=scrapeTeamPage(LinkSTD, Year), columns=['Year','Team','G','AB','PA','H','1B','2B','3B','HR','R','RBI','BB','IBB','SO','HBP','SF','SH','GDP','SB','CS','AVG']))\n",
    "\n",
    "    #Adv Team Stats\n",
    "    TeamDataADV.append(pd.DataFrame(data=scrapeTeamPage(LinkADV, Year), columns=['Year','Team','PA','BB%','K%','BB/K','AVG','OBP','SLG','OPS','ISO','Spd','BABIP','UBR','wGDP','wSB','wRC','wRAA','wOBA','wRC+']))\n",
    "\n",
    "#Concat and merge the results.\n",
    "TeamDataStd = pd.concat(TeamDataSTD)\n",
    "TeamDataAdv = pd.concat(TeamDataADV)\n",
    "\n",
    "#Merge\n",
    "TeamData = pd.merge(TeamDataStd, TeamDataAdv, on=['Year', 'Team', 'PA', 'AVG'])"
   ]
  },
  {
   "cell_type": "code",
   "execution_count": 5,
   "metadata": {},
   "outputs": [],
   "source": [
    "TeamData.to_csv('./TeamStats/TeamBattingStats.csv')"
   ]
  },
  {
   "cell_type": "code",
   "execution_count": null,
   "metadata": {},
   "outputs": [],
   "source": []
  },
  {
   "cell_type": "code",
   "execution_count": null,
   "metadata": {},
   "outputs": [],
   "source": []
  }
 ],
 "metadata": {
  "kernelspec": {
   "display_name": "Python 3",
   "language": "python",
   "name": "python3"
  },
  "language_info": {
   "codemirror_mode": {
    "name": "ipython",
    "version": 3
   },
   "file_extension": ".py",
   "mimetype": "text/x-python",
   "name": "python",
   "nbconvert_exporter": "python",
   "pygments_lexer": "ipython3",
   "version": "3.6.4"
  }
 },
 "nbformat": 4,
 "nbformat_minor": 2
}
