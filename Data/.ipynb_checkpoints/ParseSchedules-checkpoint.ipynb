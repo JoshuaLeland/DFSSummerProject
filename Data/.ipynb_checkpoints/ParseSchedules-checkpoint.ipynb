{
 "cells": [
  {
   "cell_type": "code",
   "execution_count": 5,
   "metadata": {},
   "outputs": [],
   "source": [
    "import pandas as pd\n",
    "import numpy as np"
   ]
  },
  {
   "cell_type": "code",
   "execution_count": null,
   "metadata": {},
   "outputs": [],
   "source": []
  },
  {
   "cell_type": "code",
   "execution_count": 6,
   "metadata": {},
   "outputs": [],
   "source": [
    "Years = range(1990, 2018)"
   ]
  },
  {
   "cell_type": "code",
   "execution_count": 10,
   "metadata": {},
   "outputs": [
    {
     "ename": "AssertionError",
     "evalue": "46 columns passed, passed data had 63 columns",
     "output_type": "error",
     "traceback": [
      "\u001b[0;31m---------------------------------------------------------------------------\u001b[0m",
      "\u001b[0;31mAssertionError\u001b[0m                            Traceback (most recent call last)",
      "\u001b[0;32m<ipython-input-10-7f5655070885>\u001b[0m in \u001b[0;36m<module>\u001b[0;34m()\u001b[0m\n\u001b[1;32m     42\u001b[0m     \u001b[0mData\u001b[0m\u001b[0;34m.\u001b[0m\u001b[0mappend\u001b[0m\u001b[0;34m(\u001b[0m\u001b[0mOutRow\u001b[0m\u001b[0;34m)\u001b[0m\u001b[0;34m\u001b[0m\u001b[0m\n\u001b[1;32m     43\u001b[0m \u001b[0;34m\u001b[0m\u001b[0m\n\u001b[0;32m---> 44\u001b[0;31m \u001b[0mOutDF\u001b[0m \u001b[0;34m=\u001b[0m \u001b[0mpd\u001b[0m\u001b[0;34m.\u001b[0m\u001b[0mDataFrame\u001b[0m\u001b[0;34m(\u001b[0m\u001b[0mdata\u001b[0m\u001b[0;34m=\u001b[0m\u001b[0mData\u001b[0m\u001b[0;34m,\u001b[0m\u001b[0mcolumns\u001b[0m\u001b[0;34m=\u001b[0m\u001b[0mColumns\u001b[0m\u001b[0;34m)\u001b[0m\u001b[0;34m\u001b[0m\u001b[0m\n\u001b[0m",
      "\u001b[0;32m~/anaconda3/lib/python3.6/site-packages/pandas/core/frame.py\u001b[0m in \u001b[0;36m__init__\u001b[0;34m(self, data, index, columns, dtype, copy)\u001b[0m\n\u001b[1;32m    367\u001b[0m                     \u001b[0;32mif\u001b[0m \u001b[0mis_named_tuple\u001b[0m\u001b[0;34m(\u001b[0m\u001b[0mdata\u001b[0m\u001b[0;34m[\u001b[0m\u001b[0;36m0\u001b[0m\u001b[0;34m]\u001b[0m\u001b[0;34m)\u001b[0m \u001b[0;32mand\u001b[0m \u001b[0mcolumns\u001b[0m \u001b[0;32mis\u001b[0m \u001b[0;32mNone\u001b[0m\u001b[0;34m:\u001b[0m\u001b[0;34m\u001b[0m\u001b[0m\n\u001b[1;32m    368\u001b[0m                         \u001b[0mcolumns\u001b[0m \u001b[0;34m=\u001b[0m \u001b[0mdata\u001b[0m\u001b[0;34m[\u001b[0m\u001b[0;36m0\u001b[0m\u001b[0;34m]\u001b[0m\u001b[0;34m.\u001b[0m\u001b[0m_fields\u001b[0m\u001b[0;34m\u001b[0m\u001b[0m\n\u001b[0;32m--> 369\u001b[0;31m                     \u001b[0marrays\u001b[0m\u001b[0;34m,\u001b[0m \u001b[0mcolumns\u001b[0m \u001b[0;34m=\u001b[0m \u001b[0m_to_arrays\u001b[0m\u001b[0;34m(\u001b[0m\u001b[0mdata\u001b[0m\u001b[0;34m,\u001b[0m \u001b[0mcolumns\u001b[0m\u001b[0;34m,\u001b[0m \u001b[0mdtype\u001b[0m\u001b[0;34m=\u001b[0m\u001b[0mdtype\u001b[0m\u001b[0;34m)\u001b[0m\u001b[0;34m\u001b[0m\u001b[0m\n\u001b[0m\u001b[1;32m    370\u001b[0m                     \u001b[0mcolumns\u001b[0m \u001b[0;34m=\u001b[0m \u001b[0m_ensure_index\u001b[0m\u001b[0;34m(\u001b[0m\u001b[0mcolumns\u001b[0m\u001b[0;34m)\u001b[0m\u001b[0;34m\u001b[0m\u001b[0m\n\u001b[1;32m    371\u001b[0m \u001b[0;34m\u001b[0m\u001b[0m\n",
      "\u001b[0;32m~/anaconda3/lib/python3.6/site-packages/pandas/core/frame.py\u001b[0m in \u001b[0;36m_to_arrays\u001b[0;34m(data, columns, coerce_float, dtype)\u001b[0m\n\u001b[1;32m   6282\u001b[0m     \u001b[0;32mif\u001b[0m \u001b[0misinstance\u001b[0m\u001b[0;34m(\u001b[0m\u001b[0mdata\u001b[0m\u001b[0;34m[\u001b[0m\u001b[0;36m0\u001b[0m\u001b[0;34m]\u001b[0m\u001b[0;34m,\u001b[0m \u001b[0;34m(\u001b[0m\u001b[0mlist\u001b[0m\u001b[0;34m,\u001b[0m \u001b[0mtuple\u001b[0m\u001b[0;34m)\u001b[0m\u001b[0;34m)\u001b[0m\u001b[0;34m:\u001b[0m\u001b[0;34m\u001b[0m\u001b[0m\n\u001b[1;32m   6283\u001b[0m         return _list_to_arrays(data, columns, coerce_float=coerce_float,\n\u001b[0;32m-> 6284\u001b[0;31m                                dtype=dtype)\n\u001b[0m\u001b[1;32m   6285\u001b[0m     \u001b[0;32melif\u001b[0m \u001b[0misinstance\u001b[0m\u001b[0;34m(\u001b[0m\u001b[0mdata\u001b[0m\u001b[0;34m[\u001b[0m\u001b[0;36m0\u001b[0m\u001b[0;34m]\u001b[0m\u001b[0;34m,\u001b[0m \u001b[0mcollections\u001b[0m\u001b[0;34m.\u001b[0m\u001b[0mMapping\u001b[0m\u001b[0;34m)\u001b[0m\u001b[0;34m:\u001b[0m\u001b[0;34m\u001b[0m\u001b[0m\n\u001b[1;32m   6286\u001b[0m         return _list_of_dict_to_arrays(data, columns,\n",
      "\u001b[0;32m~/anaconda3/lib/python3.6/site-packages/pandas/core/frame.py\u001b[0m in \u001b[0;36m_list_to_arrays\u001b[0;34m(data, columns, coerce_float, dtype)\u001b[0m\n\u001b[1;32m   6361\u001b[0m         \u001b[0mcontent\u001b[0m \u001b[0;34m=\u001b[0m \u001b[0mlist\u001b[0m\u001b[0;34m(\u001b[0m\u001b[0mlib\u001b[0m\u001b[0;34m.\u001b[0m\u001b[0mto_object_array\u001b[0m\u001b[0;34m(\u001b[0m\u001b[0mdata\u001b[0m\u001b[0;34m)\u001b[0m\u001b[0;34m.\u001b[0m\u001b[0mT\u001b[0m\u001b[0;34m)\u001b[0m\u001b[0;34m\u001b[0m\u001b[0m\n\u001b[1;32m   6362\u001b[0m     return _convert_object_array(content, columns, dtype=dtype,\n\u001b[0;32m-> 6363\u001b[0;31m                                  coerce_float=coerce_float)\n\u001b[0m\u001b[1;32m   6364\u001b[0m \u001b[0;34m\u001b[0m\u001b[0m\n\u001b[1;32m   6365\u001b[0m \u001b[0;34m\u001b[0m\u001b[0m\n",
      "\u001b[0;32m~/anaconda3/lib/python3.6/site-packages/pandas/core/frame.py\u001b[0m in \u001b[0;36m_convert_object_array\u001b[0;34m(content, columns, coerce_float, dtype)\u001b[0m\n\u001b[1;32m   6418\u001b[0m             \u001b[0;31m# caller's responsibility to check for this...\u001b[0m\u001b[0;34m\u001b[0m\u001b[0;34m\u001b[0m\u001b[0m\n\u001b[1;32m   6419\u001b[0m             raise AssertionError('%d columns passed, passed data had %s '\n\u001b[0;32m-> 6420\u001b[0;31m                                  'columns' % (len(columns), len(content)))\n\u001b[0m\u001b[1;32m   6421\u001b[0m \u001b[0;34m\u001b[0m\u001b[0m\n\u001b[1;32m   6422\u001b[0m     \u001b[0;31m# provide soft conversion of object dtypes\u001b[0m\u001b[0;34m\u001b[0m\u001b[0;34m\u001b[0m\u001b[0m\n",
      "\u001b[0;31mAssertionError\u001b[0m: 46 columns passed, passed data had 63 columns"
     ]
    }
   ],
   "source": [
    "year = 2015\n",
    "#for year in Years:\n",
    "\n",
    "rLog = pd.read_csv(\"./RetrosheetData/GameLogs/gl\"+str(year)+\".txt\", header=None)\n",
    "\n",
    "\n",
    "Data = []\n",
    "Columns=['Date', 'Stadium ID','Umpire ID','Umpire Name','Home Team','Visiting Team','Home Pitcher ID','Home Pitcher Name','Away Pitcher ID','Away Pitcher Name','HBO 1 ID','HBO 1 Name','HBO 1 Pos Key','HBO 2 ID','HBO 2 Name','HBO 2 Pos Key', 'HBO 3 ID','HBO 3 Name','HBO 3 Pos Key','HBO 4 ID','HBO 4 Name','HBO 4 Pos Key','HBO 5 ID','HBO 5 Name','HBO 5 Pos Key','HBO 6 ID','HBO 6 Name','HBO 6 Pos Key','HBO 7 ID','HBO 7 Name','HBO 7 Pos Key','HBO 8 ID','HBO 8 Name','HBO 8 Pos Key','HBO 9 ID','HBO 9 Name','HBO 9 Pos Key','ABO 1 ID','ABO 1 Name','ABO 1 Pos Key','ABO 2 ID','ABO 2 Name','ABO 2 Pos Key','ABO 3 ID','ABO 3 Name','ABO 3 Pos Key','ABO 4 ID','ABO 4 Name','ABO 4 Pos Key','ABO 5 ID','ABO 5 Name','ABO 5 Pos Key','ABO 6 ID','ABO 6 Name','ABO 6 Pos Key','ABO 7 ID','ABO 7 Name','ABO 7 Pos Key','ABO 7 Pos Key','ABO 8 ID','ABO 8 Name','ABO 8 Pos Key','ABO 9 ID','ABO 9 Name','ABO 9 Pos Key']\n",
    "for row in rLog.values:\n",
    "    #Date\n",
    "    Date = str(row[0])[:4]+'-'+str(row[0])[4:6]+'-'+str(row[0])[6:8]\n",
    "\n",
    "    #Time\n",
    "    Time = row[12]\n",
    "\n",
    "    #StadiumID\n",
    "    StadiumID = row[16]\n",
    "\n",
    "    #HomePlate Umpire\n",
    "    UmpireH = row[77:79].tolist()\n",
    "\n",
    "    #HomeTeam\n",
    "    Home = row[6]\n",
    "\n",
    "    #AwayTeam\n",
    "    Away = row[3]\n",
    "\n",
    "    #Home Team Starting Pitcher\n",
    "    PitcherStartH = row[103:105].tolist()\n",
    "\n",
    "    #Away Team Starting Pitcher\n",
    "    PitcherStartA = row[101:103].tolist()\n",
    "\n",
    "    #Home Team Roster - In batting order\n",
    "    HomeTeamRoster = row[132:158].tolist()\n",
    "\n",
    "    #Away Team Roster - In batting order\n",
    "    AwayTeamRoster = row[106:132].tolist()\n",
    "\n",
    "    OutRow = [Date,Time,StadiumID]+UmpireH+[Home,Away]+PitcherStartH+PitcherStartA+HomeTeamRoster+AwayTeamRoster\n",
    "    \n",
    "    Data.append(OutRow)\n",
    "    \n",
    "OutDF = pd.DataFrame(data=Data,columns=Columns)"
   ]
  },
  {
   "cell_type": "code",
   "execution_count": 11,
   "metadata": {},
   "outputs": [
    {
     "data": {
      "text/plain": [
       "['pagaa001',\n",
       " 'Angel Pagan',\n",
       " 8,\n",
       " 'tomlk001',\n",
       " 'Kelby Tomlinson',\n",
       " 4,\n",
       " 'duffm002',\n",
       " 'Matt Duffy',\n",
       " 5,\n",
       " 'poseb001',\n",
       " 'Buster Posey',\n",
       " 3,\n",
       " 'parkj002',\n",
       " 'Jarrett Parker',\n",
       " 9,\n",
       " 'willm008',\n",
       " 'Mac Williamson',\n",
       " 7,\n",
       " 'noonn001',\n",
       " 'Nick Noonan',\n",
       " 6,\n",
       " 'willj005',\n",
       " 'Jackson Williams',\n",
       " 2,\n",
       " 'cainm001',\n",
       " 'Matt Cain']"
      ]
     },
     "execution_count": 11,
     "metadata": {},
     "output_type": "execute_result"
    }
   ],
   "source": [
    "  HomeTeamRoster"
   ]
  },
  {
   "cell_type": "code",
   "execution_count": 9,
   "metadata": {},
   "outputs": [
    {
     "data": {
      "text/plain": [
       "['pagaa001',\n",
       " 'Angel Pagan',\n",
       " 8,\n",
       " 'tomlk001',\n",
       " 'Kelby Tomlinson',\n",
       " 4,\n",
       " 'duffm002',\n",
       " 'Matt Duffy',\n",
       " 5,\n",
       " 'poseb001',\n",
       " 'Buster Posey',\n",
       " 3,\n",
       " 'parkj002',\n",
       " 'Jarrett Parker',\n",
       " 9,\n",
       " 'willm008',\n",
       " 'Mac Williamson',\n",
       " 7,\n",
       " 'noonn001',\n",
       " 'Nick Noonan',\n",
       " 6,\n",
       " 'willj005',\n",
       " 'Jackson Williams',\n",
       " 2,\n",
       " 'cainm001',\n",
       " 'Matt Cain']"
      ]
     },
     "execution_count": 9,
     "metadata": {},
     "output_type": "execute_result"
    }
   ],
   "source": [
    "HomeTeamRoster"
   ]
  },
  {
   "cell_type": "code",
   "execution_count": null,
   "metadata": {},
   "outputs": [],
   "source": []
  }
 ],
 "metadata": {
  "kernelspec": {
   "display_name": "Python 3",
   "language": "python",
   "name": "python3"
  },
  "language_info": {
   "codemirror_mode": {
    "name": "ipython",
    "version": 3
   },
   "file_extension": ".py",
   "mimetype": "text/x-python",
   "name": "python",
   "nbconvert_exporter": "python",
   "pygments_lexer": "ipython3",
   "version": "3.6.4"
  }
 },
 "nbformat": 4,
 "nbformat_minor": 2
}
