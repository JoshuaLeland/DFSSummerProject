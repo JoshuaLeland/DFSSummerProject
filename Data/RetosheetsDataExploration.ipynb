{
 "cells": [
  {
   "cell_type": "code",
   "execution_count": 1,
   "metadata": {},
   "outputs": [],
   "source": [
    "import pandas as pd"
   ]
  },
  {
   "cell_type": "code",
   "execution_count": 2,
   "metadata": {},
   "outputs": [],
   "source": [
    "Years = range(1990,2017)\n",
    "year=2015"
   ]
  },
  {
   "cell_type": "code",
   "execution_count": 11,
   "metadata": {},
   "outputs": [],
   "source": [
    "ScheduleLog = pd.read_csv('./RetrosheetData/Schedules/'+str(year)+'SKED.TXT',header=None)\n",
    "ScheduleLog.columns = ['Date', 'GameNumber','Day of Week', 'Away Team', 'League Away', 'Game# Away', 'Home Team', 'League Home','Game# Home','Game Time', 'Postpone', 'Make Up Date']"
   ]
  },
  {
   "cell_type": "code",
   "execution_count": 12,
   "metadata": {},
   "outputs": [
    {
     "data": {
      "text/html": [
       "<div>\n",
       "<style scoped>\n",
       "    .dataframe tbody tr th:only-of-type {\n",
       "        vertical-align: middle;\n",
       "    }\n",
       "\n",
       "    .dataframe tbody tr th {\n",
       "        vertical-align: top;\n",
       "    }\n",
       "\n",
       "    .dataframe thead th {\n",
       "        text-align: right;\n",
       "    }\n",
       "</style>\n",
       "<table border=\"1\" class=\"dataframe\">\n",
       "  <thead>\n",
       "    <tr style=\"text-align: right;\">\n",
       "      <th></th>\n",
       "      <th>Date</th>\n",
       "      <th>GameNumber</th>\n",
       "      <th>Day of Week</th>\n",
       "      <th>Away Team</th>\n",
       "      <th>League Away</th>\n",
       "      <th>Game# Away</th>\n",
       "      <th>Home Team</th>\n",
       "      <th>League Home</th>\n",
       "      <th>Game# Home</th>\n",
       "      <th>Game Time</th>\n",
       "      <th>Postpone</th>\n",
       "      <th>Make Up Date</th>\n",
       "    </tr>\n",
       "  </thead>\n",
       "  <tbody>\n",
       "    <tr>\n",
       "      <th>0</th>\n",
       "      <td>20150405</td>\n",
       "      <td>0</td>\n",
       "      <td>Sun</td>\n",
       "      <td>SLN</td>\n",
       "      <td>NL</td>\n",
       "      <td>1</td>\n",
       "      <td>CHN</td>\n",
       "      <td>NL</td>\n",
       "      <td>1</td>\n",
       "      <td>n</td>\n",
       "      <td>NaN</td>\n",
       "      <td>NaN</td>\n",
       "    </tr>\n",
       "    <tr>\n",
       "      <th>1</th>\n",
       "      <td>20150406</td>\n",
       "      <td>0</td>\n",
       "      <td>Mon</td>\n",
       "      <td>ANA</td>\n",
       "      <td>AL</td>\n",
       "      <td>1</td>\n",
       "      <td>SEA</td>\n",
       "      <td>AL</td>\n",
       "      <td>1</td>\n",
       "      <td>d</td>\n",
       "      <td>NaN</td>\n",
       "      <td>NaN</td>\n",
       "    </tr>\n",
       "    <tr>\n",
       "      <th>2</th>\n",
       "      <td>20150406</td>\n",
       "      <td>0</td>\n",
       "      <td>Mon</td>\n",
       "      <td>ATL</td>\n",
       "      <td>NL</td>\n",
       "      <td>1</td>\n",
       "      <td>MIA</td>\n",
       "      <td>NL</td>\n",
       "      <td>1</td>\n",
       "      <td>d</td>\n",
       "      <td>NaN</td>\n",
       "      <td>NaN</td>\n",
       "    </tr>\n",
       "    <tr>\n",
       "      <th>3</th>\n",
       "      <td>20150406</td>\n",
       "      <td>0</td>\n",
       "      <td>Mon</td>\n",
       "      <td>BAL</td>\n",
       "      <td>AL</td>\n",
       "      <td>1</td>\n",
       "      <td>TBA</td>\n",
       "      <td>AL</td>\n",
       "      <td>1</td>\n",
       "      <td>d</td>\n",
       "      <td>NaN</td>\n",
       "      <td>NaN</td>\n",
       "    </tr>\n",
       "    <tr>\n",
       "      <th>4</th>\n",
       "      <td>20150406</td>\n",
       "      <td>0</td>\n",
       "      <td>Mon</td>\n",
       "      <td>BOS</td>\n",
       "      <td>AL</td>\n",
       "      <td>1</td>\n",
       "      <td>PHI</td>\n",
       "      <td>NL</td>\n",
       "      <td>1</td>\n",
       "      <td>d</td>\n",
       "      <td>NaN</td>\n",
       "      <td>NaN</td>\n",
       "    </tr>\n",
       "  </tbody>\n",
       "</table>\n",
       "</div>"
      ],
      "text/plain": [
       "       Date  GameNumber Day of Week Away Team League Away  Game# Away  \\\n",
       "0  20150405           0         Sun       SLN          NL           1   \n",
       "1  20150406           0         Mon       ANA          AL           1   \n",
       "2  20150406           0         Mon       ATL          NL           1   \n",
       "3  20150406           0         Mon       BAL          AL           1   \n",
       "4  20150406           0         Mon       BOS          AL           1   \n",
       "\n",
       "  Home Team League Home  Game# Home Game Time  Postpone  Make Up Date  \n",
       "0       CHN          NL           1         n       NaN           NaN  \n",
       "1       SEA          AL           1         d       NaN           NaN  \n",
       "2       MIA          NL           1         d       NaN           NaN  \n",
       "3       TBA          AL           1         d       NaN           NaN  \n",
       "4       PHI          NL           1         d       NaN           NaN  "
      ]
     },
     "execution_count": 12,
     "metadata": {},
     "output_type": "execute_result"
    }
   ],
   "source": [
    "ScheduleLog.head()"
   ]
  },
  {
   "cell_type": "code",
   "execution_count": 16,
   "metadata": {},
   "outputs": [],
   "source": [
    "GameLog = pd.read_csv('./RetrosheetData/GameLogs/gl'+str(year)+'.txt',header=None)"
   ]
  },
  {
   "cell_type": "code",
   "execution_count": 21,
   "metadata": {},
   "outputs": [
    {
     "data": {
      "text/plain": [
       "array(['wintm901', 'Mike Winters'], dtype=object)"
      ]
     },
     "execution_count": 21,
     "metadata": {},
     "output_type": "execute_result"
    }
   ],
   "source": [
    "#Home plate Ump\n",
    "GameLog.values[0,77:79]"
   ]
  },
  {
   "cell_type": "code",
   "execution_count": 22,
   "metadata": {},
   "outputs": [
    {
     "data": {
      "text/plain": [
       "nan"
      ]
     },
     "execution_count": 22,
     "metadata": {},
     "output_type": "execute_result"
    }
   ],
   "source": [
    "#Completion info.\n",
    "GameLog.values[0,13]"
   ]
  },
  {
   "cell_type": "code",
   "execution_count": 23,
   "metadata": {},
   "outputs": [
    {
     "data": {
      "text/plain": [
       "'CHI11'"
      ]
     },
     "execution_count": 23,
     "metadata": {},
     "output_type": "execute_result"
    }
   ],
   "source": [
    "#Park ID\n",
    "GameLog.values[0,16]"
   ]
  },
  {
   "cell_type": "code",
   "execution_count": 24,
   "metadata": {},
   "outputs": [
    {
     "data": {
      "text/plain": [
       "array([36, 10, 3, 0, 0, 3, 0, 0, 0, 4, 1, 11, 4, 1, 0, 0, 10],\n",
       "      dtype=object)"
      ]
     },
     "execution_count": 24,
     "metadata": {},
     "output_type": "execute_result"
    }
   ],
   "source": [
    "#Visiting Team Batting Stats\n",
    "GameLog.values[0,21:38]"
   ]
  },
  {
   "cell_type": "code",
   "execution_count": 25,
   "metadata": {},
   "outputs": [
    {
     "data": {
      "text/plain": [
       "array([4, 0, 0, 0, 0], dtype=object)"
      ]
     },
     "execution_count": 25,
     "metadata": {},
     "output_type": "execute_result"
    }
   ],
   "source": [
    "#Visiting Team Pitching Stats\n",
    "GameLog.values[0,38:43]"
   ]
  },
  {
   "cell_type": "code",
   "execution_count": 28,
   "metadata": {},
   "outputs": [
    {
     "data": {
      "text/plain": [
       "array(['carpm002', 'Matt Carpenter', 5, 'heywj001', 'Jason Heyward', 9,\n",
       "       'hollm001', 'Matt Holliday', 7, 'peraj001', 'Jhonny Peralta', 6,\n",
       "       'adamm002', 'Matt Adams', 3, 'moliy001', 'Yadier Molina', 2,\n",
       "       'wongk001', 'Kolten Wong', 4, 'jay-j001', 'Jon Jay', 8, 'waina001',\n",
       "       'Adam Wainwright', 1], dtype=object)"
      ]
     },
     "execution_count": 28,
     "metadata": {},
     "output_type": "execute_result"
    }
   ],
   "source": [
    "#VisitingStarters\n",
    "# 1 (pitcher), 2 (catcher), 3 (first baseman), 4 (second baseman), 5 (third baseman), 6 (shortstop), 7 (left fielder), 8 (center fielder), and 9 (right fielder).\n",
    "GameLog.values[0,105:132]"
   ]
  },
  {
   "cell_type": "code",
   "execution_count": null,
   "metadata": {},
   "outputs": [],
   "source": []
  }
 ],
 "metadata": {
  "kernelspec": {
   "display_name": "Python 3",
   "language": "python",
   "name": "python3"
  },
  "language_info": {
   "codemirror_mode": {
    "name": "ipython",
    "version": 3
   },
   "file_extension": ".py",
   "mimetype": "text/x-python",
   "name": "python",
   "nbconvert_exporter": "python",
   "pygments_lexer": "ipython3",
   "version": "3.6.4"
  }
 },
 "nbformat": 4,
 "nbformat_minor": 2
}
