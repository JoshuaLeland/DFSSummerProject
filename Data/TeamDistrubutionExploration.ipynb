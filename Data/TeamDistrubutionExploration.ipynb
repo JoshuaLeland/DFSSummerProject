{
 "cells": [
  {
   "cell_type": "code",
   "execution_count": 55,
   "metadata": {},
   "outputs": [],
   "source": [
    "import numpy as np\n",
    "import matplotlib.pyplot as plt\n",
    "import pandas as pd\n",
    "import matplotlib.mlab as mlab\n",
    "import scipy.stats as stats"
   ]
  },
  {
   "cell_type": "code",
   "execution_count": 56,
   "metadata": {},
   "outputs": [],
   "source": [
    "#Load the Player List \n",
    "BatterList = pd.read_csv(\"./DataBaseCrawler/MLBBatterRoster2018.csv\",index_col=0)\n",
    "PitcherList = pd.read_csv(\"./DataBaseCrawler/MLBPitcherRoster2018.csv\",index_col=0)\n",
    "BatterList = BatterList[['Name', 'Team','ID']]\n",
    "PitcherList= PitcherList[['Name', 'Team','ID']]"
   ]
  },
  {
   "cell_type": "code",
   "execution_count": 57,
   "metadata": {},
   "outputs": [],
   "source": [
    "#Get IDs for our line up.\n",
    "NamesBatter = ['Nolan Arenado','Charlie Blackmon','Trevor Story','Bryce Harper','Anthony Rizzo','Corey Dickerson','Willson Contreras','Buster Posey']\n",
    "NamesPitcher = ['Lance Lynn','Gio Gonzalez']\n",
    "LineUpBatter = BatterList[BatterList['Name'].isin(NamesBatter)]\n",
    "LineUpPitcher = PitcherList[PitcherList['Name'].isin(NamesPitcher)]"
   ]
  },
  {
   "cell_type": "code",
   "execution_count": 58,
   "metadata": {},
   "outputs": [
    {
     "data": {
      "text/html": [
       "<div>\n",
       "<style scoped>\n",
       "    .dataframe tbody tr th:only-of-type {\n",
       "        vertical-align: middle;\n",
       "    }\n",
       "\n",
       "    .dataframe tbody tr th {\n",
       "        vertical-align: top;\n",
       "    }\n",
       "\n",
       "    .dataframe thead th {\n",
       "        text-align: right;\n",
       "    }\n",
       "</style>\n",
       "<table border=\"1\" class=\"dataframe\">\n",
       "  <thead>\n",
       "    <tr style=\"text-align: right;\">\n",
       "      <th></th>\n",
       "      <th>Name</th>\n",
       "      <th>Team</th>\n",
       "      <th>ID</th>\n",
       "    </tr>\n",
       "  </thead>\n",
       "  <tbody>\n",
       "    <tr>\n",
       "      <th>14</th>\n",
       "      <td>Lance Lynn</td>\n",
       "      <td>Yankees</td>\n",
       "      <td>2520</td>\n",
       "    </tr>\n",
       "    <tr>\n",
       "      <th>329</th>\n",
       "      <td>Gio Gonzalez</td>\n",
       "      <td>Nationals</td>\n",
       "      <td>7448</td>\n",
       "    </tr>\n",
       "    <tr>\n",
       "      <th>526</th>\n",
       "      <td>Lance Lynn</td>\n",
       "      <td>Twins</td>\n",
       "      <td>2520</td>\n",
       "    </tr>\n",
       "  </tbody>\n",
       "</table>\n",
       "</div>"
      ],
      "text/plain": [
       "             Name       Team    ID\n",
       "14     Lance Lynn    Yankees  2520\n",
       "329  Gio Gonzalez  Nationals  7448\n",
       "526    Lance Lynn      Twins  2520"
      ]
     },
     "execution_count": 58,
     "metadata": {},
     "output_type": "execute_result"
    }
   ],
   "source": [
    "LineUpPitcher.head()"
   ]
  },
  {
   "cell_type": "code",
   "execution_count": 59,
   "metadata": {},
   "outputs": [
    {
     "data": {
      "text/html": [
       "<div>\n",
       "<style scoped>\n",
       "    .dataframe tbody tr th:only-of-type {\n",
       "        vertical-align: middle;\n",
       "    }\n",
       "\n",
       "    .dataframe tbody tr th {\n",
       "        vertical-align: top;\n",
       "    }\n",
       "\n",
       "    .dataframe thead th {\n",
       "        text-align: right;\n",
       "    }\n",
       "</style>\n",
       "<table border=\"1\" class=\"dataframe\">\n",
       "  <thead>\n",
       "    <tr style=\"text-align: right;\">\n",
       "      <th></th>\n",
       "      <th>Name</th>\n",
       "      <th>Team</th>\n",
       "      <th>ID</th>\n",
       "    </tr>\n",
       "  </thead>\n",
       "  <tbody>\n",
       "    <tr>\n",
       "      <th>44</th>\n",
       "      <td>Anthony Rizzo</td>\n",
       "      <td>Cubs</td>\n",
       "      <td>3473</td>\n",
       "    </tr>\n",
       "    <tr>\n",
       "      <th>50</th>\n",
       "      <td>Willson Contreras</td>\n",
       "      <td>Cubs</td>\n",
       "      <td>11609</td>\n",
       "    </tr>\n",
       "    <tr>\n",
       "      <th>243</th>\n",
       "      <td>Bryce Harper</td>\n",
       "      <td>Nationals</td>\n",
       "      <td>11579</td>\n",
       "    </tr>\n",
       "    <tr>\n",
       "      <th>305</th>\n",
       "      <td>Corey Dickerson</td>\n",
       "      <td>Pirates</td>\n",
       "      <td>10762</td>\n",
       "    </tr>\n",
       "    <tr>\n",
       "      <th>434</th>\n",
       "      <td>Buster Posey</td>\n",
       "      <td>Giants</td>\n",
       "      <td>9166</td>\n",
       "    </tr>\n",
       "    <tr>\n",
       "      <th>467</th>\n",
       "      <td>Nolan Arenado</td>\n",
       "      <td>Rockies</td>\n",
       "      <td>9777</td>\n",
       "    </tr>\n",
       "    <tr>\n",
       "      <th>470</th>\n",
       "      <td>Charlie Blackmon</td>\n",
       "      <td>Rockies</td>\n",
       "      <td>7859</td>\n",
       "    </tr>\n",
       "    <tr>\n",
       "      <th>476</th>\n",
       "      <td>Trevor Story</td>\n",
       "      <td>Rockies</td>\n",
       "      <td>12564</td>\n",
       "    </tr>\n",
       "  </tbody>\n",
       "</table>\n",
       "</div>"
      ],
      "text/plain": [
       "                  Name       Team     ID\n",
       "44       Anthony Rizzo       Cubs   3473\n",
       "50   Willson Contreras       Cubs  11609\n",
       "243       Bryce Harper  Nationals  11579\n",
       "305    Corey Dickerson    Pirates  10762\n",
       "434       Buster Posey     Giants   9166\n",
       "467      Nolan Arenado    Rockies   9777\n",
       "470   Charlie Blackmon    Rockies   7859\n",
       "476       Trevor Story    Rockies  12564"
      ]
     },
     "execution_count": 59,
     "metadata": {},
     "output_type": "execute_result"
    }
   ],
   "source": [
    "LineUpBatter"
   ]
  },
  {
   "cell_type": "code",
   "execution_count": 60,
   "metadata": {},
   "outputs": [],
   "source": [
    "#Get the Gamelogs for each Pitcher\n",
    "Gio = pd.read_csv(\"./DataBaseCrawler/GameLogs/Pitchers/2520GL.csv\",index_col=0)\n",
    "Gio= Gio['DKfp'][1:].values\n",
    "Dan = pd.read_csv(\"./DataBaseCrawler/GameLogs/Pitchers/7448GL.csv\",index_col=0)\n",
    "Dan = Dan['DKfp'][1:].values"
   ]
  },
  {
   "cell_type": "code",
   "execution_count": 63,
   "metadata": {},
   "outputs": [],
   "source": [
    "#Sum the points on the given days\n",
    "Total = Dan[:207] + Gio[:207]\n",
    "Lengths = [len(Gio), len(Dan)]\n",
    "for IDs in LineUpBatter['ID']:\n",
    "    Batter = pd.read_csv(\"./DataBaseCrawler/GameLogs/Batters/\"+str(IDs)+\"GL.csv\",index_col=0)\n",
    "    Row = Batter['DKfp'][1:].values\n",
    "    Total = Total + Row[:207]\n",
    "    Lengths.append(len(Row))"
   ]
  },
  {
   "cell_type": "code",
   "execution_count": 64,
   "metadata": {},
   "outputs": [
    {
     "data": {
      "text/plain": [
       "[207, 306, 1023, 299, 894, 669, 1141, 840, 884, 365]"
      ]
     },
     "execution_count": 64,
     "metadata": {},
     "output_type": "execute_result"
    }
   ],
   "source": [
    "Lengths"
   ]
  },
  {
   "cell_type": "code",
   "execution_count": 65,
   "metadata": {},
   "outputs": [
    {
     "data": {
      "image/png": "[encoded data removed]",
      "text/plain": [
       "<matplotlib.figure.Figure at 0x7f0bb0bc0b00>"
      ]
     },
     "metadata": {},
     "output_type": "display_data"
    }
   ],
   "source": [
    "#Make Best Fits\n",
    "(muN, sigmaN) = stats.norm.fit(Total)\n",
    "(muL, sigmaL) = stats.laplace.fit(Total)\n",
    "n, bins, patches = plt.hist(Total, 30, normed=1, facecolor='green', alpha=0.75)\n",
    "y = mlab.normpdf(bins, muN, sigmaN)\n",
    "y1 = stats.laplace.pdf(bins, muL, sigmaL)\n",
    "l = plt.plot(bins, y, 'r--', linewidth=2)\n",
    "l = plt.plot(bins, y1, 'k--', linewidth=2)"
   ]
  },
  {
   "cell_type": "code",
   "execution_count": 71,
   "metadata": {},
   "outputs": [
    {
     "data": {
      "text/plain": [
       "105.63900966183576"
      ]
     },
     "execution_count": 71,
     "metadata": {},
     "output_type": "execute_result"
    }
   ],
   "source": [
    "muN"
   ]
  },
  {
   "cell_type": "code",
   "execution_count": 72,
   "metadata": {},
   "outputs": [
    {
     "data": {
      "text/plain": [
       "850.2832638743026"
      ]
     },
     "execution_count": 72,
     "metadata": {},
     "output_type": "execute_result"
    }
   ],
   "source": [
    "sigmaN**2"
   ]
  },
  {
   "cell_type": "code",
   "execution_count": 73,
   "metadata": {},
   "outputs": [],
   "source": [
    "(muL, sigmaL) = stats.laplace.fit(Total)"
   ]
  },
  {
   "cell_type": "code",
   "execution_count": 74,
   "metadata": {},
   "outputs": [
    {
     "data": {
      "text/plain": [
       "105.85000000671427"
      ]
     },
     "execution_count": 74,
     "metadata": {},
     "output_type": "execute_result"
    }
   ],
   "source": [
    "muL"
   ]
  },
  {
   "cell_type": "code",
   "execution_count": 75,
   "metadata": {},
   "outputs": [
    {
     "data": {
      "text/plain": [
       "23.390744348201963"
      ]
     },
     "execution_count": 75,
     "metadata": {},
     "output_type": "execute_result"
    }
   ],
   "source": [
    "sigmaL"
   ]
  },
  {
   "cell_type": "code",
   "execution_count": null,
   "metadata": {},
   "outputs": [],
   "source": []
  }
 ],
 "metadata": {
  "kernelspec": {
   "display_name": "Python 3",
   "language": "python",
   "name": "python3"
  },
  "language_info": {
   "codemirror_mode": {
    "name": "ipython",
    "version": 3
   },
   "file_extension": ".py",
   "mimetype": "text/x-python",
   "name": "python",
   "nbconvert_exporter": "python",
   "pygments_lexer": "ipython3",
   "version": "3.6.4"
  }
 },
 "nbformat": 4,
 "nbformat_minor": 2
}
