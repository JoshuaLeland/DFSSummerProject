{
 "cells": [
  {
   "cell_type": "code",
   "execution_count": 1,
   "metadata": {},
   "outputs": [],
   "source": [
    "import pandas as pd\n",
    "import numpy as np\n",
    "import glob"
   ]
  },
  {
   "cell_type": "code",
   "execution_count": 2,
   "metadata": {},
   "outputs": [],
   "source": [
    "BattClusterInfo = pd.read_csv('../Predictions/BatterClusters/PredBattingClusters.csv',index_col=0)"
   ]
  },
  {
   "cell_type": "code",
   "execution_count": 3,
   "metadata": {},
   "outputs": [],
   "source": [
    "ClusterGroupsActive = []\n",
    "BattClusterInfo = BattClusterInfo[BattClusterInfo['Active']=='Y']\n",
    "for i in range(9):\n",
    "    ClusterGroupsActive.append(BattClusterInfo[BattClusterInfo['Labels']==i])"
   ]
  },
  {
   "cell_type": "code",
   "execution_count": 4,
   "metadata": {},
   "outputs": [
    {
     "data": {
      "text/html": [
       "<div>\n",
       "<style scoped>\n",
       "    .dataframe tbody tr th:only-of-type {\n",
       "        vertical-align: middle;\n",
       "    }\n",
       "\n",
       "    .dataframe tbody tr th {\n",
       "        vertical-align: top;\n",
       "    }\n",
       "\n",
       "    .dataframe thead th {\n",
       "        text-align: right;\n",
       "    }\n",
       "</style>\n",
       "<table border=\"1\" class=\"dataframe\">\n",
       "  <thead>\n",
       "    <tr style=\"text-align: right;\">\n",
       "      <th></th>\n",
       "      <th>Name</th>\n",
       "      <th>ID</th>\n",
       "      <th>Labels</th>\n",
       "      <th>Active</th>\n",
       "    </tr>\n",
       "  </thead>\n",
       "  <tbody>\n",
       "    <tr>\n",
       "      <th>3</th>\n",
       "      <td>Eduardo Nunez</td>\n",
       "      <td>6848</td>\n",
       "      <td>0</td>\n",
       "      <td>Y</td>\n",
       "    </tr>\n",
       "    <tr>\n",
       "      <th>27</th>\n",
       "      <td>Brett Gardner</td>\n",
       "      <td>9927</td>\n",
       "      <td>0</td>\n",
       "      <td>Y</td>\n",
       "    </tr>\n",
       "    <tr>\n",
       "      <th>44</th>\n",
       "      <td>Leonys Martin</td>\n",
       "      <td>11846</td>\n",
       "      <td>0</td>\n",
       "      <td>Y</td>\n",
       "    </tr>\n",
       "    <tr>\n",
       "      <th>50</th>\n",
       "      <td>Rajai Davis</td>\n",
       "      <td>3708</td>\n",
       "      <td>0</td>\n",
       "      <td>Y</td>\n",
       "    </tr>\n",
       "    <tr>\n",
       "      <th>78</th>\n",
       "      <td>Ender Inciarte</td>\n",
       "      <td>4922</td>\n",
       "      <td>0</td>\n",
       "      <td>Y</td>\n",
       "    </tr>\n",
       "  </tbody>\n",
       "</table>\n",
       "</div>"
      ],
      "text/plain": [
       "              Name     ID  Labels Active\n",
       "3    Eduardo Nunez   6848       0      Y\n",
       "27   Brett Gardner   9927       0      Y\n",
       "44   Leonys Martin  11846       0      Y\n",
       "50     Rajai Davis   3708       0      Y\n",
       "78  Ender Inciarte   4922       0      Y"
      ]
     },
     "execution_count": 4,
     "metadata": {},
     "output_type": "execute_result"
    }
   ],
   "source": [
    "ClusterGroupsActive[0].head()"
   ]
  },
  {
   "cell_type": "code",
   "execution_count": 5,
   "metadata": {},
   "outputs": [],
   "source": [
    "#Get SaberSim Data\n",
    "FileNames=glob.glob('./SaberSimProjections/*')\n",
    "DFList=[]\n",
    "for name in FileNames:\n",
    "    DFList.append(pd.read_csv(name))\n",
    "SeasonResults = pd.concat(DFList)"
   ]
  },
  {
   "cell_type": "code",
   "execution_count": 6,
   "metadata": {},
   "outputs": [],
   "source": [
    "VarClusters=[]\n",
    "for i in range(9):\n",
    "    VarList=[]\n",
    "    MeanList=[]\n",
    "    for name in ClusterGroupsActive[i]['Name'].values:\n",
    "        #Get data for name\n",
    "        Results=SeasonResults[SeasonResults['Name']==name]\n",
    "        Error = Results['Actual'].values - Results['Projection'].values \n",
    "        Error = Error[~np.isnan(Error)]\n",
    "        if len(Error) > 50:\n",
    "            VarList.append([name, Results['Projection'].mean(), Results['Actual'].mean(), np.var(Error)])\n",
    "    VarClusters.append(VarList)"
   ]
  },
  {
   "cell_type": "code",
   "execution_count": null,
   "metadata": {},
   "outputs": [],
   "source": [
    "for i in range(9):\n",
    "    "
   ]
  },
  {
   "cell_type": "code",
   "execution_count": 7,
   "metadata": {},
   "outputs": [],
   "source": [
    "Vars1 = []\n",
    "Pred = 0\n",
    "for i in range(9):\n",
    "    first = True\n",
    "    for name in ClusterGroupsActive[i]['Name'].values:\n",
    "        Results=SeasonResults[SeasonResults['Name']==name]\n",
    "        Results = Results[Results['Projection']>Pred]\n",
    "        Error = Results['Actual'].values - Results['Projection'].values \n",
    "        Error = Error[~np.isnan(Error)]\n",
    "        if first == True:\n",
    "            Errors = Error\n",
    "            first = False\n",
    "        else:\n",
    "            Errors = np.concatenate((Errors, Error), axis=None)\n",
    "    Vars1.append([np.var(Errors),len(Errors)])"
   ]
  },
  {
   "cell_type": "code",
   "execution_count": 8,
   "metadata": {},
   "outputs": [
    {
     "data": {
      "text/plain": [
       "[[46.77504137216674, 3145],\n",
       " [56.892092375251366, 3060],\n",
       " [35.43162592641158, 1422],\n",
       " [46.766785145785406, 2525],\n",
       " [60.00292353407708, 2850],\n",
       " [58.66101291584621, 4440],\n",
       " [46.833795119116374, 757],\n",
       " [52.55592927515781, 4243],\n",
       " [35.65491762322511, 2949]]"
      ]
     },
     "execution_count": 8,
     "metadata": {},
     "output_type": "execute_result"
    }
   ],
   "source": [
    "Vars1"
   ]
  },
  {
   "cell_type": "code",
   "execution_count": 9,
   "metadata": {},
   "outputs": [],
   "source": [
    "Vars2 = []\n",
    "Pred1 =  6.5\n",
    "Pred2 = 99\n",
    "for i in range(9):\n",
    "    first = True\n",
    "    for name in ClusterGroupsActive[i]['Name'].values:\n",
    "        Results=SeasonResults[SeasonResults['Name']==name]\n",
    "        Results = Results[Results['Projection']>Pred1]\n",
    "        Results = Results[Results['Projection']<Pred2]\n",
    "        Error = Results['Actual'].values - Results['Projection'].values \n",
    "        Error = Error[~np.isnan(Error)]\n",
    "        if first == True:\n",
    "            Errors = Error\n",
    "            first = False\n",
    "        else:\n",
    "            Errors = np.concatenate((Errors, Error), axis=None)\n",
    "    Vars2.append([np.var(Errors),len(Errors)])"
   ]
  },
  {
   "cell_type": "code",
   "execution_count": 10,
   "metadata": {},
   "outputs": [
    {
     "data": {
      "text/plain": [
       "[[48.27087157470213, 2411],\n",
       " [57.80706245104504, 2887],\n",
       " [43.742211652982846, 365],\n",
       " [47.892806868610755, 1863],\n",
       " [60.432514106710364, 2786],\n",
       " [60.12599218786554, 4105],\n",
       " [53.973518831163005, 499],\n",
       " [54.29415853069707, 3755],\n",
       " [37.67982255834096, 1513]]"
      ]
     },
     "execution_count": 10,
     "metadata": {},
     "output_type": "execute_result"
    }
   ],
   "source": [
    "Vars2"
   ]
  },
  {
   "cell_type": "code",
   "execution_count": null,
   "metadata": {},
   "outputs": [],
   "source": []
  }
 ],
 "metadata": {
  "kernelspec": {
   "display_name": "Python 3",
   "language": "python",
   "name": "python3"
  },
  "language_info": {
   "codemirror_mode": {
    "name": "ipython",
    "version": 3
   },
   "file_extension": ".py",
   "mimetype": "text/x-python",
   "name": "python",
   "nbconvert_exporter": "python",
   "pygments_lexer": "ipython3",
   "version": "3.6.4"
  }
 },
 "nbformat": 4,
 "nbformat_minor": 2
}
