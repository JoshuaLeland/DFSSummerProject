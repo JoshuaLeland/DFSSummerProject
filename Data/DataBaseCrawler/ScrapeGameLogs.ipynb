{
 "cells": [
  {
   "cell_type": "code",
   "execution_count": 1,
   "metadata": {},
   "outputs": [],
   "source": [
    "import GameLogCrawler.ScrapeGameLogs as sc\n",
    "import GameLogCrawler.ScrapeSplitLogs as sp\n",
    "import pandas as pd\n",
    "import os"
   ]
  },
  {
   "cell_type": "code",
   "execution_count": null,
   "metadata": {},
   "outputs": [],
   "source": []
  },
  {
   "cell_type": "code",
   "execution_count": 2,
   "metadata": {},
   "outputs": [],
   "source": [
    "BattingRoster = pd.read_csv('MLBBatterRoster2018.csv')"
   ]
  },
  {
   "cell_type": "code",
   "execution_count": 3,
   "metadata": {},
   "outputs": [],
   "source": [
    "Links = BattingRoster['Link']"
   ]
  },
  {
   "cell_type": "code",
   "execution_count": 4,
   "metadata": {},
   "outputs": [],
   "source": [
    "#Links"
   ]
  },
  {
   "cell_type": "code",
   "execution_count": 5,
   "metadata": {},
   "outputs": [],
   "source": [
    "n = len(Links)"
   ]
  },
  {
   "cell_type": "code",
   "execution_count": 6,
   "metadata": {},
   "outputs": [],
   "source": [
    "for i in range(n):\n",
    "    #Get ID number. -- This is probably a gross way to do this but idc.\n",
    "    playerID = Links[i].split(\"?\")[1].split(\"&\")[0].split(\"=\")[1]\n",
    "\n",
    "    #Scrape the id\n",
    "    scraper = sc.BatterGameLog(Links[i])\n",
    "    scraper.scrapeStdGL()\n",
    "    scraper.scrapeAdvGL()\n",
    "\n",
    "    #Get SplitLog\n",
    "    splitscraper = sp.BatterSplitLog('statsplits.aspx?playerid='+playerID+'&season=0')\n",
    "    splitscraper.scrapeSplitLogs()\n",
    "    \n",
    "    \n",
    "    #Save the csv as the id number\n",
    "    scraper.exportGL(playerID+\"GL\", 'GameLogs/Batters', 'Both')\n",
    "    splitscraper.exportGL(playerID, 'GameLogs/Batters', 'Both')"
   ]
  },
  {
   "cell_type": "code",
   "execution_count": null,
   "metadata": {},
   "outputs": [],
   "source": []
  },
  {
   "cell_type": "code",
   "execution_count": 7,
   "metadata": {},
   "outputs": [],
   "source": [
    "PitchingRoster = pd.read_csv('MLBPitcherRoster2018.csv')"
   ]
  },
  {
   "cell_type": "code",
   "execution_count": 8,
   "metadata": {},
   "outputs": [],
   "source": [
    "Links = PitchingRoster['Link']"
   ]
  },
  {
   "cell_type": "code",
   "execution_count": 9,
   "metadata": {},
   "outputs": [],
   "source": [
    "n = len(Links)"
   ]
  },
  {
   "cell_type": "code",
   "execution_count": 10,
   "metadata": {},
   "outputs": [],
   "source": [
    "for i in range(n):\n",
    "    #Get ID number. -- This is probably a gross way to do this but idc.\n",
    "    playerID = Links[i].split(\"?\")[1].split(\"&\")[0].split(\"=\")[1]\n",
    "\n",
    "    #Scrape the id\n",
    "    scraper = sc.PitcherGameLog(Links[i])\n",
    "    scraper.scrapeStdGL()\n",
    "    scraper.scrapeAdvGL()\n",
    "\n",
    "    #Split Pitcher Log\n",
    "    splitscraper = sp.PitcherSplitLog('statsplits.aspx?playerid='+playerID+'&season=0')\n",
    "    splitscraper.scrapeSplitLogs()\n",
    "    \n",
    "    #Save the csv as the id number\n",
    "    scraper.exportGL(playerID+\"GL\", 'GameLogs/Pitchers', 'Both')\n",
    "    splitscraper.exportGL(playerID, 'GameLogs/Pitchers', 'Both')"
   ]
  },
  {
   "cell_type": "code",
   "execution_count": null,
   "metadata": {},
   "outputs": [],
   "source": []
  },
  {
   "cell_type": "code",
   "execution_count": null,
   "metadata": {},
   "outputs": [],
   "source": []
  },
  {
   "cell_type": "code",
   "execution_count": null,
   "metadata": {},
   "outputs": [],
   "source": []
  },
  {
   "cell_type": "code",
   "execution_count": null,
   "metadata": {},
   "outputs": [],
   "source": []
  }
 ],
 "metadata": {
  "kernelspec": {
   "display_name": "Python 3",
   "language": "python",
   "name": "python3"
  },
  "language_info": {
   "codemirror_mode": {
    "name": "ipython",
    "version": 3
   },
   "file_extension": ".py",
   "mimetype": "text/x-python",
   "name": "python",
   "nbconvert_exporter": "python",
   "pygments_lexer": "ipython3",
   "version": "3.6.4"
  }
 },
 "nbformat": 4,
 "nbformat_minor": 2
}
