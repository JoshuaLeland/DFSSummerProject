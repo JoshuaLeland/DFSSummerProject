{
 "cells": [
  {
   "cell_type": "code",
   "execution_count": 1,
   "metadata": {},
   "outputs": [],
   "source": [
    "from TeamCrawler.team_crawler import getTeamInfo\n",
    "import PlayerCrawler.PlayerCrawler as pc\n",
    "import pandas as pd"
   ]
  },
  {
   "cell_type": "code",
   "execution_count": 2,
   "metadata": {},
   "outputs": [
    {
     "data": {
      "text/plain": [
       "30"
      ]
     },
     "execution_count": 2,
     "metadata": {},
     "output_type": "execute_result"
    }
   ],
   "source": [
    "TeamDataFrame = getTeamInfo()\n",
    "n, d = TeamDataFrame.shape\n",
    "n"
   ]
  },
  {
   "cell_type": "code",
   "execution_count": 3,
   "metadata": {},
   "outputs": [
    {
     "data": {
      "text/html": [
       "<div>\n",
       "<style scoped>\n",
       "    .dataframe tbody tr th:only-of-type {\n",
       "        vertical-align: middle;\n",
       "    }\n",
       "\n",
       "    .dataframe tbody tr th {\n",
       "        vertical-align: top;\n",
       "    }\n",
       "\n",
       "    .dataframe thead th {\n",
       "        text-align: right;\n",
       "    }\n",
       "</style>\n",
       "<table border=\"1\" class=\"dataframe\">\n",
       "  <thead>\n",
       "    <tr style=\"text-align: right;\">\n",
       "      <th></th>\n",
       "      <th>TeamName</th>\n",
       "      <th>TeamLinksBat</th>\n",
       "      <th>TeamLinksPit</th>\n",
       "    </tr>\n",
       "  </thead>\n",
       "  <tbody>\n",
       "    <tr>\n",
       "      <th>0</th>\n",
       "      <td>Cubs</td>\n",
       "      <td>leaders.aspx?pos=all&amp;stats=bat&amp;lg=all&amp;qual=0&amp;t...</td>\n",
       "      <td>leaders.aspx?pos=all&amp;stats=pit&amp;lg=all&amp;qual=0&amp;t...</td>\n",
       "    </tr>\n",
       "    <tr>\n",
       "      <th>1</th>\n",
       "      <td>Astros</td>\n",
       "      <td>leaders.aspx?pos=all&amp;stats=bat&amp;lg=all&amp;qual=0&amp;t...</td>\n",
       "      <td>leaders.aspx?pos=all&amp;stats=pit&amp;lg=all&amp;qual=0&amp;t...</td>\n",
       "    </tr>\n",
       "    <tr>\n",
       "      <th>2</th>\n",
       "      <td>Red Sox</td>\n",
       "      <td>leaders.aspx?pos=all&amp;stats=bat&amp;lg=all&amp;qual=0&amp;t...</td>\n",
       "      <td>leaders.aspx?pos=all&amp;stats=pit&amp;lg=all&amp;qual=0&amp;t...</td>\n",
       "    </tr>\n",
       "    <tr>\n",
       "      <th>3</th>\n",
       "      <td>Yankees</td>\n",
       "      <td>leaders.aspx?pos=all&amp;stats=bat&amp;lg=all&amp;qual=0&amp;t...</td>\n",
       "      <td>leaders.aspx?pos=all&amp;stats=pit&amp;lg=all&amp;qual=0&amp;t...</td>\n",
       "    </tr>\n",
       "    <tr>\n",
       "      <th>4</th>\n",
       "      <td>Braves</td>\n",
       "      <td>leaders.aspx?pos=all&amp;stats=bat&amp;lg=all&amp;qual=0&amp;t...</td>\n",
       "      <td>leaders.aspx?pos=all&amp;stats=pit&amp;lg=all&amp;qual=0&amp;t...</td>\n",
       "    </tr>\n",
       "  </tbody>\n",
       "</table>\n",
       "</div>"
      ],
      "text/plain": [
       "  TeamName                                       TeamLinksBat  \\\n",
       "0     Cubs  leaders.aspx?pos=all&stats=bat&lg=all&qual=0&t...   \n",
       "1   Astros  leaders.aspx?pos=all&stats=bat&lg=all&qual=0&t...   \n",
       "2  Red Sox  leaders.aspx?pos=all&stats=bat&lg=all&qual=0&t...   \n",
       "3  Yankees  leaders.aspx?pos=all&stats=bat&lg=all&qual=0&t...   \n",
       "4   Braves  leaders.aspx?pos=all&stats=bat&lg=all&qual=0&t...   \n",
       "\n",
       "                                        TeamLinksPit  \n",
       "0  leaders.aspx?pos=all&stats=pit&lg=all&qual=0&t...  \n",
       "1  leaders.aspx?pos=all&stats=pit&lg=all&qual=0&t...  \n",
       "2  leaders.aspx?pos=all&stats=pit&lg=all&qual=0&t...  \n",
       "3  leaders.aspx?pos=all&stats=pit&lg=all&qual=0&t...  \n",
       "4  leaders.aspx?pos=all&stats=pit&lg=all&qual=0&t...  "
      ]
     },
     "execution_count": 3,
     "metadata": {},
     "output_type": "execute_result"
    }
   ],
   "source": [
    "TeamDataFrame.head()\n",
    "    "
   ]
  },
  {
   "cell_type": "code",
   "execution_count": 4,
   "metadata": {},
   "outputs": [],
   "source": [
    "MasterListBatter = pd.DataFrame()\n",
    "MasterListPitcher = pd.DataFrame()\n",
    "for i in range(n):\n",
    "    #Get Name and Links.\n",
    "    name = TeamDataFrame['TeamName'][i]\n",
    "    batterlink = 'https://www.fangraphs.com/'+TeamDataFrame['TeamLinksBat'][i]\n",
    "    pitcherlink = 'https://www.fangraphs.com/'+TeamDataFrame['TeamLinksPit'][i] \n",
    "    crawler = pc.TeamRoster(batterlink, pitcherlink, name)\n",
    "    if i == 0:\n",
    "        MasterListBatter = crawler.returnBatterList()\n",
    "        MasterListPitcher = crawler.returnPitcherList()\n",
    "    else:\n",
    "        MasterListBatter=pd.concat([MasterListBatter,crawler.returnBatterList()], ignore_index=True)\n",
    "        MasterListPitcher=pd.concat([MasterListPitcher,crawler.returnPitcherList()], ignore_index=True)\n",
    "        \n",
    "        "
   ]
  },
  {
   "cell_type": "code",
   "execution_count": 5,
   "metadata": {},
   "outputs": [
    {
     "data": {
      "text/plain": [
       "'statsd.aspx?playerid=14109&position=OF&type=1&gds=&gde=&season=all'"
      ]
     },
     "execution_count": 5,
     "metadata": {},
     "output_type": "execute_result"
    }
   ],
   "source": [
    "MasterListBatter['Link'][0]"
   ]
  },
  {
   "cell_type": "code",
   "execution_count": 6,
   "metadata": {
    "scrolled": true
   },
   "outputs": [],
   "source": [
    "Links = MasterListPitcher['Link']"
   ]
  },
  {
   "cell_type": "code",
   "execution_count": null,
   "metadata": {},
   "outputs": [],
   "source": []
  },
  {
   "cell_type": "code",
   "execution_count": 7,
   "metadata": {},
   "outputs": [],
   "source": [
    "MasterListPitcher.to_csv(\"MLBPitcherRoster2018.csv\")\n",
    "MasterListBatter.to_csv(\"MLBBatterRoster2018.csv\")"
   ]
  }
 ],
 "metadata": {
  "kernelspec": {
   "display_name": "Python 3",
   "language": "python",
   "name": "python3"
  },
  "language_info": {
   "codemirror_mode": {
    "name": "ipython",
    "version": 3
   },
   "file_extension": ".py",
   "mimetype": "text/x-python",
   "name": "python",
   "nbconvert_exporter": "python",
   "pygments_lexer": "ipython3",
   "version": "3.6.4"
  }
 },
 "nbformat": 4,
 "nbformat_minor": 2
}
