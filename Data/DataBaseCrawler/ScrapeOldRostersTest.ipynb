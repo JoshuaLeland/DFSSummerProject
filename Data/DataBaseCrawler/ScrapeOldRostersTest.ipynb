{
 "cells": [
  {
   "cell_type": "code",
   "execution_count": 1,
   "metadata": {
    "collapsed": true
   },
   "outputs": [],
   "source": [
    "#imports\n",
    "import pandas as pd\n",
    "import requests\n",
    "from bs4 import BeautifulSoup\n",
    "import re\n",
    "import pandas as pd\n",
    "import numpy as np"
   ]
  },
  {
   "cell_type": "code",
   "execution_count": 2,
   "metadata": {},
   "outputs": [
    {
     "data": {
      "text/plain": [
       "array(['Cubs', 'Yankees', 'Red Sox', 'Indians', 'Astros', 'Athletics',\n",
       "       'Dodgers', 'Braves', 'Angels', 'Reds', 'Brewers', 'Cardinals',\n",
       "       'Nationals', 'Rays', 'Diamondbacks', 'Rangers', 'Pirates',\n",
       "       'Mariners', 'Phillies', 'Giants', 'Blue Jays', 'Twins', 'Rockies',\n",
       "       'Mets', 'Marlins', 'White Sox', 'Royals', 'Padres', 'Tigers',\n",
       "       'Orioles'], dtype=object)"
      ]
     },
     "execution_count": 2,
     "metadata": {},
     "output_type": "execute_result"
    }
   ],
   "source": [
    "#Get the Team names\n",
    "Teams = pd.read_csv('MLBTeams2018.csv')\n",
    "Teams = Teams['TeamName'].values\n",
    "Teams"
   ]
  },
  {
   "cell_type": "code",
   "execution_count": 22,
   "metadata": {},
   "outputs": [
    {
     "ename": "IndexError",
     "evalue": "list index out of range",
     "output_type": "error",
     "traceback": [
      "\u001b[0;31m---------------------------------------------------------------------------\u001b[0m",
      "\u001b[0;31mIndexError\u001b[0m                                Traceback (most recent call last)",
      "\u001b[0;32m<ipython-input-22-ff74a93039e7>\u001b[0m in \u001b[0;36m<module>\u001b[0;34m()\u001b[0m\n\u001b[1;32m      2\u001b[0m     \u001b[0mLink\u001b[0m \u001b[0;34m=\u001b[0m \u001b[0;34m'https://www.fangraphs.com/teams/'\u001b[0m\u001b[0;34m+\u001b[0m\u001b[0mTeams\u001b[0m\u001b[0;34m[\u001b[0m\u001b[0mi\u001b[0m\u001b[0;34m]\u001b[0m\u001b[0;34m.\u001b[0m\u001b[0mreplace\u001b[0m\u001b[0;34m(\u001b[0m\u001b[0;34m\" \"\u001b[0m\u001b[0;34m,\u001b[0m \u001b[0;34m\"\"\u001b[0m\u001b[0;34m)\u001b[0m\u001b[0;34m.\u001b[0m\u001b[0mlower\u001b[0m\u001b[0;34m(\u001b[0m\u001b[0;34m)\u001b[0m\u001b[0;34m+\u001b[0m\u001b[0;34m'/stats?season='\u001b[0m\u001b[0;34m+\u001b[0m\u001b[0mstr\u001b[0m\u001b[0;34m(\u001b[0m\u001b[0;36m2000\u001b[0m\u001b[0;34m)\u001b[0m\u001b[0;34m\u001b[0m\u001b[0m\n\u001b[1;32m      3\u001b[0m     \u001b[0msoupStd\u001b[0m \u001b[0;34m=\u001b[0m \u001b[0mBeautifulSoup\u001b[0m\u001b[0;34m(\u001b[0m\u001b[0mrequests\u001b[0m\u001b[0;34m.\u001b[0m\u001b[0mget\u001b[0m\u001b[0;34m(\u001b[0m\u001b[0mLink\u001b[0m\u001b[0;34m)\u001b[0m\u001b[0;34m.\u001b[0m\u001b[0mtext\u001b[0m\u001b[0;34m,\u001b[0m \u001b[0;34m\"html.parser\"\u001b[0m\u001b[0;34m)\u001b[0m\u001b[0;34m\u001b[0m\u001b[0m\n\u001b[0;32m----> 4\u001b[0;31m     \u001b[0mBatterSoup\u001b[0m\u001b[0;34m=\u001b[0m\u001b[0msoupStd\u001b[0m\u001b[0;34m.\u001b[0m\u001b[0mfind_all\u001b[0m\u001b[0;34m(\u001b[0m\u001b[0;34m'div'\u001b[0m\u001b[0;34m,\u001b[0m \u001b[0;34m'team-stats-table'\u001b[0m\u001b[0;34m)\u001b[0m\u001b[0;34m[\u001b[0m\u001b[0;36m0\u001b[0m\u001b[0;34m]\u001b[0m\u001b[0;34m\u001b[0m\u001b[0m\n\u001b[0m",
      "\u001b[0;31mIndexError\u001b[0m: list index out of range"
     ]
    }
   ],
   "source": [
    "Link = 'https://www.fangraphs.com/teams/'+Teams[i].replace(\" \", \"\").lower()+'/stats?season='+str(2000)\n",
    "soupStd = BeautifulSoup(requests.get(Link).text, \"html.parser\")\n",
    "BatterSoup=soupStd.find_all('div', 'team-stats-table')[0]"
   ]
  },
  {
   "cell_type": "code",
   "execution_count": 24,
   "metadata": {},
   "outputs": [
    {
     "data": {
      "text/plain": [
       "'Nationals'"
      ]
     },
     "execution_count": 24,
     "metadata": {},
     "output_type": "execute_result"
    }
   ],
   "source": [
    "Teams[12]"
   ]
  },
  {
   "cell_type": "code",
   "execution_count": 19,
   "metadata": {
    "collapsed": true
   },
   "outputs": [],
   "source": [
    "#Scrape the page\n",
    "soupStd = BeautifulSoup(requests.get(Link).text, \"html.parser\")"
   ]
  },
  {
   "cell_type": "code",
   "execution_count": 20,
   "metadata": {
    "collapsed": true
   },
   "outputs": [],
   "source": [
    "BatterSoup=soupStd.find_all('div', 'team-stats-table')[0]"
   ]
  },
  {
   "cell_type": "code",
   "execution_count": 6,
   "metadata": {
    "collapsed": true
   },
   "outputs": [],
   "source": [
    "BatterLinks = BatterSoup.find_all('a')\n",
    "Name = BatterLinks[0].get_text()\n",
    "Link = BatterLinks[0].get('href')\n",
    "ID = Link.split('=')[1].split('&')[0]\n",
    "Position = Link.split('=')[2]"
   ]
  },
  {
   "cell_type": "code",
   "execution_count": 7,
   "metadata": {
    "collapsed": true
   },
   "outputs": [],
   "source": [
    "Row = [Name,Teams[0] ,Link, int(ID), Position]"
   ]
  },
  {
   "cell_type": "code",
   "execution_count": 8,
   "metadata": {},
   "outputs": [
    {
     "data": {
      "text/plain": [
       "['Sammy Sosa', 'Cubs', '/statss.aspx?playerid=302&position=OF', 302, 'OF']"
      ]
     },
     "execution_count": 8,
     "metadata": {},
     "output_type": "execute_result"
    }
   ],
   "source": [
    "Row"
   ]
  },
  {
   "cell_type": "code",
   "execution_count": 9,
   "metadata": {
    "collapsed": true
   },
   "outputs": [],
   "source": [
    "SPitcherSoup = soupStd.find_all('div', 'team-stats-table')[1]"
   ]
  },
  {
   "cell_type": "code",
   "execution_count": 10,
   "metadata": {},
   "outputs": [
    {
     "data": {
      "text/plain": [
       "[<a href=\"/statss.aspx?playerid=287&amp;position=P\">Jon Lieber</a>,\n",
       " <a href=\"/statss.aspx?playerid=1012824&amp;position=P\">Kevin Tapani</a>,\n",
       " <a href=\"/statss.aspx?playerid=304&amp;position=P\">Kerry Wood</a>,\n",
       " <a href=\"/statss.aspx?playerid=773&amp;position=P\">Scott Downs</a>,\n",
       " <a href=\"/statss.aspx?playerid=1004536&amp;position=P\">Daniel Garibay</a>,\n",
       " <a href=\"/statss.aspx?playerid=1284&amp;position=P\">Todd Van Poppel</a>,\n",
       " <a href=\"/statss.aspx?playerid=1583&amp;position=P\">Andrew Lorraine</a>,\n",
       " <a href=\"/statss.aspx?playerid=1012353&amp;position=P\">Jerry Spradlin</a>,\n",
       " <a href=\"/statss.aspx?playerid=1000319&amp;position=P\">Jamie Arnold</a>,\n",
       " <a href=\"/statss.aspx?playerid=1009462&amp;position=P\">Joey Nation</a>,\n",
       " <a href=\"/statss.aspx?playerid=278&amp;position=P\">Kyle Farnsworth</a>,\n",
       " <a href=\"/statss.aspx?playerid=1283&amp;position=P\">Ismael Valdez</a>,\n",
       " <a href=\"/statss.aspx?playerid=1714&amp;position=P\">Phil Norton</a>,\n",
       " <a href=\"/statss.aspx?playerid=705&amp;position=P\">Ruben Quevedo</a>]"
      ]
     },
     "execution_count": 10,
     "metadata": {},
     "output_type": "execute_result"
    }
   ],
   "source": [
    "SPitcherLinks = SPitcherSoup.find_all('a')\n",
    "Name = SPitcherLinks[0].get_text()\n",
    "Link = SPitcherLinks[0].get('href')\n",
    "ID = Link.split('=')[1].split('&')[0]\n",
    "Position = Link.split('=')[2]\n",
    "Row = [Name,Teams[0] ,Link, int(ID), 'S'+Position]\n",
    "SPitcherLinks"
   ]
  },
  {
   "cell_type": "code",
   "execution_count": 11,
   "metadata": {},
   "outputs": [
    {
     "data": {
      "text/plain": [
       "['Jon Lieber', 'Cubs', '/statss.aspx?playerid=287&position=P', 287, 'SP']"
      ]
     },
     "execution_count": 11,
     "metadata": {},
     "output_type": "execute_result"
    }
   ],
   "source": [
    "Row"
   ]
  },
  {
   "cell_type": "code",
   "execution_count": 12,
   "metadata": {},
   "outputs": [
    {
     "data": {
      "text/plain": [
       "[<a href=\"/statss.aspx?playerid=1139&amp;position=P\">Tim Worrell</a>,\n",
       " <a href=\"/statss.aspx?playerid=1304&amp;position=P\">Felix Heredia</a>,\n",
       " <a href=\"/statss.aspx?playerid=876&amp;position=P\">Mark Guthrie</a>,\n",
       " <a href=\"/statss.aspx?playerid=1000319&amp;position=P\">Jamie Arnold</a>,\n",
       " <a href=\"/statss.aspx?playerid=1284&amp;position=P\">Todd Van Poppel</a>,\n",
       " <a href=\"/statss.aspx?playerid=1012353&amp;position=P\">Jerry Spradlin</a>,\n",
       " <a href=\"/statss.aspx?playerid=296&amp;position=P\">Will Ohman</a>,\n",
       " <a href=\"/statss.aspx?playerid=1004536&amp;position=P\">Daniel Garibay</a>,\n",
       " <a href=\"/statss.aspx?playerid=528&amp;position=P\">Oswaldo Mairena</a>,\n",
       " <a href=\"/statss.aspx?playerid=1583&amp;position=P\">Andrew Lorraine</a>,\n",
       " <a href=\"/statss.aspx?playerid=1010657&amp;position=P\">Steve Rain</a>,\n",
       " <a href=\"/statss.aspx?playerid=705&amp;position=P\">Ruben Quevedo</a>,\n",
       " <a href=\"/statss.aspx?playerid=1014370&amp;position=P\">Danny Young</a>,\n",
       " <a href=\"/statss.aspx?playerid=278&amp;position=P\">Kyle Farnsworth</a>,\n",
       " <a href=\"/statss.aspx?playerid=1006697&amp;position=P\">Matt Karchner</a>,\n",
       " <a href=\"/statss.aspx?playerid=1013978&amp;position=P\">Brian Williams</a>,\n",
       " <a href=\"/statss.aspx?playerid=1000086&amp;position=P\">Rick Aguilera</a>]"
      ]
     },
     "execution_count": 12,
     "metadata": {},
     "output_type": "execute_result"
    }
   ],
   "source": [
    "RPitcherSoup = soupStd.find_all('div', 'team-stats-table')[2]\n",
    "RPitcherLinks = RPitcherSoup.find_all('a')\n",
    "Name = RPitcherLinks[0].get_text()\n",
    "Link = RPitcherLinks[0].get('href')\n",
    "ID = Link.split('=')[1].split('&')[0]\n",
    "Position = Link.split('=')[2]\n",
    "Row = [Name,Teams[0] ,Link, int(ID), 'R'+Position]\n",
    "RPitcherLinks"
   ]
  },
  {
   "cell_type": "code",
   "execution_count": 13,
   "metadata": {},
   "outputs": [
    {
     "data": {
      "text/plain": [
       "['Tim Worrell', 'Cubs', '/statss.aspx?playerid=1139&position=P', 1139, 'RP']"
      ]
     },
     "execution_count": 13,
     "metadata": {},
     "output_type": "execute_result"
    }
   ],
   "source": [
    "Row"
   ]
  },
  {
   "cell_type": "code",
   "execution_count": 14,
   "metadata": {
    "collapsed": true
   },
   "outputs": [],
   "source": [
    "import ScrapeOldRoster as s"
   ]
  },
  {
   "cell_type": "code",
   "execution_count": 15,
   "metadata": {
    "collapsed": true
   },
   "outputs": [],
   "source": [
    "#Test the Roster.\n",
    "TestRoster = s.ScrapeMLBRoster('2015')\n",
    "TestRoster.ExportRosters('./OlderRosters/')"
   ]
  },
  {
   "cell_type": "code",
   "execution_count": 16,
   "metadata": {},
   "outputs": [
    {
     "data": {
      "text/plain": [
       "array(['Cubs', 'Yankees', 'Red Sox', 'Indians', 'Astros', 'Athletics',\n",
       "       'Dodgers', 'Braves', 'Angels', 'Reds', 'Brewers', 'Cardinals',\n",
       "       'Nationals', 'Rays', 'Diamondbacks', 'Rangers', 'Pirates',\n",
       "       'Mariners', 'Phillies', 'Giants', 'Blue Jays', 'Twins', 'Rockies',\n",
       "       'Mets', 'Marlins', 'White Sox', 'Royals', 'Padres', 'Tigers',\n",
       "       'Orioles'], dtype=object)"
      ]
     },
     "execution_count": 16,
     "metadata": {},
     "output_type": "execute_result"
    }
   ],
   "source": [
    "TestRoster.Teams"
   ]
  },
  {
   "cell_type": "code",
   "execution_count": 17,
   "metadata": {},
   "outputs": [
    {
     "name": "stdout",
     "output_type": "stream",
     "text": [
      "cubs\n",
      "yankees\n",
      "red sox\n",
      "indians\n",
      "astros\n",
      "athletics\n",
      "dodgers\n",
      "braves\n",
      "angels\n",
      "reds\n",
      "brewers\n",
      "cardinals\n",
      "nationals\n",
      "rays\n",
      "diamondbacks\n",
      "rangers\n",
      "pirates\n",
      "mariners\n",
      "phillies\n",
      "giants\n",
      "blue jays\n",
      "twins\n",
      "rockies\n",
      "mets\n",
      "marlins\n",
      "white sox\n",
      "royals\n",
      "padres\n",
      "tigers\n",
      "orioles\n"
     ]
    }
   ],
   "source": [
    "for team in TestRoster.Teams:\n",
    "    print(team.lower())"
   ]
  },
  {
   "cell_type": "code",
   "execution_count": null,
   "metadata": {
    "collapsed": true
   },
   "outputs": [],
   "source": []
  }
 ],
 "metadata": {
  "kernelspec": {
   "display_name": "Python 3",
   "language": "python",
   "name": "python3"
  },
  "language_info": {
   "codemirror_mode": {
    "name": "ipython",
    "version": 3
   },
   "file_extension": ".py",
   "mimetype": "text/x-python",
   "name": "python",
   "nbconvert_exporter": "python",
   "pygments_lexer": "ipython3",
   "version": "3.6.0"
  }
 },
 "nbformat": 4,
 "nbformat_minor": 2
}
