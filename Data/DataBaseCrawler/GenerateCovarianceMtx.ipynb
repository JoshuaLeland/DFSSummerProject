{
 "cells": [
  {
   "cell_type": "code",
   "execution_count": 1,
   "metadata": {},
   "outputs": [],
   "source": [
    "import numpy as np\n",
    "import pandas as pd"
   ]
  },
  {
   "cell_type": "code",
   "execution_count": 2,
   "metadata": {},
   "outputs": [],
   "source": [
    "import scipy.sparse"
   ]
  },
  {
   "cell_type": "code",
   "execution_count": 3,
   "metadata": {},
   "outputs": [
    {
     "data": {
      "text/html": [
       "<div>\n",
       "<style scoped>\n",
       "    .dataframe tbody tr th:only-of-type {\n",
       "        vertical-align: middle;\n",
       "    }\n",
       "\n",
       "    .dataframe tbody tr th {\n",
       "        vertical-align: top;\n",
       "    }\n",
       "\n",
       "    .dataframe thead th {\n",
       "        text-align: right;\n",
       "    }\n",
       "</style>\n",
       "<table border=\"1\" class=\"dataframe\">\n",
       "  <thead>\n",
       "    <tr style=\"text-align: right;\">\n",
       "      <th></th>\n",
       "      <th>Name</th>\n",
       "      <th>Team</th>\n",
       "      <th>Position</th>\n",
       "      <th>Salary</th>\n",
       "      <th>DKFG</th>\n",
       "      <th>DKRoto</th>\n",
       "      <th>Var</th>\n",
       "    </tr>\n",
       "  </thead>\n",
       "  <tbody>\n",
       "    <tr>\n",
       "      <th>0</th>\n",
       "      <td>Madison Bumgarner</td>\n",
       "      <td>Giants</td>\n",
       "      <td>SP</td>\n",
       "      <td>11400</td>\n",
       "      <td>20.64</td>\n",
       "      <td>20.99</td>\n",
       "      <td>120.093949</td>\n",
       "    </tr>\n",
       "    <tr>\n",
       "      <th>1</th>\n",
       "      <td>Noah Syndergaard</td>\n",
       "      <td>Mets</td>\n",
       "      <td>SP</td>\n",
       "      <td>11000</td>\n",
       "      <td>18.80</td>\n",
       "      <td>19.86</td>\n",
       "      <td>107.069016</td>\n",
       "    </tr>\n",
       "    <tr>\n",
       "      <th>2</th>\n",
       "      <td>Rick Porcello</td>\n",
       "      <td>Red Sox</td>\n",
       "      <td>SP</td>\n",
       "      <td>9800</td>\n",
       "      <td>15.73</td>\n",
       "      <td>17.14</td>\n",
       "      <td>100.565015</td>\n",
       "    </tr>\n",
       "    <tr>\n",
       "      <th>3</th>\n",
       "      <td>Walker Buehler</td>\n",
       "      <td>Dodgers</td>\n",
       "      <td>SP</td>\n",
       "      <td>9500</td>\n",
       "      <td>19.26</td>\n",
       "      <td>16.90</td>\n",
       "      <td>163.125316</td>\n",
       "    </tr>\n",
       "    <tr>\n",
       "      <th>4</th>\n",
       "      <td>Junior Guerra</td>\n",
       "      <td>Brewers</td>\n",
       "      <td>SP</td>\n",
       "      <td>9200</td>\n",
       "      <td>15.38</td>\n",
       "      <td>16.20</td>\n",
       "      <td>74.054117</td>\n",
       "    </tr>\n",
       "  </tbody>\n",
       "</table>\n",
       "</div>"
      ],
      "text/plain": [
       "                Name     Team Position  Salary   DKFG  DKRoto         Var\n",
       "0  Madison Bumgarner   Giants       SP   11400  20.64   20.99  120.093949\n",
       "1   Noah Syndergaard     Mets       SP   11000  18.80   19.86  107.069016\n",
       "2      Rick Porcello  Red Sox       SP    9800  15.73   17.14  100.565015\n",
       "3     Walker Buehler  Dodgers       SP    9500  19.26   16.90  163.125316\n",
       "4      Junior Guerra  Brewers       SP    9200  15.38   16.20   74.054117"
      ]
     },
     "execution_count": 3,
     "metadata": {},
     "output_type": "execute_result"
    }
   ],
   "source": [
    "PredictionFile = pd.read_csv('DKProjectionsJuly13.csv')\n",
    "PredictionFile.drop(columns=['Unnamed: 0'], inplace=True)\n",
    "PredictionFile.head()"
   ]
  },
  {
   "cell_type": "code",
   "execution_count": 4,
   "metadata": {},
   "outputs": [
    {
     "data": {
      "text/plain": [
       "array(['Giants', 'Mets', 'Red Sox', 'Dodgers', 'Brewers', 'Rangers',\n",
       "       'Phillies', 'Nationals', 'Rays', 'Astros', 'Indians', 'Cardinals',\n",
       "       'Pirates', 'Braves', 'Diamondbacks', 'Twins', 'Yankees', 'Reds',\n",
       "       'Tigers', 'Angels', 'White Sox', 'Royals', 'Cubs', 'Athletics',\n",
       "       'Blue Jays', 'Rockies', 'Mariners', 'Padres', 'Orioles', 'Marlins'],\n",
       "      dtype=object)"
      ]
     },
     "execution_count": 4,
     "metadata": {},
     "output_type": "execute_result"
    }
   ],
   "source": [
    "#Get Teams\n",
    "PredictionFile.head()\n",
    "Teams = PredictionFile['Team'].unique()\n",
    "Teams"
   ]
  },
  {
   "cell_type": "code",
   "execution_count": 5,
   "metadata": {},
   "outputs": [
    {
     "data": {
      "text/plain": [
       "array([['Brandon Belt', 'Giants', '1B', 4400, 8.75, 8.11,\n",
       "        53.10499810424986],\n",
       "       ['Gorkys Hernandez', 'Giants', 'OF', 4000, 6.19, 6.57,\n",
       "        19.25296885272847],\n",
       "       ['Buster Posey', 'Giants', 'C', 3900, 7.6, 7.61,\n",
       "        59.42706025094267],\n",
       "       ['Andrew McCutchen', 'Giants', 'OF', 3800, 7.92, 8.33,\n",
       "        78.58315583488462],\n",
       "       ['Brandon Crawford', 'Giants', 'SS', 3700, 7.48, 7.19,\n",
       "        37.98825813609467],\n",
       "       ['Alen Hanson', 'Giants', '2B/OF', 3700, 7.23, 7.11,\n",
       "        17.677146607246424],\n",
       "       ['Steven Duggar', 'Giants', 'OF', 3700, 7.08, 7.76, 100.0],\n",
       "       ['Pablo Sandoval', 'Giants', '1B/3B', 3500, 6.75, 6.18,\n",
       "        46.49727194086426]], dtype=object)"
      ]
     },
     "execution_count": 5,
     "metadata": {},
     "output_type": "execute_result"
    }
   ],
   "source": [
    "npMtxTeam = PredictionFile[PredictionFile['Team']==Teams[0]]\n",
    "npMtxTeam = npMtxTeam[npMtxTeam['Position']!='SP'].as_matrix()\n",
    "npMtx = PredictionFile.as_matrix()\n",
    "npMtxTeam"
   ]
  },
  {
   "cell_type": "code",
   "execution_count": null,
   "metadata": {},
   "outputs": [],
   "source": []
  },
  {
   "cell_type": "code",
   "execution_count": 6,
   "metadata": {},
   "outputs": [],
   "source": [
    "#Open the Covariance File\n",
    "Team = Teams[0]\n",
    "CovarTeam = pd.read_csv('./TeamCovariance/'+Team+'COV.csv')\n",
    "CovarTeam.drop(columns='Unnamed: 0', inplace=True)\n",
    "CovarTeam = CovarTeam.as_matrix()"
   ]
  },
  {
   "cell_type": "code",
   "execution_count": 7,
   "metadata": {},
   "outputs": [],
   "source": [
    "Name1 = npMtxTeam[0,0]\n",
    "Name2 = npMtxTeam[1,0]"
   ]
  },
  {
   "cell_type": "code",
   "execution_count": 8,
   "metadata": {},
   "outputs": [],
   "source": [
    "i1 = np.where(npMtx[:,0]==Name1)[0][0]\n",
    "i2 = np.where(npMtx[:,0]==Name2)[0][0]"
   ]
  },
  {
   "cell_type": "code",
   "execution_count": 9,
   "metadata": {},
   "outputs": [
    {
     "data": {
      "text/plain": [
       "80"
      ]
     },
     "execution_count": 9,
     "metadata": {},
     "output_type": "execute_result"
    }
   ],
   "source": [
    "i1"
   ]
  },
  {
   "cell_type": "code",
   "execution_count": 10,
   "metadata": {},
   "outputs": [
    {
     "data": {
      "text/plain": [
       "121"
      ]
     },
     "execution_count": 10,
     "metadata": {},
     "output_type": "execute_result"
    }
   ],
   "source": [
    "i2"
   ]
  },
  {
   "cell_type": "code",
   "execution_count": 11,
   "metadata": {},
   "outputs": [],
   "source": [
    "if Name1 in CovarTeam[CovarTeam[:,0]==Name2,1]:\n",
    "    CovName1 = CovarTeam[CovarTeam[:,0]==Name2]\n",
    "    CovName2 = CovName1[CovName1[:,1]==Name1]\n",
    "    Cov = CovName2[0][6]"
   ]
  },
  {
   "cell_type": "code",
   "execution_count": 29,
   "metadata": {},
   "outputs": [],
   "source": [
    "if Name2 in CovarTeam[CovarTeam[:,0]==Name1,1]:\n",
    "    CovName1 = CovarTeam[CovarTeam[:,0]==Name1]\n",
    "    CovName2 = CovName1[CovName1[:,1]==Name2]\n",
    "    Cov = CovName2[0][6]"
   ]
  },
  {
   "cell_type": "code",
   "execution_count": 30,
   "metadata": {},
   "outputs": [
    {
     "data": {
      "text/plain": [
       "4.447972699032978"
      ]
     },
     "execution_count": 30,
     "metadata": {},
     "output_type": "execute_result"
    }
   ],
   "source": []
  },
  {
   "cell_type": "code",
   "execution_count": 22,
   "metadata": {},
   "outputs": [],
   "source": []
  },
  {
   "cell_type": "code",
   "execution_count": 23,
   "metadata": {},
   "outputs": [
    {
     "data": {
      "text/plain": [
       "array([['Brandon Belt', 'Gorkys Hernandez', 'Giants', 0.271, 0.247,\n",
       "        0.3912575265912723, 4.447972699032978, 180]], dtype=object)"
      ]
     },
     "execution_count": 23,
     "metadata": {},
     "output_type": "execute_result"
    }
   ],
   "source": []
  },
  {
   "cell_type": "code",
   "execution_count": 34,
   "metadata": {},
   "outputs": [],
   "source": [
    "row = []\n",
    "row.append((1,2))"
   ]
  },
  {
   "cell_type": "code",
   "execution_count": 35,
   "metadata": {},
   "outputs": [
    {
     "data": {
      "text/plain": [
       "[(1, 2)]"
      ]
     },
     "execution_count": 35,
     "metadata": {},
     "output_type": "execute_result"
    }
   ],
   "source": [
    "row"
   ]
  },
  {
   "cell_type": "code",
   "execution_count": null,
   "metadata": {},
   "outputs": [],
   "source": []
  }
 ],
 "metadata": {
  "kernelspec": {
   "display_name": "Python 3",
   "language": "python",
   "name": "python3"
  },
  "language_info": {
   "codemirror_mode": {
    "name": "ipython",
    "version": 3
   },
   "file_extension": ".py",
   "mimetype": "text/x-python",
   "name": "python",
   "nbconvert_exporter": "python",
   "pygments_lexer": "ipython3",
   "version": "3.6.4"
  }
 },
 "nbformat": 4,
 "nbformat_minor": 2
}
