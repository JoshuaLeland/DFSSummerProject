{
 "cells": [
  {
   "cell_type": "code",
   "execution_count": 1,
   "metadata": {},
   "outputs": [],
   "source": [
    "import pandas as pd\n",
    "import numpy as np"
   ]
  },
  {
   "cell_type": "code",
   "execution_count": 2,
   "metadata": {},
   "outputs": [],
   "source": [
    "#Get Rosters\n",
    "Batters = pd.read_csv(\"MLBBatterRoster2018.csv\")\n",
    "Pitcher = pd.read_csv(\"MLBPitcherRoster2018.csv\")"
   ]
  },
  {
   "cell_type": "code",
   "execution_count": 3,
   "metadata": {},
   "outputs": [],
   "source": [
    "#Get Variance for Batters\n",
    "VarianceBatSV = []\n",
    "VarianceBatEV = []\n",
    "ID = Batters['ID']\n",
    "for i in range(len(ID)):\n",
    "    Path = './GameLogs/Batters/'+str(ID[i])+\"GL.csv\"\n",
    "    GameLog = pd.read_csv(Path)\n",
    "    rows, cols = GameLog.shape\n",
    "    if len(GameLog['DKfp'][1:rows]) > 50:\n",
    "        VarianceBatSV.append(np.var(GameLog['DKfp'][1:rows]))\n",
    "        VarianceBatEV.append(0.8*np.mean(GameLog['DKfp'][1:rows])**2)\n",
    "    else:\n",
    "        VarianceBatSV.append(35)\n",
    "        VarianceBatEV.append(35)\n",
    "VarLogBatter = pd.DataFrame()\n",
    "VarLogBatter['Name'] = Batters['Name']\n",
    "VarLogBatter['Team'] = Batters['Team']\n",
    "VarLogBatter['VarSV'] = VarianceBatSV\n",
    "VarLogBatter['Var'] = VarianceBatSV"
   ]
  },
  {
   "cell_type": "code",
   "execution_count": 4,
   "metadata": {},
   "outputs": [],
   "source": [
    "#Get Variance for pitchers\n",
    "VariancePit = []\n",
    "ID = Pitcher['ID']\n",
    "for i in range(len(ID)):\n",
    "    Path = 'GameLogs/Pitchers/'+str(ID[i])+\"GL.csv\"\n",
    "    GameLog = pd.read_csv(Path)\n",
    "    rows, cols = GameLog.shape\n",
    "    if len(GameLog['DKfp'][1:rows]) > 20:\n",
    "        VariancePit.append(np.var(GameLog['DKfp'][1:rows]))\n",
    "    else:\n",
    "        VariancePit.append(80)\n",
    "VarLogPitcher = pd.DataFrame()\n",
    "VarLogPitcher['Name'] = Pitcher['Name']\n",
    "VarLogPitcher['Team'] = Pitcher['Team']\n",
    "VarLogPitcher['Var'] = VariancePit"
   ]
  },
  {
   "cell_type": "code",
   "execution_count": 5,
   "metadata": {},
   "outputs": [],
   "source": [
    "#Output a MasterList\n",
    "VariancePlayerList = pd.concat([VarLogBatter, VarLogPitcher])\n",
    "VariancePlayerList.to_csv(\"MasterVarianceList.csv\")"
   ]
  },
  {
   "cell_type": "code",
   "execution_count": null,
   "metadata": {},
   "outputs": [],
   "source": []
  },
  {
   "cell_type": "code",
   "execution_count": null,
   "metadata": {},
   "outputs": [],
   "source": []
  },
  {
   "cell_type": "code",
   "execution_count": null,
   "metadata": {},
   "outputs": [],
   "source": []
  },
  {
   "cell_type": "code",
   "execution_count": null,
   "metadata": {},
   "outputs": [],
   "source": []
  },
  {
   "cell_type": "code",
   "execution_count": null,
   "metadata": {},
   "outputs": [],
   "source": []
  }
 ],
 "metadata": {
  "kernelspec": {
   "display_name": "Python 3",
   "language": "python",
   "name": "python3"
  },
  "language_info": {
   "codemirror_mode": {
    "name": "ipython",
    "version": 3
   },
   "file_extension": ".py",
   "mimetype": "text/x-python",
   "name": "python",
   "nbconvert_exporter": "python",
   "pygments_lexer": "ipython3",
   "version": "3.6.4"
  }
 },
 "nbformat": 4,
 "nbformat_minor": 2
}
