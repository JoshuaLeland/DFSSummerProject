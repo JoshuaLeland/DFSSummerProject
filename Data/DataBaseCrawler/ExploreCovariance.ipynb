{
 "cells": [
  {
   "cell_type": "code",
   "execution_count": 1,
   "metadata": {},
   "outputs": [],
   "source": [
    "import pandas as pd\n",
    "import numpy as np\n",
    "import matplotlib.pyplot as plt"
   ]
  },
  {
   "cell_type": "code",
   "execution_count": 2,
   "metadata": {},
   "outputs": [],
   "source": [
    "#Get TeamNames\n",
    "MLBBattingRoster = pd.read_csv('MLBBatterRoster2018.csv')"
   ]
  },
  {
   "cell_type": "code",
   "execution_count": 3,
   "metadata": {},
   "outputs": [],
   "source": [
    "Teams = MLBBattingRoster['Team'].unique()"
   ]
  },
  {
   "cell_type": "code",
   "execution_count": 4,
   "metadata": {},
   "outputs": [
    {
     "data": {
      "text/plain": [
       "array(['Cubs', 'Red Sox', 'Yankees', 'Astros', 'Braves', 'Indians',\n",
       "       'Dodgers', 'Reds', 'Athletics', 'Angels', 'Brewers', 'Mariners',\n",
       "       'Cardinals', 'Nationals', 'Diamondbacks', 'Rays', 'Rangers',\n",
       "       'Pirates', 'Giants', 'Phillies', 'Marlins', 'Tigers', 'Blue Jays',\n",
       "       'Twins', 'Mets', 'Rockies', 'White Sox', 'Padres', 'Royals',\n",
       "       'Orioles'], dtype=object)"
      ]
     },
     "execution_count": 4,
     "metadata": {},
     "output_type": "execute_result"
    }
   ],
   "source": [
    "Teams"
   ]
  },
  {
   "cell_type": "code",
   "execution_count": 5,
   "metadata": {},
   "outputs": [],
   "source": [
    "NewList = pd.DataFrame()\n",
    "for team in Teams:\n",
    "    #Get the COV log\n",
    "    NewLog = pd.read_csv('./TeamCovariance/'+team+'COV.csv')\n",
    "    \n",
    "    #Remove entries is low counts\n",
    "    NewLog = NewLog[NewLog['Count'] > 250]\n",
    "    \n",
    "    #Concat them\n",
    "    NewList = pd.concat([NewList, NewLog])\n",
    "NewList = NewList[NewList['Name1'] != NewList['Name2']]"
   ]
  },
  {
   "cell_type": "code",
   "execution_count": 6,
   "metadata": {},
   "outputs": [
    {
     "data": {
      "text/html": [
       "<div>\n",
       "<style scoped>\n",
       "    .dataframe tbody tr th:only-of-type {\n",
       "        vertical-align: middle;\n",
       "    }\n",
       "\n",
       "    .dataframe tbody tr th {\n",
       "        vertical-align: top;\n",
       "    }\n",
       "\n",
       "    .dataframe thead th {\n",
       "        text-align: right;\n",
       "    }\n",
       "</style>\n",
       "<table border=\"1\" class=\"dataframe\">\n",
       "  <thead>\n",
       "    <tr style=\"text-align: right;\">\n",
       "      <th></th>\n",
       "      <th>Name1</th>\n",
       "      <th>Name2</th>\n",
       "      <th>Team</th>\n",
       "      <th>BAvg1</th>\n",
       "      <th>BAvg2</th>\n",
       "      <th>BO Differance</th>\n",
       "      <th>Cov</th>\n",
       "      <th>Count</th>\n",
       "    </tr>\n",
       "  </thead>\n",
       "  <tbody>\n",
       "    <tr>\n",
       "      <th>6</th>\n",
       "      <td>Albert Almora Jr.</td>\n",
       "      <td>Anthony Rizzo</td>\n",
       "      <td>Cubs</td>\n",
       "      <td>0.302</td>\n",
       "      <td>0.266</td>\n",
       "      <td>2.186886</td>\n",
       "      <td>0.183291</td>\n",
       "      <td>252</td>\n",
       "    </tr>\n",
       "    <tr>\n",
       "      <th>11</th>\n",
       "      <td>Albert Almora Jr.</td>\n",
       "      <td>Javier Baez</td>\n",
       "      <td>Cubs</td>\n",
       "      <td>0.302</td>\n",
       "      <td>0.263</td>\n",
       "      <td>0.464322</td>\n",
       "      <td>0.345687</td>\n",
       "      <td>253</td>\n",
       "    </tr>\n",
       "    <tr>\n",
       "      <th>17</th>\n",
       "      <td>Ben Zobrist</td>\n",
       "      <td>Kris Bryant</td>\n",
       "      <td>Cubs</td>\n",
       "      <td>0.264</td>\n",
       "      <td>0.287</td>\n",
       "      <td>0.902887</td>\n",
       "      <td>0.153552</td>\n",
       "      <td>330</td>\n",
       "    </tr>\n",
       "    <tr>\n",
       "      <th>18</th>\n",
       "      <td>Ben Zobrist</td>\n",
       "      <td>Jason Heyward</td>\n",
       "      <td>Cubs</td>\n",
       "      <td>0.264</td>\n",
       "      <td>0.263</td>\n",
       "      <td>0.476631</td>\n",
       "      <td>0.159943</td>\n",
       "      <td>304</td>\n",
       "    </tr>\n",
       "    <tr>\n",
       "      <th>21</th>\n",
       "      <td>Ben Zobrist</td>\n",
       "      <td>Anthony Rizzo</td>\n",
       "      <td>Cubs</td>\n",
       "      <td>0.264</td>\n",
       "      <td>0.266</td>\n",
       "      <td>0.232842</td>\n",
       "      <td>0.136321</td>\n",
       "      <td>341</td>\n",
       "    </tr>\n",
       "  </tbody>\n",
       "</table>\n",
       "</div>"
      ],
      "text/plain": [
       "                Name1          Name2  Team  BAvg1  BAvg2  BO Differance  \\\n",
       "6   Albert Almora Jr.  Anthony Rizzo  Cubs  0.302  0.266       2.186886   \n",
       "11  Albert Almora Jr.    Javier Baez  Cubs  0.302  0.263       0.464322   \n",
       "17        Ben Zobrist    Kris Bryant  Cubs  0.264  0.287       0.902887   \n",
       "18        Ben Zobrist  Jason Heyward  Cubs  0.264  0.263       0.476631   \n",
       "21        Ben Zobrist  Anthony Rizzo  Cubs  0.264  0.266       0.232842   \n",
       "\n",
       "         Cov  Count  \n",
       "6   0.183291    252  \n",
       "11  0.345687    253  \n",
       "17  0.153552    330  \n",
       "18  0.159943    304  \n",
       "21  0.136321    341  "
      ]
     },
     "execution_count": 6,
     "metadata": {},
     "output_type": "execute_result"
    }
   ],
   "source": [
    "#Plot Cov vs Batting order differance.\n",
    "NewList.drop(columns='Unnamed: 0').head()"
   ]
  },
  {
   "cell_type": "code",
   "execution_count": 7,
   "metadata": {},
   "outputs": [
    {
     "name": "stdout",
     "output_type": "stream",
     "text": [
      "m: -0.001528 b = 0.128043\n"
     ]
    },
    {
     "data": {
      "image/png": "[encoded data removed]",
      "text/plain": [
       "<matplotlib.figure.Figure at 0x7f754d764978>"
      ]
     },
     "metadata": {},
     "output_type": "display_data"
    }
   ],
   "source": [
    "plt.scatter(NewList['BO Differance'], NewList['Cov'])\n",
    "plt.xlabel(\"Batting Order Differance\")\n",
    "plt.ylabel(\"Covariance\")\n",
    "MeanCov = np.mean(NewList['Cov'])\n",
    "m,b = np.polyfit(NewList['BO Differance'], NewList['Cov'], 1)\n",
    "plt.plot(NewList['BO Differance'], m*NewList['BO Differance']+b, c='r')\n",
    "print('m: %f b = %f' %(m,b))"
   ]
  },
  {
   "cell_type": "code",
   "execution_count": 8,
   "metadata": {},
   "outputs": [
    {
     "name": "stdout",
     "output_type": "stream",
     "text": [
      "m: 0.210684 b = 0.068310\n"
     ]
    },
    {
     "data": {
      "image/png": "[encoded data removed]",
      "text/plain": [
       "<matplotlib.figure.Figure at 0x7f754d764b00>"
      ]
     },
     "metadata": {},
     "output_type": "display_data"
    }
   ],
   "source": [
    "plt.scatter(NewList['BAvg1'], NewList['Cov'])\n",
    "plt.xlabel(\"Average Batting Average1\")\n",
    "plt.ylabel(\"Correlation\")\n",
    "m,b = np.polyfit(NewList['BAvg1'], NewList['Cov'], 1)\n",
    "plt.plot(NewList['BAvg1'], m*NewList['BAvg1']+b, c='r')\n",
    "print('m: %f b = %f' %(m,b))"
   ]
  },
  {
   "cell_type": "code",
   "execution_count": 9,
   "metadata": {},
   "outputs": [
    {
     "name": "stdout",
     "output_type": "stream",
     "text": [
      "m: 0.087843 b = 0.102050\n"
     ]
    },
    {
     "data": {
      "image/png": "[encoded data removed]",
      "text/plain": [
       "<matplotlib.figure.Figure at 0x7f75442c9630>"
      ]
     },
     "metadata": {},
     "output_type": "display_data"
    }
   ],
   "source": [
    "plt.scatter(NewList['BAvg2'], NewList['Cov'])\n",
    "plt.xlabel(\"Average Batting Average1\")\n",
    "plt.ylabel(\"Correlation\")\n",
    "m,b = np.polyfit(NewList['BAvg2'], NewList['Cov'], 1)\n",
    "plt.plot(NewList['BAvg2'], m*NewList['BAvg2']+b, c='r')\n",
    "print('m: %f b = %f' %(m,b))"
   ]
  },
  {
   "cell_type": "code",
   "execution_count": 10,
   "metadata": {},
   "outputs": [
    {
     "data": {
      "text/plain": [
       "(array([  3.,   1.,  15.,  51.,  87., 101.,  57.,  17.,   5.,   3.]),\n",
       " array([-0.10599843, -0.0608299 , -0.01566137,  0.02950716,  0.0746757 ,\n",
       "         0.11984423,  0.16501276,  0.21018129,  0.25534982,  0.30051835,\n",
       "         0.34568688]),\n",
       " <a list of 10 Patch objects>)"
      ]
     },
     "execution_count": 10,
     "metadata": {},
     "output_type": "execute_result"
    },
    {
     "data": {
      "image/png": "[encoded data removed]",
      "text/plain": [
       "<matplotlib.figure.Figure at 0x7f754d7baba8>"
      ]
     },
     "metadata": {},
     "output_type": "display_data"
    }
   ],
   "source": [
    "plt.hist(NewList['Cov'])"
   ]
  },
  {
   "cell_type": "code",
   "execution_count": 11,
   "metadata": {},
   "outputs": [],
   "source": [
    "from sklearn import linear_model"
   ]
  },
  {
   "cell_type": "code",
   "execution_count": 12,
   "metadata": {},
   "outputs": [],
   "source": [
    "# Create linear regression object\n",
    "regr = linear_model.LinearRegression()"
   ]
  },
  {
   "cell_type": "code",
   "execution_count": 13,
   "metadata": {},
   "outputs": [],
   "source": [
    "from sklearn.model_selection import train_test_split"
   ]
  },
  {
   "cell_type": "code",
   "execution_count": 14,
   "metadata": {},
   "outputs": [],
   "source": [
    "X = np.array([NewList['BAvg1'].values, NewList['BAvg2'].values, NewList['BO Differance'].values])"
   ]
  },
  {
   "cell_type": "code",
   "execution_count": 15,
   "metadata": {},
   "outputs": [],
   "source": [
    "X_train, X_test, y_train, y_test = train_test_split(\n",
    "...     X.T, NewList['Cov'].values, test_size=0, random_state=42)"
   ]
  },
  {
   "cell_type": "code",
   "execution_count": 16,
   "metadata": {},
   "outputs": [
    {
     "data": {
      "text/plain": [
       "LinearRegression(copy_X=True, fit_intercept=True, n_jobs=1, normalize=False)"
      ]
     },
     "execution_count": 16,
     "metadata": {},
     "output_type": "execute_result"
    }
   ],
   "source": [
    "regr.fit(X_train, y_train)"
   ]
  },
  {
   "cell_type": "code",
   "execution_count": 17,
   "metadata": {},
   "outputs": [
    {
     "data": {
      "text/plain": [
       "array([ 0.21009176,  0.08794302, -0.00119284])"
      ]
     },
     "execution_count": 17,
     "metadata": {},
     "output_type": "execute_result"
    }
   ],
   "source": [
    "regr.coef_"
   ]
  },
  {
   "cell_type": "code",
   "execution_count": 18,
   "metadata": {},
   "outputs": [
    {
     "data": {
      "text/plain": [
       "0.04733912857485628"
      ]
     },
     "execution_count": 18,
     "metadata": {},
     "output_type": "execute_result"
    }
   ],
   "source": [
    "regr.intercept_"
   ]
  },
  {
   "cell_type": "code",
   "execution_count": 19,
   "metadata": {},
   "outputs": [
    {
     "data": {
      "text/plain": [
       "0.12529720530832059"
      ]
     },
     "execution_count": 19,
     "metadata": {},
     "output_type": "execute_result"
    }
   ],
   "source": [
    "np.mean(NewList['Cov'])"
   ]
  },
  {
   "cell_type": "code",
   "execution_count": 20,
   "metadata": {},
   "outputs": [
    {
     "data": {
      "text/plain": [
       "(340,)"
      ]
     },
     "execution_count": 20,
     "metadata": {},
     "output_type": "execute_result"
    }
   ],
   "source": [
    "NewList['Cov'].shape"
   ]
  },
  {
   "cell_type": "code",
   "execution_count": null,
   "metadata": {},
   "outputs": [],
   "source": []
  }
 ],
 "metadata": {
  "kernelspec": {
   "display_name": "Python 3",
   "language": "python",
   "name": "python3"
  },
  "language_info": {
   "codemirror_mode": {
    "name": "ipython",
    "version": 3
   },
   "file_extension": ".py",
   "mimetype": "text/x-python",
   "name": "python",
   "nbconvert_exporter": "python",
   "pygments_lexer": "ipython3",
   "version": "3.6.4"
  }
 },
 "nbformat": 4,
 "nbformat_minor": 2
}
