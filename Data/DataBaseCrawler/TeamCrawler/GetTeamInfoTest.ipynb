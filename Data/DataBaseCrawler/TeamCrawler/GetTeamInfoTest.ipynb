{
 "cells": [
  {
   "cell_type": "code",
   "execution_count": 1,
   "metadata": {},
   "outputs": [],
   "source": [
    "from team_crawler import getTeamInfo"
   ]
  },
  {
   "cell_type": "code",
   "execution_count": 2,
   "metadata": {},
   "outputs": [],
   "source": [
    "TeamDataFrame = getTeamInfo()"
   ]
  },
  {
   "cell_type": "code",
   "execution_count": 3,
   "metadata": {},
   "outputs": [
    {
     "data": {
      "text/html": [
       "<div>\n",
       "<style scoped>\n",
       "    .dataframe tbody tr th:only-of-type {\n",
       "        vertical-align: middle;\n",
       "    }\n",
       "\n",
       "    .dataframe tbody tr th {\n",
       "        vertical-align: top;\n",
       "    }\n",
       "\n",
       "    .dataframe thead th {\n",
       "        text-align: right;\n",
       "    }\n",
       "</style>\n",
       "<table border=\"1\" class=\"dataframe\">\n",
       "  <thead>\n",
       "    <tr style=\"text-align: right;\">\n",
       "      <th></th>\n",
       "      <th>TeamName</th>\n",
       "      <th>TeamLinksBat</th>\n",
       "      <th>TeamLinksPit</th>\n",
       "    </tr>\n",
       "  </thead>\n",
       "  <tbody>\n",
       "    <tr>\n",
       "      <th>0</th>\n",
       "      <td>Cubs</td>\n",
       "      <td>leaders.aspx?pos=all&amp;stats=bat&amp;lg=all&amp;qual=0&amp;t...</td>\n",
       "      <td>leaders.aspx?pos=all&amp;stats=pit&amp;lg=all&amp;qual=0&amp;t...</td>\n",
       "    </tr>\n",
       "    <tr>\n",
       "      <th>1</th>\n",
       "      <td>Astros</td>\n",
       "      <td>leaders.aspx?pos=all&amp;stats=bat&amp;lg=all&amp;qual=0&amp;t...</td>\n",
       "      <td>leaders.aspx?pos=all&amp;stats=pit&amp;lg=all&amp;qual=0&amp;t...</td>\n",
       "    </tr>\n",
       "    <tr>\n",
       "      <th>2</th>\n",
       "      <td>Yankees</td>\n",
       "      <td>leaders.aspx?pos=all&amp;stats=bat&amp;lg=all&amp;qual=0&amp;t...</td>\n",
       "      <td>leaders.aspx?pos=all&amp;stats=pit&amp;lg=all&amp;qual=0&amp;t...</td>\n",
       "    </tr>\n",
       "    <tr>\n",
       "      <th>3</th>\n",
       "      <td>Red Sox</td>\n",
       "      <td>leaders.aspx?pos=all&amp;stats=bat&amp;lg=all&amp;qual=0&amp;t...</td>\n",
       "      <td>leaders.aspx?pos=all&amp;stats=pit&amp;lg=all&amp;qual=0&amp;t...</td>\n",
       "    </tr>\n",
       "    <tr>\n",
       "      <th>4</th>\n",
       "      <td>Indians</td>\n",
       "      <td>leaders.aspx?pos=all&amp;stats=bat&amp;lg=all&amp;qual=0&amp;t...</td>\n",
       "      <td>leaders.aspx?pos=all&amp;stats=pit&amp;lg=all&amp;qual=0&amp;t...</td>\n",
       "    </tr>\n",
       "  </tbody>\n",
       "</table>\n",
       "</div>"
      ],
      "text/plain": [
       "  TeamName                                       TeamLinksBat  \\\n",
       "0     Cubs  leaders.aspx?pos=all&stats=bat&lg=all&qual=0&t...   \n",
       "1   Astros  leaders.aspx?pos=all&stats=bat&lg=all&qual=0&t...   \n",
       "2  Yankees  leaders.aspx?pos=all&stats=bat&lg=all&qual=0&t...   \n",
       "3  Red Sox  leaders.aspx?pos=all&stats=bat&lg=all&qual=0&t...   \n",
       "4  Indians  leaders.aspx?pos=all&stats=bat&lg=all&qual=0&t...   \n",
       "\n",
       "                                        TeamLinksPit  \n",
       "0  leaders.aspx?pos=all&stats=pit&lg=all&qual=0&t...  \n",
       "1  leaders.aspx?pos=all&stats=pit&lg=all&qual=0&t...  \n",
       "2  leaders.aspx?pos=all&stats=pit&lg=all&qual=0&t...  \n",
       "3  leaders.aspx?pos=all&stats=pit&lg=all&qual=0&t...  \n",
       "4  leaders.aspx?pos=all&stats=pit&lg=all&qual=0&t...  "
      ]
     },
     "execution_count": 3,
     "metadata": {},
     "output_type": "execute_result"
    }
   ],
   "source": [
    "TeamDataFrame.head()"
   ]
  },
  {
   "cell_type": "code",
   "execution_count": 4,
   "metadata": {},
   "outputs": [
    {
     "data": {
      "text/plain": [
       "'leaders.aspx?pos=all&stats=bat&lg=all&qual=0&type=0&season=2018&month=0&season1=2018&ind=0&team=17&rost=0&age=0'"
      ]
     },
     "execution_count": 4,
     "metadata": {},
     "output_type": "execute_result"
    }
   ],
   "source": [
    "TeamDataFrame['TeamLinksBat'][0]"
   ]
  },
  {
   "cell_type": "code",
   "execution_count": 5,
   "metadata": {},
   "outputs": [
    {
     "data": {
      "text/plain": [
       "'leaders.aspx?pos=all&stats=pit&lg=all&qual=0&type=0&season=2018&month=0&season1=2018&ind=0&team=17&rost=0&age=0'"
      ]
     },
     "execution_count": 5,
     "metadata": {},
     "output_type": "execute_result"
    }
   ],
   "source": [
    "TeamDataFrame['TeamLinksPit'][0]"
   ]
  },
  {
   "cell_type": "code",
   "execution_count": null,
   "metadata": {},
   "outputs": [],
   "source": []
  }
 ],
 "metadata": {
  "kernelspec": {
   "display_name": "Python 3",
   "language": "python",
   "name": "python3"
  },
  "language_info": {
   "codemirror_mode": {
    "name": "ipython",
    "version": 3
   },
   "file_extension": ".py",
   "mimetype": "text/x-python",
   "name": "python",
   "nbconvert_exporter": "python",
   "pygments_lexer": "ipython3",
   "version": "3.6.4"
  }
 },
 "nbformat": 4,
 "nbformat_minor": 2
}
