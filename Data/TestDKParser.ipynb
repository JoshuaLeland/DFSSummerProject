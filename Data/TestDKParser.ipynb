{
 "cells": [
  {
   "cell_type": "code",
   "execution_count": 1,
   "metadata": {},
   "outputs": [],
   "source": [
    "import DraftKingsPredictionsParsing as dkp"
   ]
  },
  {
   "cell_type": "code",
   "execution_count": 6,
   "metadata": {},
   "outputs": [],
   "source": [
    "Date = 'July11'\n",
    "FanGBatter = 'FanGraphPred/'+Date+'/FanGraphsBatter'+Date+'.csv'\n",
    "FanGPitcher = 'FanGraphPred/'+Date+'/FanGraphsPitcher'+Date+'.csv'\n",
    "RotoGPredBatter = 'RotoGPred/'+Date+'/mlb-hitter'+Date+'.csv'\n",
    "RotoGPredPitcher = 'RotoGPred/'+Date+'/mlb-pitcher'+Date+'.csv'\n",
    "Salaries = 'DKSalaries/DKSalaries'+Date+'.csv'\n",
    "Variance = 'DataBaseCrawler/MasterVarianceList.csv'"
   ]
  },
  {
   "cell_type": "code",
   "execution_count": 3,
   "metadata": {},
   "outputs": [],
   "source": [
    "parser = dkp.ParseDKPredictions(Salaries)"
   ]
  },
  {
   "cell_type": "code",
   "execution_count": 4,
   "metadata": {},
   "outputs": [],
   "source": [
    "parser.addPredictions(FanGPitcher, FanGBatter,'FG')"
   ]
  },
  {
   "cell_type": "code",
   "execution_count": 5,
   "metadata": {},
   "outputs": [],
   "source": [
    "parser.addPredictions(RotoGPredPitcher, RotoGPredBatter, 'Roto')"
   ]
  },
  {
   "cell_type": "code",
   "execution_count": 7,
   "metadata": {},
   "outputs": [],
   "source": [
    "parser.addVariance(Variance)"
   ]
  },
  {
   "cell_type": "code",
   "execution_count": null,
   "metadata": {},
   "outputs": [],
   "source": [
    "parser.exportProjections('test.csv', './')"
   ]
  }
 ],
 "metadata": {
  "kernelspec": {
   "display_name": "Python 3",
   "language": "python",
   "name": "python3"
  },
  "language_info": {
   "codemirror_mode": {
    "name": "ipython",
    "version": 3
   },
   "file_extension": ".py",
   "mimetype": "text/x-python",
   "name": "python",
   "nbconvert_exporter": "python",
   "pygments_lexer": "ipython3",
   "version": "3.6.4"
  }
 },
 "nbformat": 4,
 "nbformat_minor": 2
}
