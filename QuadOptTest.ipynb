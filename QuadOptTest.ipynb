{
 "cells": [
  {
   "cell_type": "code",
   "execution_count": 1,
   "metadata": {},
   "outputs": [],
   "source": [
    "import pandas as pd \n",
    "import Optimizers.GurobiLineUpOptimizer as opt\n",
    "from Data.GenerateCovarianceMtx import GenerateCovarianceMtx\n",
    "import numpy as np"
   ]
  },
  {
   "cell_type": "code",
   "execution_count": 2,
   "metadata": {},
   "outputs": [],
   "source": [
    "#Import the predictions file\n",
    "Predictions = pd.read_csv('Data/DKProjectionsJuly13.csv')\n",
    "FilePath = 'Data/DataBaseCrawler/TeamCovariance/'\n",
    "Predictions.drop(columns='Unnamed: 0', inplace=True)"
   ]
  },
  {
   "cell_type": "code",
   "execution_count": 3,
   "metadata": {},
   "outputs": [
    {
     "name": "stdout",
     "output_type": "stream",
     "text": [
      "Academic license - for non-commercial use only\n"
     ]
    }
   ],
   "source": [
    "model = opt.FPQuadatricIntOpt(Predictions)"
   ]
  },
  {
   "cell_type": "code",
   "execution_count": 4,
   "metadata": {},
   "outputs": [],
   "source": [
    "splitplayers = model.splitPlayers()"
   ]
  },
  {
   "cell_type": "code",
   "execution_count": 5,
   "metadata": {},
   "outputs": [],
   "source": [
    "model.setupVariables()"
   ]
  },
  {
   "cell_type": "code",
   "execution_count": 6,
   "metadata": {},
   "outputs": [],
   "source": [
    "model.splitConstraints(splitplayers)"
   ]
  },
  {
   "cell_type": "code",
   "execution_count": 7,
   "metadata": {},
   "outputs": [],
   "source": [
    "model.salaryConstraints()"
   ]
  },
  {
   "cell_type": "code",
   "execution_count": 8,
   "metadata": {},
   "outputs": [],
   "source": [
    "model.setPlayerConstraints()"
   ]
  },
  {
   "cell_type": "code",
   "execution_count": 9,
   "metadata": {},
   "outputs": [],
   "source": [
    "model.setPositionConstraints()"
   ]
  },
  {
   "cell_type": "code",
   "execution_count": 10,
   "metadata": {
    "scrolled": true
   },
   "outputs": [],
   "source": [
    "model.hitterConstraints()"
   ]
  },
  {
   "cell_type": "code",
   "execution_count": 11,
   "metadata": {},
   "outputs": [],
   "source": [
    "CovMtx = GenerateCovarianceMtx(model.totalplayer,FilePath)"
   ]
  },
  {
   "cell_type": "code",
   "execution_count": 12,
   "metadata": {},
   "outputs": [],
   "source": [
    "model.setCostFunction(CovMtx, 0.2)"
   ]
  },
  {
   "cell_type": "code",
   "execution_count": 13,
   "metadata": {},
   "outputs": [
    {
     "name": "stdout",
     "output_type": "stream",
     "text": [
      "Optimize a model with 77 rows, 302 columns and 1254 nonzeros\n",
      "Model has 1398 quadratic objective terms\n",
      "Variable types: 0 continuous, 302 integer (302 binary)\n",
      "Coefficient statistics:\n",
      "  Matrix range     [1e+00, 1e+04]\n",
      "  Objective range  [5e+00, 2e+01]\n",
      "  QObjective range [7e-02, 6e+01]\n",
      "  Bounds range     [1e+00, 1e+00]\n",
      "  RHS range        [1e+00, 5e+04]\n",
      "Found heuristic solution: objective 169.7710102\n",
      "Modified 272 Q diagonals\n",
      "Presolve removed 1 rows and 1 columns\n",
      "Presolve time: 0.00s\n",
      "Presolved: 76 rows, 301 columns, 939 nonzeros\n",
      "Presolved model has 1388 quadratic objective terms\n",
      "Variable types: 0 continuous, 301 integer (301 binary)\n",
      "\n",
      "Root relaxation: objective 4.297285e+02, 95 iterations, 0.00 seconds\n",
      "\n",
      "    Nodes    |    Current Node    |     Objective Bounds      |     Work\n",
      " Expl Unexpl |  Obj  Depth IntInf | Incumbent    BestBd   Gap | It/Node Time\n",
      "\n",
      "     0     0  429.72848    0   29  169.77101  429.72848   153%     -    0s\n",
      "H    0     0                     377.4765855  429.72848  13.8%     -    0s\n",
      "H    0     0                     387.7847610  429.72848  10.8%     -    0s\n",
      "H    0     0                     396.9662690  429.72848  8.25%     -    0s\n",
      "     0     0  426.48519    0   26  396.96627  426.48519  7.44%     -    0s\n",
      "     0     0  426.39640    0   21  396.96627  426.39640  7.41%     -    0s\n",
      "     0     0  426.39640    0   21  396.96627  426.39640  7.41%     -    0s\n",
      "     0     0 infeasible    0       396.96627  396.96627  0.00%     -    0s\n",
      "\n",
      "Explored 1 nodes (977 simplex iterations) in 0.05 seconds\n",
      "Thread count was 8 (of 8 available processors)\n",
      "\n",
      "Solution count 4: 396.966 387.785 377.477 169.771 \n",
      "\n",
      "Optimal solution found (tolerance 1.00e-04)\n",
      "Best objective 3.969662689593e+02, best bound 3.969662689593e+02, gap 0.0000%\n"
     ]
    }
   ],
   "source": [
    "model.solve()"
   ]
  },
  {
   "cell_type": "code",
   "execution_count": 14,
   "metadata": {},
   "outputs": [
    {
     "data": {
      "text/plain": [
       "['Dallas Keuchel',\n",
       " 'Anibal Sanchez',\n",
       " 'Matt Kemp',\n",
       " 'Chase Utley',\n",
       " 'Victor Martinez',\n",
       " 'Max Muncy',\n",
       " 'Chris Taylor',\n",
       " 'Cody Bellinger',\n",
       " 'Niko Goodrum',\n",
       " 'John Hicks']"
      ]
     },
     "execution_count": 14,
     "metadata": {},
     "output_type": "execute_result"
    }
   ],
   "source": [
    "model.getPlayers()"
   ]
  },
  {
   "cell_type": "code",
   "execution_count": null,
   "metadata": {},
   "outputs": [],
   "source": []
  }
 ],
 "metadata": {
  "kernelspec": {
   "display_name": "Python 3",
   "language": "python",
   "name": "python3"
  },
  "language_info": {
   "codemirror_mode": {
    "name": "ipython",
    "version": 3
   },
   "file_extension": ".py",
   "mimetype": "text/x-python",
   "name": "python",
   "nbconvert_exporter": "python",
   "pygments_lexer": "ipython3",
   "version": "3.6.4"
  }
 },
 "nbformat": 4,
 "nbformat_minor": 2
}
