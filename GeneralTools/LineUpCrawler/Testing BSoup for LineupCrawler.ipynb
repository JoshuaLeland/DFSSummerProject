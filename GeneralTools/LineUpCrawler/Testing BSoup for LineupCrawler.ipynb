{
 "cells": [
  {
   "cell_type": "code",
   "execution_count": 59,
   "metadata": {},
   "outputs": [],
   "source": [
    "import requests\n",
    "from bs4 import BeautifulSoup\n",
    "import re"
   ]
  },
  {
   "cell_type": "code",
   "execution_count": 2,
   "metadata": {},
   "outputs": [],
   "source": [
    "#Test Links.\n",
    "link1 = 'http://www.baseballpress.com/lineups/2018-06-28'\n",
    "link2 = 'http://www.baseballpress.com/lineups/2018-06-29'\n",
    "link3 = 'http://www.baseballpress.com/lineups/2018-06-30'"
   ]
  },
  {
   "cell_type": "code",
   "execution_count": 10,
   "metadata": {},
   "outputs": [],
   "source": [
    "#Get Soup\n",
    "r = requests.get(link2)\n",
    "soup = BeautifulSoup(r.text, \"html.parser\")"
   ]
  },
  {
   "cell_type": "code",
   "execution_count": 11,
   "metadata": {},
   "outputs": [],
   "source": [
    "#Get teams with no Line ups.\n",
    "TeamNoLineUp = soup.find_all(\"div\", \"team-name no-lineup\")"
   ]
  },
  {
   "cell_type": "code",
   "execution_count": 12,
   "metadata": {},
   "outputs": [
    {
     "data": {
      "text/plain": [
       "[<div class=\"team-name no-lineup\">Angels</div>,\n",
       " <div class=\"team-name no-lineup\">Orioles</div>,\n",
       " <div class=\"team-name no-lineup\">Nationals</div>,\n",
       " <div class=\"team-name no-lineup\">Phillies</div>,\n",
       " <div class=\"team-name no-lineup\">Red Sox</div>,\n",
       " <div class=\"team-name no-lineup\">Yankees</div>,\n",
       " <div class=\"team-name no-lineup\">Tigers</div>,\n",
       " <div class=\"team-name no-lineup\">Blue Jays</div>,\n",
       " <div class=\"team-name no-lineup\">Rays</div>,\n",
       " <div class=\"team-name no-lineup\">Brewers</div>,\n",
       " <div class=\"team-name no-lineup\">Mets</div>,\n",
       " <div class=\"team-name no-lineup\">Marlins</div>,\n",
       " <div class=\"team-name no-lineup\">White Sox</div>,\n",
       " <div class=\"team-name no-lineup\">Rangers</div>,\n",
       " <div class=\"team-name no-lineup\">Braves</div>,\n",
       " <div class=\"team-name no-lineup\">Cardinals</div>,\n",
       " <div class=\"team-name no-lineup\">Giants</div>,\n",
       " <div class=\"team-name no-lineup\">Diamondbacks</div>,\n",
       " <div class=\"team-name no-lineup\">Indians</div>,\n",
       " <div class=\"team-name no-lineup\">Athletics</div>,\n",
       " <div class=\"team-name no-lineup\">Rockies</div>,\n",
       " <div class=\"team-name no-lineup\">Dodgers</div>,\n",
       " <div class=\"team-name no-lineup\">Royals</div>,\n",
       " <div class=\"team-name no-lineup\">Mariners</div>,\n",
       " <div class=\"team-name no-lineup\">Pirates</div>,\n",
       " <div class=\"team-name no-lineup\">Padres</div>]"
      ]
     },
     "execution_count": 12,
     "metadata": {},
     "output_type": "execute_result"
    }
   ],
   "source": [
    "#Display\n",
    "TeamNoLineUp"
   ]
  },
  {
   "cell_type": "code",
   "execution_count": 13,
   "metadata": {},
   "outputs": [],
   "source": [
    "TeamLineUp = soup.find_all(\"div\", \"team-name\")"
   ]
  },
  {
   "cell_type": "code",
   "execution_count": 14,
   "metadata": {},
   "outputs": [
    {
     "data": {
      "text/plain": [
       "[<div class=\"team-name\">Twins</div>,\n",
       " <div class=\"team-name\">Cubs</div>,\n",
       " <div class=\"team-name no-lineup\">Angels</div>,\n",
       " <div class=\"team-name no-lineup\">Orioles</div>,\n",
       " <div class=\"team-name no-lineup\">Nationals</div>,\n",
       " <div class=\"team-name no-lineup\">Phillies</div>,\n",
       " <div class=\"team-name no-lineup\">Red Sox</div>,\n",
       " <div class=\"team-name no-lineup\">Yankees</div>,\n",
       " <div class=\"team-name no-lineup\">Tigers</div>,\n",
       " <div class=\"team-name no-lineup\">Blue Jays</div>,\n",
       " <div class=\"team-name\">Astros</div>,\n",
       " <div class=\"team-name no-lineup\">Rays</div>,\n",
       " <div class=\"team-name no-lineup\">Brewers</div>,\n",
       " <div class=\"team-name\">Reds</div>,\n",
       " <div class=\"team-name no-lineup\">Mets</div>,\n",
       " <div class=\"team-name no-lineup\">Marlins</div>,\n",
       " <div class=\"team-name no-lineup\">White Sox</div>,\n",
       " <div class=\"team-name no-lineup\">Rangers</div>,\n",
       " <div class=\"team-name no-lineup\">Braves</div>,\n",
       " <div class=\"team-name no-lineup\">Cardinals</div>,\n",
       " <div class=\"team-name no-lineup\">Giants</div>,\n",
       " <div class=\"team-name no-lineup\">Diamondbacks</div>,\n",
       " <div class=\"team-name no-lineup\">Indians</div>,\n",
       " <div class=\"team-name no-lineup\">Athletics</div>,\n",
       " <div class=\"team-name no-lineup\">Rockies</div>,\n",
       " <div class=\"team-name no-lineup\">Dodgers</div>,\n",
       " <div class=\"team-name no-lineup\">Royals</div>,\n",
       " <div class=\"team-name no-lineup\">Mariners</div>,\n",
       " <div class=\"team-name no-lineup\">Pirates</div>,\n",
       " <div class=\"team-name no-lineup\">Padres</div>]"
      ]
     },
     "execution_count": 14,
     "metadata": {},
     "output_type": "execute_result"
    }
   ],
   "source": [
    "#The stupid command doesn't look for exact.\n",
    "TeamLineUp"
   ]
  },
  {
   "cell_type": "code",
   "execution_count": 8,
   "metadata": {},
   "outputs": [
    {
     "name": "stdout",
     "output_type": "stream",
     "text": [
      "Yes\n"
     ]
    }
   ],
   "source": []
  },
  {
   "cell_type": "code",
   "execution_count": 9,
   "metadata": {},
   "outputs": [],
   "source": []
  },
  {
   "cell_type": "code",
   "execution_count": 21,
   "metadata": {},
   "outputs": [],
   "source": [
    "#Remove items in Team no Line up.\n",
    "TeamLineUp = [x for x in TeamLineUp if x not in TeamNoLineUp]"
   ]
  },
  {
   "cell_type": "code",
   "execution_count": 22,
   "metadata": {},
   "outputs": [
    {
     "data": {
      "text/plain": [
       "[<div class=\"team-name\">Twins</div>,\n",
       " <div class=\"team-name\">Cubs</div>,\n",
       " <div class=\"team-name\">Astros</div>,\n",
       " <div class=\"team-name\">Reds</div>]"
      ]
     },
     "execution_count": 22,
     "metadata": {},
     "output_type": "execute_result"
    }
   ],
   "source": [
    "crawler.getTeamList(True)#Done.  Have the teams.\n",
    "TeamLineUp"
   ]
  },
  {
   "cell_type": "code",
   "execution_count": 25,
   "metadata": {},
   "outputs": [],
   "source": [
    "#Grab the text names\n",
    "TeamsLineUpText = []\n",
    "for teams in TeamLineUp:\n",
    "    TeamsLineUpText.append(teams.text.strip())"
   ]
  },
  {
   "cell_type": "code",
   "execution_count": 26,
   "metadata": {},
   "outputs": [
    {
     "data": {
      "text/plain": [
       "['Twins', 'Cubs', 'Astros', 'Reds']"
      ]
     },
     "execution_count": 26,
     "metadata": {},
     "output_type": "execute_result"
    }
   ],
   "source": [
    "TeamsLineUpText"
   ]
  },
  {
   "cell_type": "code",
   "execution_count": 27,
   "metadata": {},
   "outputs": [],
   "source": [
    "TeamsNoLineUpText = []\n",
    "for teams in TeamNoLineUp:\n",
    "    TeamsNoLineUpText.append(teams.text.strip())"
   ]
  },
  {
   "cell_type": "code",
   "execution_count": 28,
   "metadata": {},
   "outputs": [
    {
     "data": {
      "text/plain": [
       "['Angels',\n",
       " 'Orioles',\n",
       " 'Nationals',\n",
       " 'Phillies',\n",
       " 'Red Sox',\n",
       " 'Yankees',\n",
       " 'Tigers',\n",
       " 'Blue Jays',\n",
       " 'Rays',\n",
       " 'Brewers',\n",
       " 'Mets',\n",
       " 'Marlins',\n",
       " 'White Sox',\n",
       " 'Rangers',\n",
       " 'Braves',\n",
       " 'Cardinals',\n",
       " 'Giants',\n",
       " 'Diamondbacks',\n",
       " 'Indians',\n",
       " 'Athletics',\n",
       " 'Rockies',\n",
       " 'Dodgers',\n",
       " 'Royals',\n",
       " 'Mariners',\n",
       " 'Pirates',\n",
       " 'Padres']"
      ]
     },
     "execution_count": 28,
     "metadata": {},
     "output_type": "execute_result"
    }
   ],
   "source": [
    "TeamsNoLineUpText"
   ]
  },
  {
   "cell_type": "code",
   "execution_count": 42,
   "metadata": {},
   "outputs": [],
   "source": [
    "#Now we want to grab the batters\n",
    "playerlinks = soup.find_all(\"a\", \"player-link\")"
   ]
  },
  {
   "cell_type": "code",
   "execution_count": 45,
   "metadata": {},
   "outputs": [
    {
     "data": {
      "text/plain": [
       "[<a class=\"player-link\" data-bref=\"berrijo01\" data-mlb=\"621244\" data-razz=\"https://razzball.com/player/14168/Jose+Berrios/\" href=\"#\">Jose Berrios</a>,\n",
       " <a class=\"player-link\" data-bref=\"montgmi01\" data-mlb=\"543557\" data-razz=\"https://razzball.com/player/4869/Mike+Montgomery/\" href=\"#\">Mike Montgomery</a>,\n",
       " <a class=\"player-link\" data-bref=\"mauerjo01\" data-mlb=\"408045\" data-razz=\"https://razzball.com/player/1857/Joe+Mauer/\" href=\"#\">Joe Mauer</a>,\n",
       " <a class=\"player-link\" data-bref=\"escobed01\" data-mlb=\"500871\" data-razz=\"https://razzball.com/player/6153/Eduardo+Escobar/\" href=\"#\">Eduardo Escobar</a>,\n",
       " <a class=\"player-link\" data-bref=\"rosared01\" data-mlb=\"592696\" data-razz=\"https://razzball.com/player/12155/Eddie+Rosario/\" href=\"#\">Eddie Rosario</a>,\n",
       " <a class=\"player-link\" data-bref=\"doziebr01\" data-mlb=\"572821\" data-razz=\"https://razzball.com/player/9810/Brian+Dozier/\" href=\"#\">Brian Dozier</a>,\n",
       " <a class=\"player-link\" data-bref=\"grossro01\" data-mlb=\"543257\" data-razz=\"https://razzball.com/player/5254/Robbie+Grossman/\" href=\"#\">Robbie Grossman</a>,\n",
       " <a class=\"player-link\" data-bref=\"keplema01\" data-mlb=\"596146\" data-razz=\"https://razzball.com/player/12144/Max+Kepler/\" href=\"#\">Max Kepler</a>,\n",
       " <a class=\"player-link\" data-bref=\"\" data-mlb=\"641598\" data-razz=\"https://razzball.com/player/15161/Mitch+Garver/\" href=\"#\">Mitch Garver</a>,\n",
       " <a class=\"player-link\" data-bref=\"adriaeh01\" data-mlb=\"501303\" data-razz=\"https://razzball.com/player/8418/Ehire+Adrianza/\" href=\"#\">Ehire Adrianza</a>,\n",
       " <a class=\"player-link\" data-bref=\"berrijo01\" data-mlb=\"621244\" data-razz=\"https://razzball.com/player/14168/Jose+Berrios/\" href=\"#\">Jose Berrios</a>,\n",
       " <a class=\"player-link\" data-bref=\"almoral01\" data-mlb=\"546991\" data-razz=\"https://razzball.com/player/14109/Albert+Almora Jr./\" href=\"#\">Albert Almora Jr.</a>,\n",
       " <a class=\"player-link\" data-bref=\"heywaja01\" data-mlb=\"518792\" data-razz=\"https://razzball.com/player/4940/Jason+Heyward/\" href=\"#\">Jason Heyward</a>,\n",
       " <a class=\"player-link\" data-bref=\"zobribe01\" data-mlb=\"450314\" data-razz=\"https://razzball.com/player/7435/Ben+Zobrist/\" href=\"#\">Ben Zobrist</a>,\n",
       " <a class=\"player-link\" data-bref=\"rizzoan01\" data-mlb=\"519203\" data-razz=\"https://razzball.com/player/3473/Anthony+Rizzo/\" href=\"#\">Anthony Rizzo</a>,\n",
       " <a class=\"player-link\" data-bref=\"russead02\" data-mlb=\"608365\" data-razz=\"https://razzball.com/player/14106/Addison+Russell/\" href=\"#\">Addison Russell</a>,\n",
       " <a class=\"player-link\" data-bref=\"schwaky01\" data-mlb=\"656941\" data-razz=\"https://razzball.com/player/16478/Kyle+Schwarber/\" href=\"#\">Kyle Schwarber</a>,\n",
       " <a class=\"player-link\" data-bref=\"happia01\" data-mlb=\"664023\" data-razz=\"https://razzball.com/player/664023/Ian+Happ/\" href=\"#\">Ian Happ</a>,\n",
       " <a class=\"player-link\" data-bref=\"gimench01\" data-mlb=\"460269\" data-razz=\"https://razzball.com/player/7324/Chris+Gimenez/\" href=\"#\">Chris Gimenez</a>,\n",
       " <a class=\"player-link\" data-bref=\"montgmi01\" data-mlb=\"543557\" data-razz=\"https://razzball.com/player/4869/Mike+Montgomery/\" href=\"#\">Mike Montgomery</a>,\n",
       " <a class=\"player-link\" data-bref=\"penafe01\" data-mlb=\"570240\" data-razz=\"https://razzball.com/player/13403/Felix+Pena/\" href=\"#\">Felix Pena</a>,\n",
       " <a class=\"player-link\" data-bref=\"\" data-mlb=\"605276\" data-razz=\"https://razzball.com/player/605276/David+Hess/\" href=\"#\">David Hess</a>,\n",
       " <a class=\"player-link\" data-bref=\"\" data-mlb=\"607200\" data-razz=\"https://razzball.com/player/607200/Erick+Fedde/\" href=\"#\">Erick Fedde</a>,\n",
       " <a class=\"player-link\" data-bref=\"pivetni01\" data-mlb=\"601713\" data-razz=\"https://razzball.com/player/601713/Nick+Pivetta/\" href=\"#\">Nick Pivetta</a>,\n",
       " <a class=\"player-link\" data-bref=\"rodried05\" data-mlb=\"593958\" data-razz=\"https://razzball.com/player/13164/Eduardo+Rodriguez/\" href=\"#\">Eduardo Rodriguez</a>,\n",
       " <a class=\"player-link\" data-bref=\"sabatc.01\" data-mlb=\"282332\" data-razz=\"https://razzball.com/player/404/CC+Sabathia/\" href=\"#\">CC Sabathia</a>,\n",
       " <a class=\"player-link\" data-bref=\"liriafr01\" data-mlb=\"434538\" data-razz=\"https://razzball.com/player/3201/Francisco+Liriano/\" href=\"#\">Francisco Liriano</a>,\n",
       " <a class=\"player-link\" data-bref=\"stromma01\" data-mlb=\"573186\" data-razz=\"https://razzball.com/player/13431/Marcus+Stroman/\" href=\"#\">Marcus Stroman</a>,\n",
       " <a class=\"player-link\" data-bref=\"colege01\" data-mlb=\"543037\" data-razz=\"https://razzball.com/player/13125/Gerrit+Cole/\" href=\"#\">Gerrit Cole</a>,\n",
       " <a class=\"player-link\" data-bref=\"fontwi01\" data-mlb=\"521655\" data-razz=\"https://razzball.com/player/521655/Wilmer+Font/\" href=\"#\">Wilmer Font</a>,\n",
       " <a class=\"player-link\" data-bref=\"bregmal01\" data-mlb=\"608324\" data-razz=\"https://razzball.com/player/17678/Alex+Bregman/\" href=\"#\">Alex Bregman</a>,\n",
       " <a class=\"player-link\" data-bref=\"altuvjo01\" data-mlb=\"514888\" data-razz=\"https://razzball.com/player/5417/Jose+Altuve/\" href=\"#\">Jose Altuve</a>,\n",
       " <a class=\"player-link\" data-bref=\"reddijo01\" data-mlb=\"502210\" data-razz=\"https://razzball.com/player/3892/Josh+Reddick/\" href=\"#\">Josh Reddick</a>,\n",
       " <a class=\"player-link\" data-bref=\"gattiev01\" data-mlb=\"594828\" data-razz=\"https://razzball.com/player/11003/Evan+Gattis/\" href=\"#\">Evan Gattis</a>,\n",
       " <a class=\"player-link\" data-bref=\"gonzama01\" data-mlb=\"503556\" data-razz=\"https://razzball.com/player/5497/Marwin+Gonzalez/\" href=\"#\">Marwin Gonzalez</a>,\n",
       " <a class=\"player-link\" data-bref=\"reedaj01\" data-mlb=\"607223\" data-razz=\"https://razzball.com/player/16246/A.J.+Reed/\" href=\"#\">AJ Reed</a>,\n",
       " <a class=\"player-link\" data-bref=\"stassma01\" data-mlb=\"545358\" data-razz=\"https://razzball.com/player/10059/Max+Stassi/\" href=\"#\">Max Stassi</a>,\n",
       " <a class=\"player-link\" data-bref=\"kempto01\" data-mlb=\"643393\" data-razz=\"https://razzball.com/player/14894/Tony+Kemp/\" href=\"#\">Tony Kemp</a>,\n",
       " <a class=\"player-link\" data-bref=\"marisja01\" data-mlb=\"545350\" data-razz=\"https://razzball.com/player/11339/Jake+Marisnick/\" href=\"#\">Jake Marisnick</a>,\n",
       " <a class=\"player-link\" data-bref=\"anderch01\" data-mlb=\"502624\" data-razz=\"https://razzball.com/player/6895/Chase+Anderson/\" href=\"#\">Chase Anderson</a>,\n",
       " <a class=\"player-link\" data-bref=\"romansa01\" data-mlb=\"607219\" data-razz=\"https://razzball.com/player/13690/Sal+Romano/\" href=\"#\">Sal Romano</a>,\n",
       " <a class=\"player-link\" data-bref=\"schebsc01\" data-mlb=\"594988\" data-razz=\"https://razzball.com/player/12225/Scott+Schebler/\" href=\"#\">Scott Schebler</a>,\n",
       " <a class=\"player-link\" data-bref=\"barnhtu01\" data-mlb=\"571466\" data-razz=\"https://razzball.com/player/10200/Tucker+Barnhart/\" href=\"#\">Tucker Barnhart</a>,\n",
       " <a class=\"player-link\" data-bref=\"vottojo01\" data-mlb=\"458015\" data-razz=\"https://razzball.com/player/4314/Joey+Votto/\" href=\"#\">Joey Votto</a>,\n",
       " <a class=\"player-link\" data-bref=\"gennesc01\" data-mlb=\"571697\" data-razz=\"https://razzball.com/player/10339/Scooter+Gennett/\" href=\"#\">Scooter Gennett</a>,\n",
       " <a class=\"player-link\" data-bref=\"suareeu01\" data-mlb=\"553993\" data-razz=\"https://razzball.com/player/12552/Eugenio+Suarez/\" href=\"#\">Eugenio Suarez</a>,\n",
       " <a class=\"player-link\" data-bref=\"winkeje01\" data-mlb=\"608385\" data-razz=\"https://razzball.com/player/13590/Jesse+Winker/\" href=\"#\">Jesse Winker</a>,\n",
       " <a class=\"player-link\" data-bref=\"perazjo01\" data-mlb=\"606299\" data-razz=\"https://razzball.com/player/13593/Jose+Peraza/\" href=\"#\">Jose Peraza</a>,\n",
       " <a class=\"player-link\" data-bref=\"romansa01\" data-mlb=\"607219\" data-razz=\"https://razzball.com/player/13690/Sal+Romano/\" href=\"#\">Sal Romano</a>,\n",
       " <a class=\"player-link\" data-bref=\"hamilbi02\" data-mlb=\"571740\" data-razz=\"https://razzball.com/player/10199/Billy+Hamilton/\" href=\"#\">Billy Hamilton</a>,\n",
       " <a class=\"player-link\" data-bref=\"degroja01\" data-mlb=\"594798\" data-razz=\"https://razzball.com/player/10954/Jacob+deGrom/\" href=\"#\">Jacob deGrom</a>,\n",
       " <a class=\"player-link\" data-bref=\"\" data-mlb=\"645261\" data-razz=\"https://razzball.com/player/645261/Sandy+Alcantara/\" href=\"#\">Sandy Alcantara</a>,\n",
       " <a class=\"player-link\" data-bref=\"coveydy01\" data-mlb=\"592229\" data-razz=\"https://razzball.com/player/592229/Dylan+Covey/\" href=\"#\">Dylan Covey</a>,\n",
       " <a class=\"player-link\" data-bref=\"gallayo01\" data-mlb=\"451596\" data-razz=\"https://razzball.com/player/8173/Yovani+Gallardo/\" href=\"#\">Yovani Gallardo</a>,\n",
       " <a class=\"player-link\" data-bref=\"teherju01\" data-mlb=\"527054\" data-razz=\"https://razzball.com/player/6797/Julio+Teheran/\" href=\"#\">Julio Teheran</a>,\n",
       " <a class=\"player-link\" data-bref=\"mikolmi01\" data-mlb=\"571945\" data-razz=\"https://razzball.com/player/571945/Miles+Mikolas/\" href=\"#\">Miles Mikolas</a>,\n",
       " <a class=\"player-link\" data-bref=\"\" data-mlb=\"605498\" data-razz=\"https://razzball.com/player/605498/Andrew+Suarez/\" href=\"#\">Andrew Suarez</a>,\n",
       " <a class=\"player-link\" data-bref=\"corbipa01\" data-mlb=\"571578\" data-razz=\"https://razzball.com/player/9323/Patrick+Corbin/\" href=\"#\">Patrick Corbin</a>,\n",
       " <a class=\"player-link\" data-bref=\"bauertr01\" data-mlb=\"545333\" data-razz=\"https://razzball.com/player/12703/Trevor+Bauer/\" href=\"#\">Trevor Bauer</a>,\n",
       " <a class=\"player-link\" data-bref=\"\" data-mlb=\"621112\" data-razz=\"https://razzball.com/player/14739/Paul+Blackburn/\" href=\"#\">Paul Blackburn</a>,\n",
       " <a class=\"player-link\" data-bref=\"anderty01\" data-mlb=\"542881\" data-razz=\"https://razzball.com/player/12880/Tyler+Anderson/\" href=\"#\">Tyler Anderson</a>,\n",
       " <a class=\"player-link\" data-bref=\"hillri01\" data-mlb=\"448179\" data-razz=\"https://razzball.com/player/4806/Rich+Hill/\" href=\"#\">Rich Hill</a>,\n",
       " <a class=\"player-link\" data-bref=\"kenneia01\" data-mlb=\"453178\" data-razz=\"https://razzball.com/player/6986/Ian+Kennedy/\" href=\"#\">Ian Kennedy</a>,\n",
       " <a class=\"player-link\" data-bref=\"gonzama02\" data-mlb=\"594835\" data-razz=\"https://razzball.com/player/15467/Marco+Gonzales/\" href=\"#\">Marco Gonzales</a>,\n",
       " <a class=\"player-link\" data-bref=\"musgrjo01\" data-mlb=\"605397\" data-razz=\"https://razzball.com/player/12970/Joe+Musgrove/\" href=\"#\">Joe Musgrove</a>,\n",
       " <a class=\"player-link\" data-bref=\"\" data-mlb=\"641778\" data-razz=\"https://razzball.com/player/641778/Eric+Lauer/\" href=\"#\">Eric Lauer</a>]"
      ]
     },
     "execution_count": 45,
     "metadata": {},
     "output_type": "execute_result"
    }
   ],
   "source": [
    "playerlinks"
   ]
  },
  {
   "cell_type": "code",
   "execution_count": 46,
   "metadata": {},
   "outputs": [],
   "source": [
    "players = []\n",
    "for player in playerlinks:\n",
    "    players.append(player.text.strip())"
   ]
  },
  {
   "cell_type": "code",
   "execution_count": 47,
   "metadata": {},
   "outputs": [
    {
     "data": {
      "text/plain": [
       "['Jose Berrios',\n",
       " 'Mike Montgomery',\n",
       " 'Joe Mauer',\n",
       " 'Eduardo Escobar',\n",
       " 'Eddie Rosario',\n",
       " 'Brian Dozier',\n",
       " 'Robbie Grossman',\n",
       " 'Max Kepler',\n",
       " 'Mitch Garver',\n",
       " 'Ehire Adrianza',\n",
       " 'Jose Berrios',\n",
       " 'Albert Almora Jr.',\n",
       " 'Jason Heyward',\n",
       " 'Ben Zobrist',\n",
       " 'Anthony Rizzo',\n",
       " 'Addison Russell',\n",
       " 'Kyle Schwarber',\n",
       " 'Ian Happ',\n",
       " 'Chris Gimenez',\n",
       " 'Mike Montgomery',\n",
       " 'Felix Pena',\n",
       " 'David Hess',\n",
       " 'Erick Fedde',\n",
       " 'Nick Pivetta',\n",
       " 'Eduardo Rodriguez',\n",
       " 'CC Sabathia',\n",
       " 'Francisco Liriano',\n",
       " 'Marcus Stroman',\n",
       " 'Gerrit Cole',\n",
       " 'Wilmer Font',\n",
       " 'Alex Bregman',\n",
       " 'Jose Altuve',\n",
       " 'Josh Reddick',\n",
       " 'Evan Gattis',\n",
       " 'Marwin Gonzalez',\n",
       " 'AJ Reed',\n",
       " 'Max Stassi',\n",
       " 'Tony Kemp',\n",
       " 'Jake Marisnick',\n",
       " 'Chase Anderson',\n",
       " 'Sal Romano',\n",
       " 'Scott Schebler',\n",
       " 'Tucker Barnhart',\n",
       " 'Joey Votto',\n",
       " 'Scooter Gennett',\n",
       " 'Eugenio Suarez',\n",
       " 'Jesse Winker',\n",
       " 'Jose Peraza',\n",
       " 'Sal Romano',\n",
       " 'Billy Hamilton',\n",
       " 'Jacob deGrom',\n",
       " 'Sandy Alcantara',\n",
       " 'Dylan Covey',\n",
       " 'Yovani Gallardo',\n",
       " 'Julio Teheran',\n",
       " 'Miles Mikolas',\n",
       " 'Andrew Suarez',\n",
       " 'Patrick Corbin',\n",
       " 'Trevor Bauer',\n",
       " 'Paul Blackburn',\n",
       " 'Tyler Anderson',\n",
       " 'Rich Hill',\n",
       " 'Ian Kennedy',\n",
       " 'Marco Gonzales',\n",
       " 'Joe Musgrove',\n",
       " 'Eric Lauer']"
      ]
     },
     "execution_count": 47,
     "metadata": {},
     "output_type": "execute_result"
    }
   ],
   "source": [
    "players"
   ]
  },
  {
   "cell_type": "code",
   "execution_count": 79,
   "metadata": {},
   "outputs": [],
   "source": [
    "#batting Orders\n",
    "TeamLineUp = soup.find_all(\"div\", \"players\")"
   ]
  },
  {
   "cell_type": "code",
   "execution_count": 62,
   "metadata": {},
   "outputs": [
    {
     "data": {
      "text/plain": [
       "'1. Joe Mauer (L) 1B2. Eduardo Escobar (S) 3B3. Eddie Rosario (L) LF4. Brian Dozier (R) 2B5. Robbie Grossman (S) RF6. Max Kepler (L) CF7. Mitch Garver (R) C8. Ehire Adrianza (S) SS9. Jose Berrios (R) P'"
      ]
     },
     "execution_count": 62,
     "metadata": {},
     "output_type": "execute_result"
    }
   ],
   "source": [
    "BO=TeamLineUp[0].text.strip()\n",
    "BO"
   ]
  },
  {
   "cell_type": "code",
   "execution_count": 77,
   "metadata": {},
   "outputs": [
    {
     "data": {
      "text/plain": [
       "['Joe Mauer',\n",
       " 'Eduardo Escobar',\n",
       " 'Eddie Rosario',\n",
       " 'Brian Dozier',\n",
       " 'Robbie Grossman',\n",
       " 'Max Kepler',\n",
       " 'Mitch Garver',\n",
       " 'Ehire Adrianza',\n",
       " 'Jose Berrios']"
      ]
     },
     "execution_count": 77,
     "metadata": {},
     "output_type": "execute_result"
    }
   ],
   "source": [
    "re.findall('\\w+\\s\\w+', BO)"
   ]
  },
  {
   "cell_type": "code",
   "execution_count": 58,
   "metadata": {},
   "outputs": [
    {
     "ename": "IndexError",
     "evalue": "list index out of range",
     "output_type": "error",
     "traceback": [
      "\u001b[0;31m---------------------------------------------------------------------------\u001b[0m",
      "\u001b[0;31mIndexError\u001b[0m                                Traceback (most recent call last)",
      "\u001b[0;32m<ipython-input-58-b6fe771de29a>\u001b[0m in \u001b[0;36m<module>\u001b[0;34m()\u001b[0m\n\u001b[0;32m----> 1\u001b[0;31m \u001b[0mtestBO\u001b[0m\u001b[0;34m[\u001b[0m\u001b[0;36m1\u001b[0m\u001b[0;34m]\u001b[0m\u001b[0;34m\u001b[0m\u001b[0m\n\u001b[0m",
      "\u001b[0;31mIndexError\u001b[0m: list index out of range"
     ]
    }
   ],
   "source": []
  },
  {
   "cell_type": "code",
   "execution_count": null,
   "metadata": {},
   "outputs": [],
   "source": []
  }
 ],
 "metadata": {
  "kernelspec": {
   "display_name": "Python 3",
   "language": "python",
   "name": "python3"
  },
  "language_info": {
   "codemirror_mode": {
    "name": "ipython",
    "version": 3
   },
   "file_extension": ".py",
   "mimetype": "text/x-python",
   "name": "python",
   "nbconvert_exporter": "python",
   "pygments_lexer": "ipython3",
   "version": "3.6.4"
  }
 },
 "nbformat": 4,
 "nbformat_minor": 2
}
