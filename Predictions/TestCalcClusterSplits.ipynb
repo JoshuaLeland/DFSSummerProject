{
 "cells": [
  {
   "cell_type": "code",
   "execution_count": 1,
   "metadata": {},
   "outputs": [],
   "source": [
    "import numpy as np\n",
    "import pandas as pd"
   ]
  },
  {
   "cell_type": "code",
   "execution_count": 2,
   "metadata": {},
   "outputs": [],
   "source": [
    "def aggregateCluster(clusterNum,ptype):\n",
    "    GLList=[]\n",
    "    if ptype =='Batters':\n",
    "        Clusters = pd.read_csv('./BatterClusters/PredBattingClusters.csv', index_col=0)\n",
    "    else:\n",
    "        Clusters = pd.read_csv('./PitcherClusters/PredPitchingClusters.csv', index_col=0)\n",
    "    \n",
    "    PlayersCluster = Clusters[Clusters['Labels']==clusterNum]\n",
    "    for players in PlayersCluster.values:\n",
    "        ID=players[1]\n",
    "        if players[3] == 'Y':\n",
    "            GameLog = pd.read_csv('../Data/DataBaseCrawler/GameLogs/'+ptype+'/'+str(ID)+'GL.csv', index_col=0)\n",
    "        else:\n",
    "            GameLog = pd.read_csv('../Data/DataBaseCrawler/GameLogs/Inactive'+ptype+'/'+str(ID)+'GL.csv', index_col=0)\n",
    "        GameLog = GameLog[GameLog['Date']!='Total']\n",
    "        GLList.append(GameLog)\n",
    "    return pd.concat(GLList)"
   ]
  },
  {
   "cell_type": "code",
   "execution_count": 3,
   "metadata": {},
   "outputs": [],
   "source": [
    "def stripAt(x):\n",
    "    return x.strip('@')"
   ]
  },
  {
   "cell_type": "code",
   "execution_count": 4,
   "metadata": {},
   "outputs": [],
   "source": [
    "def cleanGL(x):\n",
    "    try:\n",
    "        out = float(x)\n",
    "    except:\n",
    "        try:\n",
    "            out = float(x.strip('%'))\n",
    "        except:\n",
    "            out = 0\n",
    "    return out"
   ]
  },
  {
   "cell_type": "code",
   "execution_count": 5,
   "metadata": {},
   "outputs": [],
   "source": [
    "#Get The batter cluster types\n",
    "BattingClusters = pd.read_csv('./BatterClusters/PredBattingClusters.csv', index_col=0)\n",
    "PitchingClusters = pd.read_csv('./PitcherClusters/TotalPitchingClusters.csv', index_col=0)"
   ]
  },
  {
   "cell_type": "code",
   "execution_count": 6,
   "metadata": {
    "scrolled": true
   },
   "outputs": [
    {
     "data": {
      "text/html": [
       "<div>\n",
       "<style scoped>\n",
       "    .dataframe tbody tr th:only-of-type {\n",
       "        vertical-align: middle;\n",
       "    }\n",
       "\n",
       "    .dataframe tbody tr th {\n",
       "        vertical-align: top;\n",
       "    }\n",
       "\n",
       "    .dataframe thead th {\n",
       "        text-align: right;\n",
       "    }\n",
       "</style>\n",
       "<table border=\"1\" class=\"dataframe\">\n",
       "  <thead>\n",
       "    <tr style=\"text-align: right;\">\n",
       "      <th></th>\n",
       "      <th>Name</th>\n",
       "      <th>ID</th>\n",
       "      <th>Labels</th>\n",
       "      <th>Active</th>\n",
       "    </tr>\n",
       "  </thead>\n",
       "  <tbody>\n",
       "  </tbody>\n",
       "</table>\n",
       "</div>"
      ],
      "text/plain": [
       "Empty DataFrame\n",
       "Columns: [Name, ID, Labels, Active]\n",
       "Index: []"
      ]
     },
     "execution_count": 6,
     "metadata": {},
     "output_type": "execute_result"
    }
   ],
   "source": [
    "PitchingClusters[PitchingClusters['Name']=='Mike Montgomery']"
   ]
  },
  {
   "cell_type": "code",
   "execution_count": 7,
   "metadata": {},
   "outputs": [
    {
     "data": {
      "text/plain": [
       "(7566, 42)"
      ]
     },
     "execution_count": 7,
     "metadata": {},
     "output_type": "execute_result"
    }
   ],
   "source": [
    "#Test the function\n",
    "PitcherCluster=aggregateCluster(6,'Pitchers')\n",
    "PitcherCluster=PitcherCluster[PitcherCluster['GS']==1]\n",
    "PitcherCluster['Opp']=PitcherCluster['Opp'].apply(stripAt)\n",
    "PitcherCluster.shape"
   ]
  },
  {
   "cell_type": "code",
   "execution_count": 8,
   "metadata": {},
   "outputs": [
    {
     "data": {
      "text/plain": [
       "(12303, 40)"
      ]
     },
     "execution_count": 8,
     "metadata": {},
     "output_type": "execute_result"
    }
   ],
   "source": [
    "BatterCluster = aggregateCluster(17,'Batters')\n",
    "BatterCluster = BatterCluster[~BatterCluster['Pos'].isin(['PR-LF', 'PH-CF', 'PH-RF','PH-1B','PH-SS','PH-2B','PR-C','P','PH-RF-CF','PR-DH','PH-3B','PH-C','PH','PH-LF','DH','PR-1B','PR-RF','PH-DH','1B-PH','RF-PH'])]\n",
    "BatterCluster = BatterCluster[BatterCluster['BO']!=0]\n",
    "BatterCluster['Opp']=BatterCluster['Opp'].apply(stripAt)\n",
    "BatterCluster.shape"
   ]
  },
  {
   "cell_type": "code",
   "execution_count": 9,
   "metadata": {},
   "outputs": [
    {
     "data": {
      "text/plain": [
       "Index(['Date', 'Team_x', 'Opp_x', 'BO', 'Pos', 'G_x', 'AB', 'PA', 'H_x', '1B',\n",
       "       '2B', '3B', 'HR_x', 'R_x', 'RBI', 'BB_x', 'IBB_x', 'SO_x', 'HBP_x',\n",
       "       'SF', 'SH', 'GDP', 'SB', 'CS', 'AVG_x', 'DKfp_x', 'BB%_x', 'K%_x',\n",
       "       'BB/K', 'OBP', 'SLG', 'OPS', 'ISO', 'Spd', 'BABIP_x', 'wSB', 'wRC',\n",
       "       'wRAA', 'wOBA', 'wRC+', 'Team_y', 'Opp_y', 'GS', 'W', 'L', 'ERA', 'G_y',\n",
       "       'GS_x', 'CG', 'ShO', 'SV', 'HLD', 'BS', 'IP', 'TBF', 'H_y', 'R_y', 'ER',\n",
       "       'HR_y', 'BB_y', 'IBB_y', 'HBP_y', 'WP', 'BK', 'SO_y', 'GSv2', 'DKfp_y',\n",
       "       'K/9', 'BB/9', 'K/BB', 'HR/9', 'K%_y', 'BB%_y', 'K-BB%', 'AVG_y',\n",
       "       'WHIP', 'BABIP_y', 'LOB%', 'ERA-', 'FIP-', 'FIP'],\n",
       "      dtype='object')"
      ]
     },
     "execution_count": 9,
     "metadata": {},
     "output_type": "execute_result"
    }
   ],
   "source": [
    "MergedClusters=pd.merge(BatterCluster,PitcherCluster, left_on=['Date','Team','Opp'], right_on=['Date','Opp','Team'])\n",
    "MergedClusters=MergedClusters[MergedClusters['PA']!=0]\n",
    "MergedClusters.columns"
   ]
  },
  {
   "cell_type": "code",
   "execution_count": 10,
   "metadata": {},
   "outputs": [],
   "source": [
    "MergedClusters=MergedClusters[['BO', 'G_x', 'AB', 'PA', 'H_x', '1B','2B', '3B', 'HR_x', 'R_x', 'RBI', 'BB_x', 'IBB_x', 'SO_x', 'HBP_x','SF', 'SH', 'GDP', 'SB', 'CS', 'AVG_x', 'DKfp_x', 'BB%_x', 'K%_x','BB/K', 'OBP', 'SLG', 'OPS', 'ISO', 'Spd', 'BABIP_x', 'wSB', 'wRC','wRAA', 'wOBA', 'wRC+', 'Team_y', 'Opp_y', 'GS', 'W', 'L', 'ERA', 'G_y',\n",
    "       'GS_x', 'CG', 'ShO', 'SV', 'HLD', 'BS', 'IP', 'TBF', 'H_y', 'R_y', 'ER',\n",
    "       'HR_y', 'BB_y', 'IBB_y', 'HBP_y', 'WP', 'BK', 'SO_y', 'GSv2', 'DKfp_y',\n",
    "       'K/9', 'BB/9', 'K/BB', 'HR/9', 'K%_y', 'BB%_y', 'K-BB%', 'AVG_y',\n",
    "       'WHIP', 'BABIP_y', 'LOB%', 'ERA-', 'FIP-', 'FIP']].applymap(cleanGL)"
   ]
  },
  {
   "cell_type": "code",
   "execution_count": 11,
   "metadata": {},
   "outputs": [
    {
     "data": {
      "text/plain": [
       "(1048, 77)"
      ]
     },
     "execution_count": 11,
     "metadata": {},
     "output_type": "execute_result"
    }
   ],
   "source": [
    "MergedClusters.shape"
   ]
  },
  {
   "cell_type": "code",
   "execution_count": 12,
   "metadata": {},
   "outputs": [
    {
     "data": {
      "text/html": [
       "<div>\n",
       "<style scoped>\n",
       "    .dataframe tbody tr th:only-of-type {\n",
       "        vertical-align: middle;\n",
       "    }\n",
       "\n",
       "    .dataframe tbody tr th {\n",
       "        vertical-align: top;\n",
       "    }\n",
       "\n",
       "    .dataframe thead th {\n",
       "        text-align: right;\n",
       "    }\n",
       "</style>\n",
       "<table border=\"1\" class=\"dataframe\">\n",
       "  <thead>\n",
       "    <tr style=\"text-align: right;\">\n",
       "      <th></th>\n",
       "      <th>BO</th>\n",
       "      <th>G_x</th>\n",
       "      <th>AB</th>\n",
       "      <th>PA</th>\n",
       "      <th>H_x</th>\n",
       "      <th>1B</th>\n",
       "      <th>2B</th>\n",
       "      <th>3B</th>\n",
       "      <th>HR_x</th>\n",
       "      <th>R_x</th>\n",
       "      <th>...</th>\n",
       "      <th>K%_y</th>\n",
       "      <th>BB%_y</th>\n",
       "      <th>K-BB%</th>\n",
       "      <th>AVG_y</th>\n",
       "      <th>WHIP</th>\n",
       "      <th>BABIP_y</th>\n",
       "      <th>LOB%</th>\n",
       "      <th>ERA-</th>\n",
       "      <th>FIP-</th>\n",
       "      <th>FIP</th>\n",
       "    </tr>\n",
       "  </thead>\n",
       "  <tbody>\n",
       "    <tr>\n",
       "      <th>0</th>\n",
       "      <td>6476.0</td>\n",
       "      <td>1048.0</td>\n",
       "      <td>3443.0</td>\n",
       "      <td>3886.0</td>\n",
       "      <td>813.0</td>\n",
       "      <td>529.0</td>\n",
       "      <td>178.0</td>\n",
       "      <td>17.0</td>\n",
       "      <td>89.0</td>\n",
       "      <td>394.0</td>\n",
       "      <td>...</td>\n",
       "      <td>22592.3</td>\n",
       "      <td>9452.4</td>\n",
       "      <td>13143.5</td>\n",
       "      <td>249.028</td>\n",
       "      <td>1480.42</td>\n",
       "      <td>300.027</td>\n",
       "      <td>78482.7</td>\n",
       "      <td>120775.0</td>\n",
       "      <td>107278.0</td>\n",
       "      <td>4400.8</td>\n",
       "    </tr>\n",
       "  </tbody>\n",
       "</table>\n",
       "<p>1 rows × 77 columns</p>\n",
       "</div>"
      ],
      "text/plain": [
       "       BO     G_x      AB      PA    H_x     1B     2B    3B  HR_x    R_x  \\\n",
       "0  6476.0  1048.0  3443.0  3886.0  813.0  529.0  178.0  17.0  89.0  394.0   \n",
       "\n",
       "    ...       K%_y   BB%_y    K-BB%    AVG_y     WHIP  BABIP_y     LOB%  \\\n",
       "0   ...    22592.3  9452.4  13143.5  249.028  1480.42  300.027  78482.7   \n",
       "\n",
       "       ERA-      FIP-     FIP  \n",
       "0  120775.0  107278.0  4400.8  \n",
       "\n",
       "[1 rows x 77 columns]"
      ]
     },
     "execution_count": 12,
     "metadata": {},
     "output_type": "execute_result"
    }
   ],
   "source": [
    "ClusterSplit = MergedClusters.sum(axis=0).to_frame().T\n",
    "ClusterSplit.head()"
   ]
  },
  {
   "cell_type": "code",
   "execution_count": 3,
   "metadata": {},
   "outputs": [
    {
     "data": {
      "text/plain": [
       "[]"
      ]
     },
     "execution_count": 3,
     "metadata": {},
     "output_type": "execute_result"
    }
   ],
   "source": []
  },
  {
   "cell_type": "code",
   "execution_count": null,
   "metadata": {},
   "outputs": [],
   "source": []
  }
 ],
 "metadata": {
  "kernelspec": {
   "display_name": "Python 3",
   "language": "python",
   "name": "python3"
  },
  "language_info": {
   "codemirror_mode": {
    "name": "ipython",
    "version": 3
   },
   "file_extension": ".py",
   "mimetype": "text/x-python",
   "name": "python",
   "nbconvert_exporter": "python",
   "pygments_lexer": "ipython3",
   "version": "3.6.4"
  }
 },
 "nbformat": 4,
 "nbformat_minor": 2
}
