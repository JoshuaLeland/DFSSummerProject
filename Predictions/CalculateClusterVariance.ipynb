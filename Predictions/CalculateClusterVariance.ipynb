{
 "cells": [
  {
   "cell_type": "code",
   "execution_count": 1,
   "metadata": {},
   "outputs": [],
   "source": [
    "import numpy as np\n",
    "import pandas as pd"
   ]
  },
  {
   "cell_type": "code",
   "execution_count": 2,
   "metadata": {},
   "outputs": [
    {
     "data": {
      "text/html": [
       "<div>\n",
       "<style scoped>\n",
       "    .dataframe tbody tr th:only-of-type {\n",
       "        vertical-align: middle;\n",
       "    }\n",
       "\n",
       "    .dataframe tbody tr th {\n",
       "        vertical-align: top;\n",
       "    }\n",
       "\n",
       "    .dataframe thead th {\n",
       "        text-align: right;\n",
       "    }\n",
       "</style>\n",
       "<table border=\"1\" class=\"dataframe\">\n",
       "  <thead>\n",
       "    <tr style=\"text-align: right;\">\n",
       "      <th></th>\n",
       "      <th>Name</th>\n",
       "      <th>ID</th>\n",
       "      <th>Labels</th>\n",
       "      <th>Active</th>\n",
       "    </tr>\n",
       "  </thead>\n",
       "  <tbody>\n",
       "    <tr>\n",
       "      <th>0</th>\n",
       "      <td>J.D. Martinez</td>\n",
       "      <td>6184</td>\n",
       "      <td>6</td>\n",
       "      <td>Y</td>\n",
       "    </tr>\n",
       "    <tr>\n",
       "      <th>1</th>\n",
       "      <td>Andrew Benintendi</td>\n",
       "      <td>17901</td>\n",
       "      <td>8</td>\n",
       "      <td>Y</td>\n",
       "    </tr>\n",
       "    <tr>\n",
       "      <th>2</th>\n",
       "      <td>Brock Holt</td>\n",
       "      <td>9345</td>\n",
       "      <td>24</td>\n",
       "      <td>Y</td>\n",
       "    </tr>\n",
       "    <tr>\n",
       "      <th>3</th>\n",
       "      <td>Eduardo Nunez</td>\n",
       "      <td>6848</td>\n",
       "      <td>24</td>\n",
       "      <td>Y</td>\n",
       "    </tr>\n",
       "    <tr>\n",
       "      <th>4</th>\n",
       "      <td>Ian Kinsler</td>\n",
       "      <td>6195</td>\n",
       "      <td>14</td>\n",
       "      <td>Y</td>\n",
       "    </tr>\n",
       "  </tbody>\n",
       "</table>\n",
       "</div>"
      ],
      "text/plain": [
       "                Name     ID  Labels Active\n",
       "0      J.D. Martinez   6184       6      Y\n",
       "1  Andrew Benintendi  17901       8      Y\n",
       "2         Brock Holt   9345      24      Y\n",
       "3      Eduardo Nunez   6848      24      Y\n",
       "4        Ian Kinsler   6195      14      Y"
      ]
     },
     "execution_count": 2,
     "metadata": {},
     "output_type": "execute_result"
    }
   ],
   "source": [
    "#ClusterNum\n",
    "clusterNum=5\n",
    "BattingClusters= pd.read_csv('./BatterClusters/PredBattingClusters.csv', index_col=0)\n",
    "BattingClusters.head()"
   ]
  },
  {
   "cell_type": "code",
   "execution_count": 3,
   "metadata": {},
   "outputs": [
    {
     "data": {
      "text/html": [
       "<div>\n",
       "<style scoped>\n",
       "    .dataframe tbody tr th:only-of-type {\n",
       "        vertical-align: middle;\n",
       "    }\n",
       "\n",
       "    .dataframe tbody tr th {\n",
       "        vertical-align: top;\n",
       "    }\n",
       "\n",
       "    .dataframe thead th {\n",
       "        text-align: right;\n",
       "    }\n",
       "</style>\n",
       "<table border=\"1\" class=\"dataframe\">\n",
       "  <thead>\n",
       "    <tr style=\"text-align: right;\">\n",
       "      <th></th>\n",
       "      <th>Name</th>\n",
       "      <th>ID</th>\n",
       "      <th>Labels</th>\n",
       "      <th>Active</th>\n",
       "    </tr>\n",
       "  </thead>\n",
       "  <tbody>\n",
       "    <tr>\n",
       "      <th>35</th>\n",
       "      <td>Efren Navarro</td>\n",
       "      <td>9854</td>\n",
       "      <td>5</td>\n",
       "      <td>Y</td>\n",
       "    </tr>\n",
       "    <tr>\n",
       "      <th>141</th>\n",
       "      <td>Tyler Saladino</td>\n",
       "      <td>10807</td>\n",
       "      <td>5</td>\n",
       "      <td>Y</td>\n",
       "    </tr>\n",
       "    <tr>\n",
       "      <th>263</th>\n",
       "      <td>Andrew Romine</td>\n",
       "      <td>1159</td>\n",
       "      <td>5</td>\n",
       "      <td>Y</td>\n",
       "    </tr>\n",
       "    <tr>\n",
       "      <th>275</th>\n",
       "      <td>Pedro Florimon</td>\n",
       "      <td>8385</td>\n",
       "      <td>5</td>\n",
       "      <td>Y</td>\n",
       "    </tr>\n",
       "    <tr>\n",
       "      <th>338</th>\n",
       "      <td>Chase d'Arnaud</td>\n",
       "      <td>6652</td>\n",
       "      <td>5</td>\n",
       "      <td>Y</td>\n",
       "    </tr>\n",
       "  </tbody>\n",
       "</table>\n",
       "</div>"
      ],
      "text/plain": [
       "               Name     ID  Labels Active\n",
       "35    Efren Navarro   9854       5      Y\n",
       "141  Tyler Saladino  10807       5      Y\n",
       "263   Andrew Romine   1159       5      Y\n",
       "275  Pedro Florimon   8385       5      Y\n",
       "338  Chase d'Arnaud   6652       5      Y"
      ]
     },
     "execution_count": 3,
     "metadata": {},
     "output_type": "execute_result"
    }
   ],
   "source": [
    "#Get Batters in a cluster.\n",
    "BattersInCluster = BattingClusters[BattingClusters['Labels']==clusterNum]\n",
    "BattersInCluster.head()"
   ]
  },
  {
   "cell_type": "code",
   "execution_count": 4,
   "metadata": {},
   "outputs": [],
   "source": [
    "ID=BattersInCluster['ID'].values[0]\n",
    "GameLog = pd.read_csv('../Data/DataBaseCrawler/GameLogs/Batters/'+str(ID)+'GL.csv', index_col=0)\n",
    "FPs=GameLog['DKfp'][1:]\n",
    "mean = np.mean(FPs)\n",
    "var = np.var(FPs)\n",
    "num = len(FPs)"
   ]
  },
  {
   "cell_type": "code",
   "execution_count": 5,
   "metadata": {},
   "outputs": [],
   "source": [
    "ClusterVars = []\n",
    "ClusterDFs = []\n",
    "ClusterMeans = []\n",
    "ClusterData=[]\n",
    "for i in range(32):\n",
    "    BattersInCluster = BattingClusters[BattingClusters['Labels']==i]\n",
    "    Data=[]\n",
    "    totVar = 0.0\n",
    "    totNum = 0\n",
    "    for batters in BattersInCluster.values:\n",
    "        ID=batters[1]\n",
    "        if batters[3] == 'Y':\n",
    "            GameLog = pd.read_csv('../Data/DataBaseCrawler/GameLogs/Batters/'+str(ID)+'GL.csv', index_col=0)\n",
    "        else:\n",
    "            GameLog = pd.read_csv('../Data/DataBaseCrawler/GameLogs/InactiveBatters/'+str(ID)+'GL.csv', index_col=0)\n",
    "        Name = batters[0]\n",
    "        FPs=GameLog['DKfp'][1:]\n",
    "        mean = np.mean(FPs)\n",
    "        var = np.var(FPs)\n",
    "        num = len(FPs)\n",
    "        totVar = totVar+num*var\n",
    "        totNum = totNum + num\n",
    "        Data.append([Name,ID,mean,var,num])\n",
    "    ClusterDF = pd.DataFrame(data=Data, columns=['Name', 'ID', 'Mean','Var','Count'])\n",
    "    ClusterDFs.append(ClusterDF)\n",
    "    ClusterVars.append(totVar/totNum)\n",
    "    ClusterMeans.append(mean)\n",
    "    ClusterData.append([i,mean,totVar/totNum])\n",
    "ClusterDataDF = pd.DataFrame(data=ClusterData, columns=['Label', 'Mean FP', 'Var FP'])"
   ]
  },
  {
   "cell_type": "code",
   "execution_count": 6,
   "metadata": {},
   "outputs": [
    {
     "data": {
      "text/html": [
       "<div>\n",
       "<style scoped>\n",
       "    .dataframe tbody tr th:only-of-type {\n",
       "        vertical-align: middle;\n",
       "    }\n",
       "\n",
       "    .dataframe tbody tr th {\n",
       "        vertical-align: top;\n",
       "    }\n",
       "\n",
       "    .dataframe thead th {\n",
       "        text-align: right;\n",
       "    }\n",
       "</style>\n",
       "<table border=\"1\" class=\"dataframe\">\n",
       "  <thead>\n",
       "    <tr style=\"text-align: right;\">\n",
       "      <th></th>\n",
       "      <th>Label</th>\n",
       "      <th>Mean FP</th>\n",
       "      <th>Var FP</th>\n",
       "    </tr>\n",
       "  </thead>\n",
       "  <tbody>\n",
       "    <tr>\n",
       "      <th>0</th>\n",
       "      <td>0</td>\n",
       "      <td>5.694545</td>\n",
       "      <td>34.197264</td>\n",
       "    </tr>\n",
       "    <tr>\n",
       "      <th>1</th>\n",
       "      <td>1</td>\n",
       "      <td>6.302158</td>\n",
       "      <td>56.300357</td>\n",
       "    </tr>\n",
       "    <tr>\n",
       "      <th>2</th>\n",
       "      <td>2</td>\n",
       "      <td>4.787736</td>\n",
       "      <td>41.913388</td>\n",
       "    </tr>\n",
       "    <tr>\n",
       "      <th>3</th>\n",
       "      <td>3</td>\n",
       "      <td>4.083756</td>\n",
       "      <td>35.234831</td>\n",
       "    </tr>\n",
       "    <tr>\n",
       "      <th>4</th>\n",
       "      <td>4</td>\n",
       "      <td>6.648214</td>\n",
       "      <td>46.950888</td>\n",
       "    </tr>\n",
       "  </tbody>\n",
       "</table>\n",
       "</div>"
      ],
      "text/plain": [
       "   Label   Mean FP     Var FP\n",
       "0      0  5.694545  34.197264\n",
       "1      1  6.302158  56.300357\n",
       "2      2  4.787736  41.913388\n",
       "3      3  4.083756  35.234831\n",
       "4      4  6.648214  46.950888"
      ]
     },
     "execution_count": 6,
     "metadata": {},
     "output_type": "execute_result"
    }
   ],
   "source": [
    "#Save the cluster data\n",
    "ClusterDataDF.to_csv('./ClusterVariance/VarianceClusters.csv')\n",
    "ClusterDataDF.head()"
   ]
  },
  {
   "cell_type": "code",
   "execution_count": null,
   "metadata": {},
   "outputs": [],
   "source": []
  },
  {
   "cell_type": "code",
   "execution_count": null,
   "metadata": {},
   "outputs": [],
   "source": []
  },
  {
   "cell_type": "code",
   "execution_count": null,
   "metadata": {},
   "outputs": [],
   "source": []
  },
  {
   "cell_type": "code",
   "execution_count": null,
   "metadata": {},
   "outputs": [],
   "source": []
  },
  {
   "cell_type": "code",
   "execution_count": null,
   "metadata": {},
   "outputs": [],
   "source": []
  },
  {
   "cell_type": "code",
   "execution_count": null,
   "metadata": {},
   "outputs": [],
   "source": []
  },
  {
   "cell_type": "code",
   "execution_count": null,
   "metadata": {},
   "outputs": [],
   "source": []
  }
 ],
 "metadata": {
  "kernelspec": {
   "display_name": "Python 3",
   "language": "python",
   "name": "python3"
  },
  "language_info": {
   "codemirror_mode": {
    "name": "ipython",
    "version": 3
   },
   "file_extension": ".py",
   "mimetype": "text/x-python",
   "name": "python",
   "nbconvert_exporter": "python",
   "pygments_lexer": "ipython3",
   "version": "3.6.4"
  }
 },
 "nbformat": 4,
 "nbformat_minor": 2
}
