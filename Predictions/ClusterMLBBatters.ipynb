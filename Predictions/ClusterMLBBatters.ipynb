{
 "cells": [
  {
   "cell_type": "code",
   "execution_count": 1,
   "metadata": {},
   "outputs": [],
   "source": [
    "from sklearn.cluster import KMeans\n",
    "from sklearn.preprocessing import StandardScaler\n",
    "import numpy as np\n",
    "import pandas as pd\n",
    "import matplotlib.pyplot as plt\n",
    "LowerGameBound = 100"
   ]
  },
  {
   "cell_type": "code",
   "execution_count": 2,
   "metadata": {},
   "outputs": [],
   "source": [
    "##Aggregate the Batter data.\n",
    "def cleanGL(x):\n",
    "    try:\n",
    "        out = float(x)\n",
    "    except:\n",
    "        try:\n",
    "            out = float(x.strip('%'))\n",
    "        except:\n",
    "            out = 0\n",
    "    return out"
   ]
  },
  {
   "cell_type": "code",
   "execution_count": 3,
   "metadata": {},
   "outputs": [],
   "source": [
    "def MakeStdRowBatter(GameLog):\n",
    "    PA = GameLog.values[0,7]\n",
    "    GameLogStd=GameLog.drop(['DKfp'], axis=1)\n",
    "    CleanRow = [x/PA for x in map(cleanGL,GameLogStd.values[0,8:24])]+[x for x in map(cleanGL,GameLogStd.values[0,24:])]\n",
    "    return CleanRow"
   ]
  },
  {
   "cell_type": "code",
   "execution_count": 4,
   "metadata": {},
   "outputs": [],
   "source": [
    "def MakeHandRowBatter(SplitLog):\n",
    "    PAL = SplitLog.values[4,4]\n",
    "    PAR = SplitLog.values[5,4]\n",
    "    CleanRowL = [x/PAL for x in map(cleanGL,SplitLog.values[4,8:24])]+[x for x in map(cleanGL,SplitLog.values[4,24:])]\n",
    "    CleanRowR = [x/PAR for x in map(cleanGL,SplitLog.values[5,8:24])]+[x for x in map(cleanGL,SplitLog.values[5,24:])]\n",
    "    return CleanRowL+CleanRowR"
   ]
  },
  {
   "cell_type": "code",
   "execution_count": 5,
   "metadata": {},
   "outputs": [],
   "source": [
    "CurrentBattingRoster = pd.read_csv('../Data/DataBaseCrawler/MLBBatterRoster2018.csv', index_col=0)\n",
    "CurrentBattingRoster = CurrentBattingRoster[['Name','Team','ID']]\n",
    "CurrentBattingRoster.drop_duplicates()\n",
    "nc,dc = CurrentBattingRoster.shape"
   ]
  },
  {
   "cell_type": "code",
   "execution_count": 6,
   "metadata": {},
   "outputs": [],
   "source": [
    "AggregatedBatterDataFrame=pd.read_csv('../Data/DataBaseCrawler/GameLogs/InactiveBatterList.csv',index_col=0)\n",
    "AggregatedBatterDataFrame.drop_duplicates(subset=['ID'], inplace=True)\n",
    "AggregatedBatterDataFrame = AggregatedBatterDataFrame[~AggregatedBatterDataFrame['ID'].isin(CurrentBattingRoster['ID'])]"
   ]
  },
  {
   "cell_type": "code",
   "execution_count": 7,
   "metadata": {},
   "outputs": [
    {
     "data": {
      "text/plain": [
       "array([['J.D. Martinez', 'Red Sox', 6184],\n",
       "       ['Andrew Benintendi', 'Red Sox', 17901],\n",
       "       ['Brock Holt', 'Red Sox', 9345],\n",
       "       ...,\n",
       "       ['Chris Davis', 'Orioles', 9272],\n",
       "       ['Colby Rasmus', 'Orioles', 9893],\n",
       "       ['Corban Joseph', 'Orioles', 5503]], dtype=object)"
      ]
     },
     "execution_count": 7,
     "metadata": {},
     "output_type": "execute_result"
    }
   ],
   "source": [
    "CurrentBattingRoster.values"
   ]
  },
  {
   "cell_type": "code",
   "execution_count": 8,
   "metadata": {},
   "outputs": [],
   "source": [
    "#Get the current players\n",
    "NamesPredictee = []\n",
    "NamesPredictor = []\n",
    "IDPredictee = []\n",
    "IDPredictor = []\n",
    "DataPredictor = []\n",
    "DataPredictee = []\n",
    "ActivePredictor = []\n",
    "ActivePredictee = []\n",
    "for row in CurrentBattingRoster.values:\n",
    "    #Grab the row\n",
    "    ID = row[2]\n",
    "\n",
    "    #Grab the GameLog\n",
    "    GameLog = pd.read_csv('../Data/DataBaseCrawler/GameLogs/Batters/'+str(ID)+'GL.csv',index_col=0)\n",
    "\n",
    "    #Grab the splitLogs\n",
    "    SplitLogHand = pd.read_csv('../Data/DataBaseCrawler/GameLogs/Batters/'+str(ID)+'HandSL.csv', index_col=0)\n",
    "\n",
    "    #Get the fantasy points values.\n",
    "    Var = np.var(GameLog['DKfp'][1:])\n",
    "    mean = np.mean(GameLog['DKfp'][1:])\n",
    "\n",
    "    #Build the row\n",
    "    if GameLog.values[0,5] > LowerGameBound:\n",
    "        NamesPredictor.append(row[0])\n",
    "        IDPredictor.append(ID)\n",
    "        ActivePredictor.append('Y')\n",
    "        RowSTD = MakeStdRowBatter(GameLog) +[mean,Var]\n",
    "        RowSLHand = MakeHandRowBatter(SplitLogHand)\n",
    "        DataPredictor.append(RowSTD+RowSLHand)\n",
    "    else:\n",
    "        NamesPredictee.append(row[0])\n",
    "        IDPredictee.append(ID)\n",
    "        ActivePredictee.append('Y')\n",
    "        RowSTD = MakeStdRowBatter(GameLog) +[mean,Var]\n",
    "        RowSLHand = MakeHandRowBatter(SplitLogHand)\n",
    "        DataPredictee.append(RowSTD+RowSLHand)\n",
    "    \n",
    "PlayersFeatures = np.array(DataPredictor)\n",
    "PlayersNames = NamesPredictor\n",
    "IDList = IDPredictor\n",
    "Active = ActivePredictor"
   ]
  },
  {
   "cell_type": "code",
   "execution_count": null,
   "metadata": {},
   "outputs": [],
   "source": []
  },
  {
   "cell_type": "code",
   "execution_count": null,
   "metadata": {},
   "outputs": [],
   "source": []
  },
  {
   "cell_type": "code",
   "execution_count": 10,
   "metadata": {},
   "outputs": [],
   "source": [
    "BadIDs = [123,79,1391,981,48,51,766,482,389,713,5834,9312,122,1233,1109,1719,9414,472,1616,1436,860,364,275,194,609,335,246,1406,336,155,478,1836,381,784,1588,595,691,1427,366,1019,1376,1309,1493,939,2024,1167,1610,1396,1498,1302,540,1748,7707,463,1499,1403,661,1762,1762,2338,1486,1438,1927,1078,1216,286,438,8607,621,942,1999,268,1533,12,834,163,660,2962,1834,11863,1954,5198,1805,4464,5128,1380,4409,4390,8760,1629,900,1382,763,2784,722,298,1024,1262,173,26,3972]"
   ]
  },
  {
   "cell_type": "code",
   "execution_count": 11,
   "metadata": {},
   "outputs": [],
   "source": [
    "#Get the old players\n",
    "for row in AggregatedBatterDataFrame.values:\n",
    "    #row = AggregatedBatterDataFrame\n",
    "    #Grab the row\n",
    "    ID = row[1]\n",
    "\n",
    "    #Grab the GameLog\n",
    "    GameLog = pd.read_csv('../Data/DataBaseCrawler/GameLogs/InactiveBatters/'+str(ID)+'GL.csv', index_col=0)\n",
    "\n",
    "    #Grab the splitLogs\n",
    "    SplitLogHand = pd.read_csv('../Data/DataBaseCrawler/GameLogs/InactiveBatters/'+str(ID)+'HandSL.csv',index_col=0)\n",
    "\n",
    "    #Get the fantasy points values.\n",
    "    mean = np.mean(GameLog['DKfp'][1:])\n",
    "    Var = np.var(GameLog['DKfp'][1:])\n",
    "\n",
    "    #Build the row\n",
    "    if GameLog.values[0,5] > LowerGameBound and ID not in BadIDs:\n",
    "        IDList.append(ID)\n",
    "        PlayersNames.append(row[0])\n",
    "        Active.append('N')\n",
    "        RowSTD = MakeStdRowBatter(GameLog)+[mean, Var]\n",
    "        RowSLHand = MakeHandRowBatter(SplitLogHand)\n",
    "        PlayersFeatures=np.concatenate((PlayersFeatures,np.array([RowSTD+RowSLHand])), axis=0)"
   ]
  },
  {
   "cell_type": "code",
   "execution_count": null,
   "metadata": {},
   "outputs": [],
   "source": []
  },
  {
   "cell_type": "code",
   "execution_count": null,
   "metadata": {},
   "outputs": [],
   "source": []
  },
  {
   "cell_type": "code",
   "execution_count": 12,
   "metadata": {},
   "outputs": [
    {
     "data": {
      "text/plain": [
       "StandardScaler(copy=False, with_mean=True, with_std=True)"
      ]
     },
     "execution_count": 12,
     "metadata": {},
     "output_type": "execute_result"
    }
   ],
   "source": [
    "#Scale the data\n",
    "scaler = StandardScaler(copy=False)\n",
    "scaler.fit(PlayersFeatures)"
   ]
  },
  {
   "cell_type": "code",
   "execution_count": 13,
   "metadata": {},
   "outputs": [
    {
     "data": {
      "text/plain": [
       "(1395, 85)"
      ]
     },
     "execution_count": 13,
     "metadata": {},
     "output_type": "execute_result"
    }
   ],
   "source": [
    "ScaledPlayerFeatures = scaler.transform(PlayersFeatures)\n",
    "ScaledDataPredictee = scaler.transform(DataPredictee)\n",
    "ScaledPlayerFeatures.shape"
   ]
  },
  {
   "cell_type": "code",
   "execution_count": 14,
   "metadata": {
    "scrolled": true
   },
   "outputs": [
    {
     "name": "stdout",
     "output_type": "stream",
     "text": [
      "K: 1 Error: -118575.000000 \n",
      "[1395]\n",
      "K: 2 Error: -95868.998010 \n",
      "[724 671]\n",
      "K: 3 Error: -88584.649232 \n",
      "[640 217 538]\n",
      "K: 4 Error: -81820.968684 \n",
      "[266 382 194 553]\n",
      "K: 5 Error: -78045.959546 \n",
      "[288 176 227 349 355]\n",
      "K: 6 Error: -75706.790702 \n",
      "[280 158 199 153 294 311]\n",
      "K: 7 Error: -73450.984104 \n",
      "[277 243 142 185 177 129 242]\n",
      "K: 8 Error: -71675.338602 \n",
      "[136 228 219 208 120 176 178 130]\n",
      "K: 9 Error: -70241.294645 \n",
      "[157 129 182  73 228 174 198 145 109]\n",
      "K: 10 Error: -68821.768016 \n",
      "[171 162  54 224 129  79  93 180 206  97]\n",
      "K: 11 Error: -67691.904173 \n",
      "[ 56 165  75 167  79 101 120 113 149 182 188]\n",
      "K: 12 Error: -66457.586312 \n",
      "[155  98 107  82 151  72 179 134  91 175  42 109]\n",
      "K: 13 Error: -65496.572015 \n",
      "[100  47  92 144 138  98 190 102 160  53 113 103  55]\n",
      "K: 14 Error: -64535.764138 \n",
      "[ 80 154  89 108  39  96 137 110 105 156 135  83  54  49]\n",
      "K: 15 Error: -63672.002616 \n",
      "[153 117 101  90  63 108 136  54  57  59  99  50 117 114  77]\n",
      "K: 16 Error: -63287.600096 \n",
      "[ 62 110 128  67  57  44 135 105  53 132  96  61  91  60  89 105]\n",
      "K: 17 Error: -62442.141244 \n",
      "[106 102  82  84  64  87 158  94  36  42  80  56  89  74 127  79  35]\n",
      "K: 18 Error: -61413.329341 \n",
      "[ 90  54  61 104  47  71  87  94  65 100 122  68  51  17  91 108  47 118]\n",
      "K: 19 Error: -60887.070596 \n",
      "[ 89  85 112 103  63 106  64  65  74  43 115  81  38  56 113  42  37  72\n",
      "  37]\n",
      "K: 20 Error: -60225.370696 \n",
      "[ 39 120  78  56  42  84  59  48  56  88  48 105 103  70  53 106 103  71\n",
      "  25  41]\n",
      "K: 21 Error: -59938.839092 \n",
      "[ 36  79  51  66  52  79  42 117 122  41  78 100  82  36  69  48  57  40\n",
      "  73  48  79]\n",
      "K: 22 Error: -59296.167040 \n",
      "[ 67  52 109  67  46  61  41  41  51  46  45  84 103  77  76  27  70  96\n",
      "  69  39  40  88]\n",
      "K: 23 Error: -58891.511553 \n",
      "[ 77  66  24  54  73  69  75  42 102  65  52  22  88  42  53  57  48  29\n",
      "  39  62  97  67  92]\n",
      "K: 24 Error: -58614.510167 \n",
      "[ 97  33  32  87  43  65  36  69  78 109  83  53  72  64  29 127  39  32\n",
      "  22  42  56  43  48  36]\n",
      "K: 25 Error: -58062.134378 \n",
      "[111  70  62  41  32  62  39  25  87  76  48  82  66  41  63  53  66  41\n",
      "  73  10  45  39 101  20  42]\n",
      "K: 26 Error: -57559.880413 \n",
      "[60 85 68 72 29 30 55 71  7 52 72 64 51 56 83 49 62 28 45 23 30 73 40 41\n",
      " 90 59]\n",
      "K: 27 Error: -57037.368148 \n",
      "[22 63 83 47 72 60 57 35 66 46 61 38 70 48 30 46 61 63 22 69 37 41 61 42\n",
      " 11 70 74]\n",
      "K: 28 Error: -56978.322926 \n",
      "[84 63 62 40 66 44 56 59 16 17 63 17 67 52 30 62 66 38 40 83 64 14 46 44\n",
      " 35 84 26 57]\n",
      "K: 29 Error: -56419.346698 \n",
      "[53 36 43 56 81 54 60 33 66  9 70 58 53 45 54 24 57 24 77 35 38 28 99 62\n",
      " 30 50 39 13 48]\n",
      "K: 30 Error: -56023.273778 \n",
      "[ 62  69 100  38  65  82  55  47  31  57  64  30  35  70  67  19  71  44\n",
      "  31  32  59  56  25  12  37  39  10  11  23  54]\n",
      "K: 31 Error: -55778.439000 \n",
      "[28 30 66  7 60 80 31 56 63 33 13 45 66 65 69 30 37 42 71 54 42 23 27 22\n",
      " 19 39 50 54 86 52 35]\n",
      "K: 32 Error: -55269.360559 \n",
      "[ 18  65  61 104  49  26  25  24  68  30  56  13  32  70  18  39  20  41\n",
      "  66  49  34  50  65  62  38  45  31  21  41  60  37  37]\n",
      "K: 33 Error: -55083.153071 \n",
      "[36 33 68 57 26 40 23 30 30 57 49 60 34 14 26 50 32 75 57 29 58 27 24 61\n",
      " 18 59 39 46 34 49 78 57 19]\n",
      "K: 34 Error: -54761.659425 \n",
      "[10 34 51 51 46 23 26 56 58 65 42 21 29 50 30 32 60 46 37 62 39 44 51 40\n",
      "  4 34 67 35 32 42 33 46 42 57]\n",
      "K: 35 Error: -54546.491003 \n",
      "[19 36 32 50 76 38 83 18 38 23 36 30 67 62 37 45 29 19  6 75 56 35 26 30\n",
      " 66 12 51 17 16 36 29 42 46 80 34]\n",
      "K: 36 Error: -54107.021382 \n",
      "[11 66 59 29 54 74 70 46 27 48 37 20 43 50 22 52 24 32 59 31 58 12 47 36\n",
      " 52 31 53  5 75 41 24 13 26 28  1 39]\n",
      "K: 37 Error: -53966.880277 \n",
      "[39 55 42 92 30 59 31 29 60 23 41 59 41 39 32 35 40 39  8 58 41 16 59 18\n",
      " 55 19 19 56 16 37 39 31 22 19 21 19 56]\n",
      "K: 38 Error: -53568.512527 \n",
      "[14 30 33 62 26 25 11 63 64 43 33 41 44 43 51 54 34 25 28 52 45 40 12 45\n",
      " 30 34 43 15 61 44 35 56 15 35 32 19 40 18]\n",
      "K: 39 Error: -53434.967865 \n",
      "[31 69 52 54 41 68 31 22  8 29 63 30 52 25 59 28 36 41 53 27 24 38 43 37\n",
      " 12 38 23 60 47 24 20 44 29  1 30 16 15 26 49]\n",
      "K: 40 Error: -53246.462881 \n",
      "[31  7 21 27 48 52 37 19 20 49 53 34 62 50 32 51 62 19 37 34 40 56 48 47\n",
      " 14 48 20 49 43 23 24 10 21 40  9 35 44 32 19 28]\n",
      "K: 41 Error: -52908.184148 \n",
      "[56 22 44 22 32 60 22 48 39 69 36 44 25 10 40 52 28 30 18 29 12 28 42 14\n",
      " 24 59 32 30 13 68  6 22 37 32 33 53  1 59 49 12 43]\n",
      "K: 42 Error: -52604.463043 \n",
      "[47 22 64 29 33 39 11 29 64 43 49 43 21 57 16 48  4 34 17 45 43 48 22 19\n",
      " 12 25 44 28 48 32 34 32 37 15 47 20 41 25 50 25 14 19]\n",
      "K: 43 Error: -52284.176127 \n",
      "[16 25 24 30 55  4 46 21 28 16 64 52 11 50 29 60 38 37 32 11 58 31 21 23\n",
      " 28 56 33 36 18 53 17 17 35 34 26 17 54 42 23  1 57 10 56]\n",
      "K: 44 Error: -52344.709890 \n",
      "[16 57 38 54 44 15 32 24 13 41 21 30 34 31 59 32 46 23 29 16 30 47 45 16\n",
      " 27 35 19 49 18 35 42 15 16 64 35 16  6 21 28 30 39 25 41 41]\n",
      "K: 45 Error: -52067.586082 \n",
      "[57 59 16 27 32 18 30 44 33 23 33 15 48 25 56 14 49 30 33 34 52 61 24 36\n",
      " 48  7  6 28 51 12 32 37 45 22  9 38 22 10 28 10 36 20 24 11 50]\n",
      "K: 46 Error: -51561.875762 \n",
      "[46 38 25 29 24 32 24 43 36 31 48 35 35 56 40 13 25 25 47 13 63 19 19 48\n",
      " 27 48 44 49 10 27  7 16 23  8 41 31 19  9  9 24 44 28 44 16 21 36]\n",
      "K: 47 Error: -51420.274802 \n",
      "[24 39 41 27 31 44 34 47 44 37 18 46 14 42 15 29 16 28 23 58 38 57 16 55\n",
      " 14 14  9 13 26 31 38 29 29 35 19  4  1 29 16 38 26 23 31 54 32 31 30]\n",
      "K: 48 Error: -51271.550081 \n",
      "[67 45 44 32 46 29  4 30 18 27 64  9 52 40 50 20 20 15 21 28 55 26 41 11\n",
      " 33 17 32 12 30 38 30 31  1 16 15 18 14 48 39 25 39 37 20 28  4 24 20 30]\n",
      "K: 49 Error: -50998.452415 \n",
      "[56 34 44 18 37 47 10 23 26 11  9 19 17 15 49 31 41 20 16 30  9 38 28 33\n",
      " 26 35 23 31 34 15 27 61 35 33 27 44 48  5 15 37  6 45 27 27  4 35 29 38\n",
      " 27]\n",
      "K: 50 Error: -50684.993124 \n",
      "[27 38 43 53 27 38 43 10 30 38 44 14 22 12 13  4 20 41 48 29 29 21 23 17\n",
      " 11 25 26 23 49 37 26 14 34 10 50 47  1 49 21 17 36 22 12 19 70 38  1 28\n",
      " 11 34]\n"
     ]
    }
   ],
   "source": [
    "#Cluster the players - Try a number of clusters and look at error.\n",
    "Errors = []\n",
    "NumClusters = range(0,50)\n",
    "kmeans = [KMeans(n_clusters=i+1) for i in NumClusters]\n",
    "for model in kmeans:\n",
    "    model.fit(ScaledPlayerFeatures)\n",
    "    Errors.append(model.score(ScaledPlayerFeatures))\n",
    "    print(\"K: %d Error: %f \" % (model.n_clusters, model.score(ScaledPlayerFeatures)));print(np.bincount(model.labels_))"
   ]
  },
  {
   "cell_type": "code",
   "execution_count": 15,
   "metadata": {
    "scrolled": true
   },
   "outputs": [
    {
     "data": {
      "image/png": "[encoded data removed]",
      "text/plain": [
       "<matplotlib.figure.Figure at 0x7f4c1b4ee7f0>"
      ]
     },
     "metadata": {},
     "output_type": "display_data"
    }
   ],
   "source": [
    "plt.plot(NumClusters,Errors)\n",
    "plt.ylabel('Score')\n",
    "plt.xlabel(\"Number of Clusters\")\n",
    "plt.show()"
   ]
  },
  {
   "cell_type": "code",
   "execution_count": 16,
   "metadata": {},
   "outputs": [],
   "source": [
    "#Histogram for Diffetant Means"
   ]
  },
  {
   "cell_type": "code",
   "execution_count": 17,
   "metadata": {},
   "outputs": [
    {
     "data": {
      "image/png": "[encoded data removed]",
      "text/plain": [
       "<matplotlib.figure.Figure at 0x7f4c1b48fd30>"
      ]
     },
     "metadata": {},
     "output_type": "display_data"
    }
   ],
   "source": [
    "ClusterNum = 32\n",
    "plt.hist(kmeans[ClusterNum-1].labels_)\n",
    "plt.title(\"Kmeans clusters size \"+str(ClusterNum))\n",
    "plt.xlabel(\"Catagory\")\n",
    "plt.ylabel(\"Frequency\")\n",
    "plt.show()"
   ]
  },
  {
   "cell_type": "code",
   "execution_count": 18,
   "metadata": {},
   "outputs": [
    {
     "data": {
      "text/plain": [
       "array([ 18,  65,  61, 104,  49,  26,  25,  24,  68,  30,  56,  13,  32,\n",
       "        70,  18,  39,  20,  41,  66,  49,  34,  50,  65,  62,  38,  45,\n",
       "        31,  21,  41,  60,  37,  37])"
      ]
     },
     "execution_count": 18,
     "metadata": {},
     "output_type": "execute_result"
    }
   ],
   "source": [
    "np.bincount(kmeans[ClusterNum-1].labels_)"
   ]
  },
  {
   "cell_type": "code",
   "execution_count": 19,
   "metadata": {},
   "outputs": [
    {
     "data": {
      "text/html": [
       "<div>\n",
       "<style scoped>\n",
       "    .dataframe tbody tr th:only-of-type {\n",
       "        vertical-align: middle;\n",
       "    }\n",
       "\n",
       "    .dataframe tbody tr th {\n",
       "        vertical-align: top;\n",
       "    }\n",
       "\n",
       "    .dataframe thead th {\n",
       "        text-align: right;\n",
       "    }\n",
       "</style>\n",
       "<table border=\"1\" class=\"dataframe\">\n",
       "  <thead>\n",
       "    <tr style=\"text-align: right;\">\n",
       "      <th></th>\n",
       "      <th>Name</th>\n",
       "      <th>ID</th>\n",
       "      <th>Labels</th>\n",
       "      <th>Active</th>\n",
       "    </tr>\n",
       "  </thead>\n",
       "  <tbody>\n",
       "    <tr>\n",
       "      <th>128</th>\n",
       "      <td>Max Stassi</td>\n",
       "      <td>10059</td>\n",
       "      <td>5</td>\n",
       "      <td>Y</td>\n",
       "    </tr>\n",
       "    <tr>\n",
       "      <th>176</th>\n",
       "      <td>Matt Reynolds</td>\n",
       "      <td>13788</td>\n",
       "      <td>5</td>\n",
       "      <td>Y</td>\n",
       "    </tr>\n",
       "    <tr>\n",
       "      <th>241</th>\n",
       "      <td>Brandon Snyder</td>\n",
       "      <td>9856</td>\n",
       "      <td>5</td>\n",
       "      <td>Y</td>\n",
       "    </tr>\n",
       "    <tr>\n",
       "      <th>444</th>\n",
       "      <td>Andrew Susac</td>\n",
       "      <td>13132</td>\n",
       "      <td>5</td>\n",
       "      <td>Y</td>\n",
       "    </tr>\n",
       "    <tr>\n",
       "      <th>462</th>\n",
       "      <td>Benny Agbayani</td>\n",
       "      <td>416</td>\n",
       "      <td>5</td>\n",
       "      <td>N</td>\n",
       "    </tr>\n",
       "    <tr>\n",
       "      <th>463</th>\n",
       "      <td>Chris Aguila</td>\n",
       "      <td>2143</td>\n",
       "      <td>5</td>\n",
       "      <td>N</td>\n",
       "    </tr>\n",
       "    <tr>\n",
       "      <th>498</th>\n",
       "      <td>Brian Banks</td>\n",
       "      <td>1589</td>\n",
       "      <td>5</td>\n",
       "      <td>N</td>\n",
       "    </tr>\n",
       "    <tr>\n",
       "      <th>575</th>\n",
       "      <td>Joey Butler</td>\n",
       "      <td>7799</td>\n",
       "      <td>5</td>\n",
       "      <td>N</td>\n",
       "    </tr>\n",
       "    <tr>\n",
       "      <th>678</th>\n",
       "      <td>Joe Dillon</td>\n",
       "      <td>2384</td>\n",
       "      <td>5</td>\n",
       "      <td>N</td>\n",
       "    </tr>\n",
       "    <tr>\n",
       "      <th>708</th>\n",
       "      <td>Alex Escobar</td>\n",
       "      <td>383</td>\n",
       "      <td>5</td>\n",
       "      <td>N</td>\n",
       "    </tr>\n",
       "    <tr>\n",
       "      <th>713</th>\n",
       "      <td>Nick Evans</td>\n",
       "      <td>7595</td>\n",
       "      <td>5</td>\n",
       "      <td>N</td>\n",
       "    </tr>\n",
       "    <tr>\n",
       "      <th>743</th>\n",
       "      <td>Nate Freiman</td>\n",
       "      <td>6582</td>\n",
       "      <td>5</td>\n",
       "      <td>N</td>\n",
       "    </tr>\n",
       "    <tr>\n",
       "      <th>837</th>\n",
       "      <td>Bill Haselman</td>\n",
       "      <td>1254</td>\n",
       "      <td>5</td>\n",
       "      <td>N</td>\n",
       "    </tr>\n",
       "    <tr>\n",
       "      <th>963</th>\n",
       "      <td>Dae-Ho Lee</td>\n",
       "      <td>18722</td>\n",
       "      <td>5</td>\n",
       "      <td>N</td>\n",
       "    </tr>\n",
       "    <tr>\n",
       "      <th>1017</th>\n",
       "      <td>David McCarty</td>\n",
       "      <td>1462</td>\n",
       "      <td>5</td>\n",
       "      <td>N</td>\n",
       "    </tr>\n",
       "    <tr>\n",
       "      <th>1029</th>\n",
       "      <td>Tommy Medica</td>\n",
       "      <td>11147</td>\n",
       "      <td>5</td>\n",
       "      <td>N</td>\n",
       "    </tr>\n",
       "    <tr>\n",
       "      <th>1102</th>\n",
       "      <td>Dan Ortmeier</td>\n",
       "      <td>4694</td>\n",
       "      <td>5</td>\n",
       "      <td>N</td>\n",
       "    </tr>\n",
       "    <tr>\n",
       "      <th>1140</th>\n",
       "      <td>Ben Petrick</td>\n",
       "      <td>1471</td>\n",
       "      <td>5</td>\n",
       "      <td>N</td>\n",
       "    </tr>\n",
       "    <tr>\n",
       "      <th>1145</th>\n",
       "      <td>Adam Piatt</td>\n",
       "      <td>935</td>\n",
       "      <td>5</td>\n",
       "      <td>N</td>\n",
       "    </tr>\n",
       "    <tr>\n",
       "      <th>1181</th>\n",
       "      <td>Mike Restovich</td>\n",
       "      <td>751</td>\n",
       "      <td>5</td>\n",
       "      <td>N</td>\n",
       "    </tr>\n",
       "    <tr>\n",
       "      <th>1201</th>\n",
       "      <td>Jason Rogers</td>\n",
       "      <td>11773</td>\n",
       "      <td>5</td>\n",
       "      <td>N</td>\n",
       "    </tr>\n",
       "    <tr>\n",
       "      <th>1217</th>\n",
       "      <td>Rusty Ryal</td>\n",
       "      <td>9698</td>\n",
       "      <td>5</td>\n",
       "      <td>N</td>\n",
       "    </tr>\n",
       "    <tr>\n",
       "      <th>1234</th>\n",
       "      <td>Jerry Sands</td>\n",
       "      <td>4016</td>\n",
       "      <td>5</td>\n",
       "      <td>N</td>\n",
       "    </tr>\n",
       "    <tr>\n",
       "      <th>1238</th>\n",
       "      <td>Josh Satin</td>\n",
       "      <td>6788</td>\n",
       "      <td>5</td>\n",
       "      <td>N</td>\n",
       "    </tr>\n",
       "    <tr>\n",
       "      <th>1261</th>\n",
       "      <td>Scott Sizemore</td>\n",
       "      <td>2881</td>\n",
       "      <td>5</td>\n",
       "      <td>N</td>\n",
       "    </tr>\n",
       "    <tr>\n",
       "      <th>1287</th>\n",
       "      <td>Drew Sutton</td>\n",
       "      <td>7430</td>\n",
       "      <td>5</td>\n",
       "      <td>N</td>\n",
       "    </tr>\n",
       "  </tbody>\n",
       "</table>\n",
       "</div>"
      ],
      "text/plain": [
       "                Name     ID  Labels Active\n",
       "128       Max Stassi  10059       5      Y\n",
       "176    Matt Reynolds  13788       5      Y\n",
       "241   Brandon Snyder   9856       5      Y\n",
       "444     Andrew Susac  13132       5      Y\n",
       "462   Benny Agbayani    416       5      N\n",
       "463     Chris Aguila   2143       5      N\n",
       "498      Brian Banks   1589       5      N\n",
       "575      Joey Butler   7799       5      N\n",
       "678       Joe Dillon   2384       5      N\n",
       "708     Alex Escobar    383       5      N\n",
       "713       Nick Evans   7595       5      N\n",
       "743     Nate Freiman   6582       5      N\n",
       "837    Bill Haselman   1254       5      N\n",
       "963       Dae-Ho Lee  18722       5      N\n",
       "1017   David McCarty   1462       5      N\n",
       "1029    Tommy Medica  11147       5      N\n",
       "1102    Dan Ortmeier   4694       5      N\n",
       "1140     Ben Petrick   1471       5      N\n",
       "1145      Adam Piatt    935       5      N\n",
       "1181  Mike Restovich    751       5      N\n",
       "1201    Jason Rogers  11773       5      N\n",
       "1217      Rusty Ryal   9698       5      N\n",
       "1234     Jerry Sands   4016       5      N\n",
       "1238      Josh Satin   6788       5      N\n",
       "1261  Scott Sizemore   2881       5      N\n",
       "1287     Drew Sutton   7430       5      N"
      ]
     },
     "execution_count": 19,
     "metadata": {},
     "output_type": "execute_result"
    }
   ],
   "source": [
    "#Use this to look at clusters. 173,26,3972]\n",
    "PredictorDF = pd.DataFrame()\n",
    "PredictorDF['Name'] = PlayersNames\n",
    "PredictorDF['ID'] = IDList\n",
    "PredictorDF['Labels'] = kmeans[ClusterNum-1].labels_\n",
    "PredictorDF['Active'] = Active\n",
    "BadLabelDF = PredictorDF[PredictorDF['Labels']==5]\n",
    "BadLabelDF"
   ]
  },
  {
   "cell_type": "code",
   "execution_count": null,
   "metadata": {},
   "outputs": [],
   "source": []
  },
  {
   "cell_type": "code",
   "execution_count": 20,
   "metadata": {},
   "outputs": [],
   "source": [
    "#Predict other Batters.\n",
    "PredicteeLabels = kmeans[ClusterNum-1].predict(ScaledDataPredictee)"
   ]
  },
  {
   "cell_type": "code",
   "execution_count": 21,
   "metadata": {},
   "outputs": [],
   "source": [
    "#Aggregate Batter results\n",
    "TotalLabels = np.concatenate((kmeans[ClusterNum-1].labels_,PredicteeLabels))\n",
    "TotalPlayersNames = PlayersNames + NamesPredictee\n",
    "IDListTotal = IDList + IDPredictee\n",
    "TotalActive = Active + ActivePredictee"
   ]
  },
  {
   "cell_type": "code",
   "execution_count": 22,
   "metadata": {},
   "outputs": [
    {
     "data": {
      "text/plain": [
       "array([['J.D. Martinez', 6184, 30, 'Y'],\n",
       "       ['Andrew Benintendi', 17901, 3, 'Y'],\n",
       "       ['Brock Holt', 9345, 23, 'Y'],\n",
       "       ...,\n",
       "       ['Steve Wilkerson', 16041, 5, 'Y'],\n",
       "       ['Chance Sisco', 15694, 14, 'Y'],\n",
       "       ['Corban Joseph', 5503, 5, 'Y']], dtype=object)"
      ]
     },
     "execution_count": 22,
     "metadata": {},
     "output_type": "execute_result"
    }
   ],
   "source": [
    "#Create the total DF\n",
    "TotalDF = pd.DataFrame()\n",
    "TotalDF['Name'] = TotalPlayersNames\n",
    "TotalDF['ID'] = IDListTotal\n",
    "TotalDF['Labels'] = TotalLabels\n",
    "TotalDF['Active'] = TotalActive\n",
    "TotalDF.values"
   ]
  },
  {
   "cell_type": "code",
   "execution_count": 23,
   "metadata": {},
   "outputs": [
    {
     "name": "stdout",
     "output_type": "stream",
     "text": [
      "[]\n"
     ]
    }
   ],
   "source": [
    "#Remove clusters with no active players.\n",
    "ActiveClusters = []\n",
    "for label in range(ClusterNum):\n",
    "    #There is probably a better way to do this, but whatever.\n",
    "    Players = TotalDF.values[[x[2]==label for x in TotalDF.values ]]\n",
    "    if 'Y' in Players[:,3]:\n",
    "        ActiveClusters.append(label)\n",
    "print([item for item in range(ClusterNum) if item not in ActiveClusters])"
   ]
  },
  {
   "cell_type": "code",
   "execution_count": 24,
   "metadata": {},
   "outputs": [],
   "source": [
    "#Remove players with inactive clusters\n",
    "TotalDF = TotalDF[TotalDF['Labels'].isin(ActiveClusters)]"
   ]
  },
  {
   "cell_type": "code",
   "execution_count": 25,
   "metadata": {},
   "outputs": [
    {
     "data": {
      "text/plain": [
       "array([ 27,  67,  64, 104,  49,  84,  25,  27,  68,  30,  56,  13,  34,\n",
       "        70,  59,  44,  20,  43,  67,  52,  57,  55,  66,  62,  38,  45,\n",
       "        31,  22,  41,  60,  37,  37])"
      ]
     },
     "execution_count": 25,
     "metadata": {},
     "output_type": "execute_result"
    }
   ],
   "source": [
    "#Look at final bin count. 15 20\n",
    "np.bincount(TotalDF['Labels'])"
   ]
  },
  {
   "cell_type": "code",
   "execution_count": 26,
   "metadata": {},
   "outputs": [
    {
     "data": {
      "text/plain": [
       "1554"
      ]
     },
     "execution_count": 26,
     "metadata": {},
     "output_type": "execute_result"
    }
   ],
   "source": [
    "#Num total players\n",
    "sum(np.bincount(TotalDF['Labels']))"
   ]
  },
  {
   "cell_type": "code",
   "execution_count": 27,
   "metadata": {},
   "outputs": [],
   "source": [
    "#Build predictor Dataframe\n",
    "PredictorDF = pd.DataFrame()\n",
    "PredictorLabels = kmeans[ClusterNum-1].labels_\n",
    "PredictorPlayersNames = PlayersNames\n",
    "IDListPredictor = IDList\n",
    "PredictorActive = Active"
   ]
  },
  {
   "cell_type": "code",
   "execution_count": 28,
   "metadata": {},
   "outputs": [
    {
     "data": {
      "text/plain": [
       "array([['J.D. Martinez', 6184, 30, 'Y'],\n",
       "       ['Andrew Benintendi', 17901, 3, 'Y'],\n",
       "       ['Brock Holt', 9345, 23, 'Y'],\n",
       "       ...,\n",
       "       ['Kevin Young', 1018, 1, 'N'],\n",
       "       ['Gregg Zaun', 580, 13, 'N'],\n",
       "       ['Todd Zeile', 457, 13, 'N']], dtype=object)"
      ]
     },
     "execution_count": 28,
     "metadata": {},
     "output_type": "execute_result"
    }
   ],
   "source": [
    "PredictorDF['Name'] = PlayersNames\n",
    "PredictorDF['ID'] = IDList\n",
    "PredictorDF['Labels'] = PredictorLabels\n",
    "PredictorDF['Active'] = Active\n",
    "PredictorDF.values"
   ]
  },
  {
   "cell_type": "code",
   "execution_count": 29,
   "metadata": {},
   "outputs": [
    {
     "data": {
      "text/plain": [
       "array([ 18,  65,  61, 104,  49,  26,  25,  24,  68,  30,  56,  13,  32,\n",
       "        70,  18,  39,  20,  41,  66,  49,  34,  50,  65,  62,  38,  45,\n",
       "        31,  21,  41,  60,  37,  37])"
      ]
     },
     "execution_count": 29,
     "metadata": {},
     "output_type": "execute_result"
    }
   ],
   "source": [
    "PredictorDF = PredictorDF[PredictorDF['Labels'].isin(ActiveClusters)]\n",
    "np.bincount(PredictorDF['Labels'])"
   ]
  },
  {
   "cell_type": "code",
   "execution_count": 30,
   "metadata": {},
   "outputs": [],
   "source": [
    "#Save CSV files.\n",
    "TotalDF.to_csv('./BatterClusters/TotalBattingClusters.csv')\n",
    "PredictorDF.to_csv('./BatterClusters/PredBattingClusters.csv')"
   ]
  },
  {
   "cell_type": "code",
   "execution_count": null,
   "metadata": {},
   "outputs": [],
   "source": []
  }
 ],
 "metadata": {
  "kernelspec": {
   "display_name": "Python 3",
   "language": "python",
   "name": "python3"
  },
  "language_info": {
   "codemirror_mode": {
    "name": "ipython",
    "version": 3
   },
   "file_extension": ".py",
   "mimetype": "text/x-python",
   "name": "python",
   "nbconvert_exporter": "python",
   "pygments_lexer": "ipython3",
   "version": "3.6.4"
  }
 },
 "nbformat": 4,
 "nbformat_minor": 2
}
