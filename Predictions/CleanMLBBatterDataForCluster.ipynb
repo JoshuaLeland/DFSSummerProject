{
 "cells": [
  {
   "cell_type": "code",
   "execution_count": 1,
   "metadata": {},
   "outputs": [],
   "source": [
    "from sklearn.cluster import KMeans\n",
    "from sklearn.preprocessing import StandardScaler\n",
    "import numpy as np\n",
    "import pandas as pd\n",
    "import matplotlib.pyplot as plt"
   ]
  },
  {
   "cell_type": "code",
   "execution_count": 2,
   "metadata": {},
   "outputs": [],
   "source": [
    "##Aggregate the Batter data.\n",
    "def cleanGL(x):\n",
    "    try:\n",
    "        out = float(x)\n",
    "    except:\n",
    "        out = 0\n",
    "    return out"
   ]
  },
  {
   "cell_type": "code",
   "execution_count": 3,
   "metadata": {},
   "outputs": [],
   "source": [
    "CurrentBattingRoster = pd.read_csv('../Data/DataBaseCrawler/MLBBatterRoster2018.csv', index_col=0)\n",
    "CurrentBattingRoster = CurrentBattingRoster[['Name','Team','ID']]\n",
    "nc,dc = CurrentBattingRoster.shape"
   ]
  },
  {
   "cell_type": "code",
   "execution_count": 4,
   "metadata": {},
   "outputs": [],
   "source": [
    "AggregatedBatterDataFrame=pd.read_csv('../Data/DataBaseCrawler/GameLogs/InactiveBatterList.csv')\n",
    "AggregatedBatterDataFrame.drop_duplicates(subset=['ID'], inplace=True)\n",
    "AggregatedBatterDataFrame = AggregatedBatterDataFrame[~AggregatedBatterDataFrame['ID'].isin(CurrentBattingRoster['ID'])]"
   ]
  },
  {
   "cell_type": "code",
   "execution_count": 5,
   "metadata": {},
   "outputs": [],
   "source": [
    "ID = CurrentBattingRoster['ID'][0]"
   ]
  },
  {
   "cell_type": "code",
   "execution_count": 6,
   "metadata": {},
   "outputs": [],
   "source": [
    "GameLog = pd.read_csv('../Data/DataBaseCrawler/GameLogs/Batters/'+str(ID)+'GL.csv',index_col=0)\n",
    "SplitLogHand = pd.read_csv('../Data/DataBaseCrawler/GameLogs/Batters/'+str(ID)+'HandSL.csv')"
   ]
  },
  {
   "cell_type": "code",
   "execution_count": 7,
   "metadata": {},
   "outputs": [
    {
     "data": {
      "text/plain": [
       "11400"
      ]
     },
     "execution_count": 7,
     "metadata": {},
     "output_type": "execute_result"
    }
   ],
   "source": [
    "ID"
   ]
  },
  {
   "cell_type": "code",
   "execution_count": 8,
   "metadata": {},
   "outputs": [],
   "source": [
    "PA = GameLog.values[0,7]\n",
    "CleanRow = [x/PA for x in map(cleanGL,GameLog.values[0,8:24])]+[x for x in map(cleanGL,GameLog.values[0,24:])]"
   ]
  },
  {
   "cell_type": "code",
   "execution_count": 9,
   "metadata": {},
   "outputs": [],
   "source": [
    "def MakeStdRowBatter(GameLog):\n",
    "    PA = GameLog.values[0,7]\n",
    "    CleanRow = [x/PA for x in map(cleanGL,GameLog.values[0,8:24])]+[x for x in map(cleanGL,GameLog.values[0,24:])]\n",
    "    return CleanRow"
   ]
  },
  {
   "cell_type": "code",
   "execution_count": 10,
   "metadata": {},
   "outputs": [],
   "source": [
    "PAL = SplitLogHand.values[4,4]\n",
    "PAR = SplitLogHand.values[5,4]"
   ]
  },
  {
   "cell_type": "code",
   "execution_count": 11,
   "metadata": {},
   "outputs": [],
   "source": [
    "CleanRowL = [x/PAL for x in map(cleanGL,GameLog.values[4,8:24])]+[x for x in map(cleanGL,GameLog.values[4,24:])]\n",
    "CleanRowR = [x/PAR for x in map(cleanGL,GameLog.values[5,8:24])]+[x for x in map(cleanGL,GameLog.values[5,24:])]"
   ]
  },
  {
   "cell_type": "code",
   "execution_count": 12,
   "metadata": {},
   "outputs": [],
   "source": [
    "def MakeHandRowBatter(SplitLog):\n",
    "    PAL = SplitLogHand.values[4,4]\n",
    "    PAR = SplitLogHand.values[5,4]\n",
    "    CleanRowL = [x/PAL for x in map(cleanGL,GameLog.values[4,8:24])]+[x for x in map(cleanGL,GameLog.values[4,24:])]\n",
    "    CleanRowR = [x/PAR for x in map(cleanGL,GameLog.values[5,8:24])]+[x for x in map(cleanGL,GameLog.values[5,24:])]\n",
    "    return CleanRowL+CleanRowR"
   ]
  },
  {
   "cell_type": "code",
   "execution_count": 13,
   "metadata": {},
   "outputs": [
    {
     "data": {
      "text/plain": [
       "array([[0, 'Total', 'vs L as L', 15.0, 0.0, 0.0, 0.0, 0.0, 0.0, 0.0, 0.0,\n",
       "        6.0, 0.0, 0.0, 0.0, 0.0, 0.0, 0.0, 0.0, 0.0, 0.0, 0.0, 0.0, 0.0,\n",
       "        0.0, 0.0, 0.0, 0.0, 0.0, 0.0, 0.0, 0.0, 0.0, 0.0, '\\xa0'],\n",
       "       [1, 'Total', 'vs R as L', 35.0, 0.0, 0.0, 0.0, 0.0, 0.0, 0.0, 0.0,\n",
       "        28.0, 0.0, 0.0, 0.0, 0.0, 0.0, 0.0, 0.0, 0.0, 1.0, 1.0, 0.0, 0.0,\n",
       "        0.0, 0.0, 0.0, 0.0, 0.0, 0.0, 0.0, 0.0, 0.0, 0.0, '\\xa0'],\n",
       "       [2, 'Total', 'vs L as R', 83.0, 140.0, 153.0, 39.0, 33.0, 6.0,\n",
       "        0.0, 0.0, 9.0, 6.0, 11.0, 0.0, 23.0, 0.0, 2.0, 0.0, 1.0, 0.0,\n",
       "        0.0, 0.27899999999999997, 7.2, 15.0, 0.48, 0.327, 0.321, 0.648,\n",
       "        0.043, 0.32799999999999996, 14.0, -4.0, 0.28800000000000003,\n",
       "        '76.0'],\n",
       "       [3, 'Total', 'vs R as R', 161.0, 410.0, 435.0, 119.0, 86.0, 24.0,\n",
       "        5.0, 4.0, 21.0, 49.0, 13.0, 0.0, 50.0, 2.0, 3.0, 7.0, 14.0, 3.0,\n",
       "        0.0, 0.29, 3.0, 11.5, 0.26, 0.313, 0.402, 0.716,\n",
       "        0.11199999999999999, 0.32, 48.0, -4.5, 0.307, '89.0'],\n",
       "       [4, 'Total', 'vs L', 86.0, 140.0, 153.0, 39.0, 33.0, 6.0, 0.0,\n",
       "        0.0, 15.0, 6.0, 11.0, 0.0, 23.0, 0.0, 2.0, 0.0, 1.0, 0.0, 0.0,\n",
       "        0.27899999999999997, 7.2, 15.0, 0.48, 0.327, 0.321, 0.648, 0.043,\n",
       "        0.32799999999999996, 14.0, -4.0, 0.28800000000000003, '76.0'],\n",
       "       [5, 'Total', 'vs R', 164.0, 410.0, 435.0, 119.0, 86.0, 24.0, 5.0,\n",
       "        4.0, 49.0, 49.0, 13.0, 0.0, 50.0, 2.0, 3.0, 7.0, 14.0, 4.0, 1.0,\n",
       "        0.29, 3.0, 11.5, 0.26, 0.313, 0.402, 0.716, 0.11199999999999999,\n",
       "        0.32, 48.0, -4.5, 0.307, '89.0']], dtype=object)"
      ]
     },
     "execution_count": 13,
     "metadata": {},
     "output_type": "execute_result"
    }
   ],
   "source": [
    "SplitLogHand.values"
   ]
  },
  {
   "cell_type": "code",
   "execution_count": null,
   "metadata": {},
   "outputs": [],
   "source": []
  }
 ],
 "metadata": {
  "kernelspec": {
   "display_name": "Python 3",
   "language": "python",
   "name": "python3"
  },
  "language_info": {
   "codemirror_mode": {
    "name": "ipython",
    "version": 3
   },
   "file_extension": ".py",
   "mimetype": "text/x-python",
   "name": "python",
   "nbconvert_exporter": "python",
   "pygments_lexer": "ipython3",
   "version": "3.6.4"
  }
 },
 "nbformat": 4,
 "nbformat_minor": 2
}
