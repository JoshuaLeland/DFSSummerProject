{
 "cells": [
  {
   "cell_type": "code",
   "execution_count": 1,
   "metadata": {},
   "outputs": [],
   "source": [
    "from sklearn.cluster import KMeans\n",
    "from sklearn.preprocessing import StandardScaler\n",
    "import numpy as np\n",
    "import pandas as pd\n",
    "import matplotlib.pyplot as plt\n",
    "LowerGameBound = 100"
   ]
  },
  {
   "cell_type": "code",
   "execution_count": 2,
   "metadata": {},
   "outputs": [],
   "source": [
    "def cleanGL(x):\n",
    "    try:\n",
    "        out = float(x)\n",
    "    except:\n",
    "        out = 0\n",
    "    return out"
   ]
  },
  {
   "cell_type": "code",
   "execution_count": null,
   "metadata": {},
   "outputs": [],
   "source": []
  },
  {
   "cell_type": "code",
   "execution_count": 3,
   "metadata": {},
   "outputs": [
    {
     "data": {
      "text/plain": [
       "(766, 3)"
      ]
     },
     "execution_count": 3,
     "metadata": {},
     "output_type": "execute_result"
    }
   ],
   "source": [
    "CurrentPitcherRoster = pd.read_csv('../Data/DataBaseCrawler/MLBPitcherRoster2018.csv', index_col=0)\n",
    "CurrentPitcherRoster = CurrentPitcherRoster[['Name','Team','ID']]\n",
    "CurrentPitcherRoster.shape"
   ]
  },
  {
   "cell_type": "code",
   "execution_count": 4,
   "metadata": {},
   "outputs": [],
   "source": [
    "AggregatedPitcherDataFrame=pd.read_csv('../Data/DataBaseCrawler/GameLogs/InactivePitcherList.csv')\n",
    "AggregatedPitcherDataFrame.drop_duplicates(subset=['ID'], inplace=True)\n",
    "AggregatedPitcherDataFrame = AggregatedPitcherDataFrame[~AggregatedPitcherDataFrame['ID'].isin(CurrentPitcherRoster['ID'])]"
   ]
  },
  {
   "cell_type": "code",
   "execution_count": 5,
   "metadata": {},
   "outputs": [],
   "source": [
    "ID = CurrentPitcherRoster['ID'][0]\n",
    "GameLog = pd.read_csv('../Data/DataBaseCrawler/GameLogs/Pitchers/'+str(ID)+'GL.csv',index_col=0)\n",
    "#GameLog=GameLog.drop(['GS_x','GSv2'], axis=1)\n",
    "\n",
    "#Grab the splitLogs\n",
    "SplitLogHand = pd.read_csv('../Data/DataBaseCrawler/GameLogs/Pitchers/'+str(ID)+'HandSL.csv', index_col=0)\n",
    "SplitLogHomeAway = pd.read_csv('../Data/DataBaseCrawler/GameLogs/Pitchers/'+str(ID)+'HomeAwaySL.csv')"
   ]
  },
  {
   "cell_type": "code",
   "execution_count": 6,
   "metadata": {},
   "outputs": [],
   "source": [
    "cleanRowNorm = [x for x in map(cleanGL,GameLog.values[0,3:])]\n",
    "G = cleanRowNorm[4]\n",
    "IP = cleanRowNorm[10]\n",
    "cleanRowNorm2 = cleanRowNorm[:4]+cleanRowNorm[5:10]+cleanRowNorm[11:]\n",
    "cleanRowNorm3 = [x/G for x in cleanRowNorm2[:3]] +[cleanRowNorm2[3]]+ [x/G for x in cleanRowNorm2[4:9]]+[x/IP for x in cleanRowNorm2[9:20]]+[cleanRowNorm2[20]/G]+[x for x in cleanRowNorm2[21:]]"
   ]
  },
  {
   "cell_type": "code",
   "execution_count": 7,
   "metadata": {},
   "outputs": [
    {
     "data": {
      "text/plain": [
       "True"
      ]
     },
     "execution_count": 7,
     "metadata": {},
     "output_type": "execute_result"
    }
   ],
   "source": [
    "len(cleanRowNorm2) ==len(cleanRowNorm3)"
   ]
  },
  {
   "cell_type": "code",
   "execution_count": 8,
   "metadata": {},
   "outputs": [],
   "source": [
    "def MakeStdRow(GameLog):\n",
    "    try:\n",
    "        GameLog=GameLog.drop(['GS_x','GSv2'], axis=1)\n",
    "    except:\n",
    "        print(\"Didn't drop GS_x and GSv2\")\n",
    "    cleanRowNorm = [x for x in map(cleanGL,GameLog.values[0,3:])]\n",
    "    G = cleanRowNorm[4]\n",
    "    IP = cleanRowNorm[10]\n",
    "    cleanRowNorm2 = cleanRowNorm[:4]+cleanRowNorm[5:10]+cleanRowNorm[11:]\n",
    "    cleanRowNorm3 = [x/G for x in cleanRowNorm2[:3]] +[cleanRowNorm2[3]]+ [x/G for x in cleanRowNorm2[4:9]]+[x/IP for x in cleanRowNorm2[9:20]]+[cleanRowNorm2[20]/G]+[x for x in cleanRowNorm2[21:]]\n",
    "    return cleanRowNorm3"
   ]
  },
  {
   "cell_type": "code",
   "execution_count": 9,
   "metadata": {},
   "outputs": [
    {
     "data": {
      "text/plain": [
       "[0.0,\n",
       " 0.05142857142857143,\n",
       " 0.05142857142857143,\n",
       " 3.1,\n",
       " 0.0,\n",
       " 0.0,\n",
       " 0.005714285714285714,\n",
       " 0.14285714285714285,\n",
       " 0.037142857142857144,\n",
       " 4.084033613445378,\n",
       " 0.865546218487395,\n",
       " 0.38375350140056025,\n",
       " 0.3445378151260504,\n",
       " 0.10644257703081232,\n",
       " 0.28851540616246496,\n",
       " 0.036414565826330535,\n",
       " 0.0196078431372549,\n",
       " 0.028011204481792718,\n",
       " 0.0,\n",
       " 0.8067226890756303,\n",
       " 5.121214285714285,\n",
       " 7.26,\n",
       " 2.6,\n",
       " 2.8,\n",
       " 0.96,\n",
       " 19.8,\n",
       " 7.1,\n",
       " 12.7,\n",
       " 0.22899999999999998,\n",
       " 1.15,\n",
       " 0.265,\n",
       " 77.1,\n",
       " 82.0,\n",
       " 100.0,\n",
       " 3.82]"
      ]
     },
     "execution_count": 9,
     "metadata": {},
     "output_type": "execute_result"
    }
   ],
   "source": [
    "CleanRow = MakeStdRow(GameLog)\n",
    "CleanRow"
   ]
  },
  {
   "cell_type": "code",
   "execution_count": 10,
   "metadata": {},
   "outputs": [
    {
     "data": {
      "text/html": [
       "<div>\n",
       "<style scoped>\n",
       "    .dataframe tbody tr th:only-of-type {\n",
       "        vertical-align: middle;\n",
       "    }\n",
       "\n",
       "    .dataframe tbody tr th {\n",
       "        vertical-align: top;\n",
       "    }\n",
       "\n",
       "    .dataframe thead th {\n",
       "        text-align: right;\n",
       "    }\n",
       "</style>\n",
       "<table border=\"1\" class=\"dataframe\">\n",
       "  <thead>\n",
       "    <tr style=\"text-align: right;\">\n",
       "      <th></th>\n",
       "      <th>Season</th>\n",
       "      <th>Handedness</th>\n",
       "      <th>IP</th>\n",
       "      <th>ERA</th>\n",
       "      <th>TBF</th>\n",
       "      <th>H</th>\n",
       "      <th>2B</th>\n",
       "      <th>3B</th>\n",
       "      <th>R</th>\n",
       "      <th>ER</th>\n",
       "      <th>...</th>\n",
       "      <th>HR/9</th>\n",
       "      <th>K%</th>\n",
       "      <th>BB%</th>\n",
       "      <th>K-BB%</th>\n",
       "      <th>AVG_y</th>\n",
       "      <th>WHIP</th>\n",
       "      <th>BABIP</th>\n",
       "      <th>LOB%</th>\n",
       "      <th>FIP</th>\n",
       "      <th>xFIP</th>\n",
       "    </tr>\n",
       "  </thead>\n",
       "  <tbody>\n",
       "    <tr>\n",
       "      <th>0</th>\n",
       "      <td>Total</td>\n",
       "      <td>vs L</td>\n",
       "      <td>124.2</td>\n",
       "      <td>- - -</td>\n",
       "      <td>541.0</td>\n",
       "      <td>113.0</td>\n",
       "      <td>13.0</td>\n",
       "      <td>4.0</td>\n",
       "      <td>50.0</td>\n",
       "      <td>48.0</td>\n",
       "      <td>...</td>\n",
       "      <td>1.16</td>\n",
       "      <td>17.7</td>\n",
       "      <td>11.5</td>\n",
       "      <td>6.3</td>\n",
       "      <td>- - -</td>\n",
       "      <td>1.40</td>\n",
       "      <td>0.265</td>\n",
       "      <td>82.0</td>\n",
       "      <td>4.77</td>\n",
       "      <td>4.63</td>\n",
       "    </tr>\n",
       "    <tr>\n",
       "      <th>1</th>\n",
       "      <td>Total</td>\n",
       "      <td>vs R</td>\n",
       "      <td>232.0</td>\n",
       "      <td>- - -</td>\n",
       "      <td>917.0</td>\n",
       "      <td>196.0</td>\n",
       "      <td>48.0</td>\n",
       "      <td>3.0</td>\n",
       "      <td>87.0</td>\n",
       "      <td>75.0</td>\n",
       "      <td>...</td>\n",
       "      <td>0.85</td>\n",
       "      <td>20.9</td>\n",
       "      <td>4.5</td>\n",
       "      <td>16.5</td>\n",
       "      <td>- - -</td>\n",
       "      <td>1.02</td>\n",
       "      <td>0.265</td>\n",
       "      <td>73.5</td>\n",
       "      <td>3.31</td>\n",
       "      <td>3.66</td>\n",
       "    </tr>\n",
       "  </tbody>\n",
       "</table>\n",
       "<p>2 rows × 32 columns</p>\n",
       "</div>"
      ],
      "text/plain": [
       "  Season Handedness     IP    ERA    TBF      H    2B   3B     R    ER  ...   \\\n",
       "0  Total       vs L  124.2  - - -  541.0  113.0  13.0  4.0  50.0  48.0  ...    \n",
       "1  Total       vs R  232.0  - - -  917.0  196.0  48.0  3.0  87.0  75.0  ...    \n",
       "\n",
       "   HR/9    K%   BB%  K-BB%  AVG_y  WHIP  BABIP  LOB%   FIP  xFIP  \n",
       "0  1.16  17.7  11.5    6.3  - - -  1.40  0.265  82.0  4.77  4.63  \n",
       "1  0.85  20.9   4.5   16.5  - - -  1.02  0.265  73.5  3.31  3.66  \n",
       "\n",
       "[2 rows x 32 columns]"
      ]
     },
     "execution_count": 10,
     "metadata": {},
     "output_type": "execute_result"
    }
   ],
   "source": [
    "SplitLogHand.head()"
   ]
  },
  {
   "cell_type": "code",
   "execution_count": 11,
   "metadata": {},
   "outputs": [],
   "source": [
    "IPL = SplitLogHand.values[0,2]\n",
    "cleanRowSplitvL = [x/IPL for x in map(cleanGL, SplitLogHand.values[0,4:11])]+[x for x in map(cleanGL, SplitLogHand.values[0,11:26])]+[x for x in map(cleanGL, SplitLogHand.values[0,27:])]"
   ]
  },
  {
   "cell_type": "code",
   "execution_count": 12,
   "metadata": {},
   "outputs": [],
   "source": [
    "IPR = SplitLogHand.values[1,2]\n",
    "cleanRowSplitvR = [x/IPR for x in map(cleanGL, SplitLogHand.values[1,4:11])]+[x for x in map(cleanGL, SplitLogHand.values[1,11:26])]+[x for x in map(cleanGL, SplitLogHand.values[1,27:])]"
   ]
  },
  {
   "cell_type": "code",
   "execution_count": 13,
   "metadata": {},
   "outputs": [
    {
     "data": {
      "text/plain": [
       "[4.355877616747182,\n",
       " 0.9098228663446054,\n",
       " 0.10466988727858292,\n",
       " 0.0322061191626409,\n",
       " 0.4025764895330113,\n",
       " 0.3864734299516908,\n",
       " 0.1288244766505636,\n",
       " 62.0,\n",
       " 9.0,\n",
       " 1.0,\n",
       " 96.0,\n",
       " 0.23600000000000002,\n",
       " 0.327,\n",
       " 0.386,\n",
       " 0.308,\n",
       " 6.93,\n",
       " 4.48,\n",
       " 1.55,\n",
       " 1.16,\n",
       " 17.7,\n",
       " 11.5,\n",
       " 6.3,\n",
       " 1.4,\n",
       " 0.265,\n",
       " 82.0,\n",
       " 4.77,\n",
       " 4.63]"
      ]
     },
     "execution_count": 13,
     "metadata": {},
     "output_type": "execute_result"
    }
   ],
   "source": [
    "cleanRowSplitvL"
   ]
  },
  {
   "cell_type": "code",
   "execution_count": 14,
   "metadata": {},
   "outputs": [
    {
     "data": {
      "text/plain": [
       "[3.9525862068965516,\n",
       " 0.8448275862068966,\n",
       " 0.20689655172413793,\n",
       " 0.01293103448275862,\n",
       " 0.375,\n",
       " 0.3232758620689655,\n",
       " 0.09482758620689655,\n",
       " 41.0,\n",
       " 4.0,\n",
       " 6.0,\n",
       " 192.0,\n",
       " 0.225,\n",
       " 0.267,\n",
       " 0.37,\n",
       " 0.27399999999999997,\n",
       " 7.45,\n",
       " 1.59,\n",
       " 4.68,\n",
       " 0.85,\n",
       " 20.9,\n",
       " 4.5,\n",
       " 16.5,\n",
       " 1.02,\n",
       " 0.265,\n",
       " 73.5,\n",
       " 3.31,\n",
       " 3.66]"
      ]
     },
     "execution_count": 14,
     "metadata": {},
     "output_type": "execute_result"
    }
   ],
   "source": [
    "cleanRowSplitvR"
   ]
  },
  {
   "cell_type": "code",
   "execution_count": 15,
   "metadata": {},
   "outputs": [],
   "source": [
    "def MakeHandRow(SplitLogHand):\n",
    "    IPL = SplitLogHand.values[0,2]\n",
    "    cleanRowSplitvL = [x/IPL for x in map(cleanGL, SplitLogHand.values[0,4:11])]+[x for x in map(cleanGL, SplitLogHand.values[0,11:26])]+[x for x in map(cleanGL, SplitLogHand.values[0,27:])]\n",
    "    IPR = SplitLogHand.values[1,2]\n",
    "    cleanRowSplitvR = [x/IPR for x in map(cleanGL, SplitLogHand.values[1,4:11])]+[x for x in map(cleanGL, SplitLogHand.values[1,11:26])]+[x for x in map(cleanGL, SplitLogHand.values[1,27:])]\n",
    "    return cleanRowSplitvL + cleanRowSplitvR"
   ]
  },
  {
   "cell_type": "code",
   "execution_count": 16,
   "metadata": {},
   "outputs": [
    {
     "data": {
      "text/plain": [
       "[4.355877616747182,\n",
       " 0.9098228663446054,\n",
       " 0.10466988727858292,\n",
       " 0.0322061191626409,\n",
       " 0.4025764895330113,\n",
       " 0.3864734299516908,\n",
       " 0.1288244766505636,\n",
       " 62.0,\n",
       " 9.0,\n",
       " 1.0,\n",
       " 96.0,\n",
       " 0.23600000000000002,\n",
       " 0.327,\n",
       " 0.386,\n",
       " 0.308,\n",
       " 6.93,\n",
       " 4.48,\n",
       " 1.55,\n",
       " 1.16,\n",
       " 17.7,\n",
       " 11.5,\n",
       " 6.3,\n",
       " 1.4,\n",
       " 0.265,\n",
       " 82.0,\n",
       " 4.77,\n",
       " 4.63,\n",
       " 3.9525862068965516,\n",
       " 0.8448275862068966,\n",
       " 0.20689655172413793,\n",
       " 0.01293103448275862,\n",
       " 0.375,\n",
       " 0.3232758620689655,\n",
       " 0.09482758620689655,\n",
       " 41.0,\n",
       " 4.0,\n",
       " 6.0,\n",
       " 192.0,\n",
       " 0.225,\n",
       " 0.267,\n",
       " 0.37,\n",
       " 0.27399999999999997,\n",
       " 7.45,\n",
       " 1.59,\n",
       " 4.68,\n",
       " 0.85,\n",
       " 20.9,\n",
       " 4.5,\n",
       " 16.5,\n",
       " 1.02,\n",
       " 0.265,\n",
       " 73.5,\n",
       " 3.31,\n",
       " 3.66]"
      ]
     },
     "execution_count": 16,
     "metadata": {},
     "output_type": "execute_result"
    }
   ],
   "source": [
    "MakeHandRow(SplitLogHand)"
   ]
  },
  {
   "cell_type": "code",
   "execution_count": null,
   "metadata": {},
   "outputs": [],
   "source": []
  },
  {
   "cell_type": "code",
   "execution_count": null,
   "metadata": {},
   "outputs": [],
   "source": []
  }
 ],
 "metadata": {
  "kernelspec": {
   "display_name": "Python 3",
   "language": "python",
   "name": "python3"
  },
  "language_info": {
   "codemirror_mode": {
    "name": "ipython",
    "version": 3
   },
   "file_extension": ".py",
   "mimetype": "text/x-python",
   "name": "python",
   "nbconvert_exporter": "python",
   "pygments_lexer": "ipython3",
   "version": "3.6.4"
  }
 },
 "nbformat": 4,
 "nbformat_minor": 2
}
