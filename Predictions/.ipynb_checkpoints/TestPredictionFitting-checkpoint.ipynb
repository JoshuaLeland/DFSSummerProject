{
 "cells": [
  {
   "cell_type": "code",
   "execution_count": 1,
   "metadata": {},
   "outputs": [],
   "source": [
    "from sklearn.preprocessing import StandardScaler\n",
    "from sklearn.model_selection import train_test_split\n",
    "from sklearn.feature_selection import SelectFromModel\n",
    "from sklearn.neural_network import MLPRegressor\n",
    "from sklearn import linear_model\n",
    "from scipy.optimize import leastsq\n",
    "import matplotlib.pyplot as plt\n",
    "import numpy as np\n",
    "import pandas as pd\n",
    "import sys\n",
    "sys.path.append('../Data/DataBaseCrawler/GameLogCrawler/')\n",
    "import ScrapeGameLogs as scGL"
   ]
  },
  {
   "cell_type": "code",
   "execution_count": 2,
   "metadata": {},
   "outputs": [],
   "source": [
    "def MeanAndCleanGL(PlayerLog):\n",
    "    #Clean the Rows\n",
    "    CleanData=[]\n",
    "    for row in PlayerLog.values:\n",
    "        CleanRow =[int(row[3])]+[cleanGL(x) for x in row[5:]]\n",
    "        CleanData.append(CleanRow)\n",
    "        \n",
    "    #Sum the Columns\n",
    "    SummedRow = np.sum(CleanData, axis=0)\n",
    "    \n",
    "    #Get into Proper format\n",
    "    G = SummedRow[1]\n",
    "    PA = SummedRow[3]    \n",
    "    \n",
    "    #Format the row\n",
    "    AvgRow = [x/PA for x in SummedRow[4:20]] + [x/G for x in SummedRow[20:21]]\n",
    "    return AvgRow"
   ]
  },
  {
   "cell_type": "code",
   "execution_count": 3,
   "metadata": {},
   "outputs": [],
   "source": [
    "def MeanRecentHistory(Date,GameLog,daysBack):\n",
    "    #Make sure days back is less than 30.\n",
    "    #If the date is before April 14th we just use total.\n",
    "    Year = int(Date.split('-')[0])\n",
    "    Month = int(Date.split('-')[1])\n",
    "    Day = int(Date.split('-')[2]) - 1\n",
    "    if Day == 0:\n",
    "        Month = Month-1\n",
    "        Day - 31\n",
    "    \n",
    "    if Month < 5 and Day < 14:\n",
    "        #Use Last seasons stats - Check we have more than 5 data points, or just use total\n",
    "        PlayerLog = GameLog[[str(Year-1) in x for x in GameLog['Date'].values]]\n",
    "        #print(Year)\n",
    "    elif Day - daysBack < 1:\n",
    "        #Condition where we cross months.   \n",
    "        #Get dates for first month\n",
    "        DatesFirstMonth = [str(Year)+'-'+formatNumberString(Month)+'-'+formatNumberString(x) for x in range(1,Day+1)]\n",
    "        #Get Dates for second month\n",
    "        NewMonth = Month - 1     \n",
    "        NewDay = (31 - (daysBack- Day))       \n",
    "        DatesSecondMonth = [str(Year)+'-'+formatNumberString(NewMonth)+'-'+formatNumberString(x) for x in range(NewDay,31)]\n",
    "        Dates = DatesFirstMonth + DatesSecondMonth\n",
    "        PlayerLog = GameLog[GameLog['Date'].isin(Dates)]\n",
    "    else:\n",
    "        #Condition where we don't cross months\n",
    "        NewMonth = Month\n",
    "        NewDay = Day - daysBack\n",
    "        Dates = [str(Year)+'-'+formatNumberString(NewMonth)+'-'+formatNumberString(x) for x in range(NewDay,Day+1)]\n",
    "        PlayerLog = GameLog[GameLog['Date'].isin(Dates)]\n",
    "        \n",
    "    n, d = PlayerLog.shape\n",
    "    if n < 5:\n",
    "        return -1\n",
    "    return MeanAndCleanGL(PlayerLog)"
   ]
  },
  {
   "cell_type": "code",
   "execution_count": 4,
   "metadata": {},
   "outputs": [],
   "source": [
    "def Abv2Name(x):\n",
    "\treturn {\n",
    "\t\t'ARI': 'Diamondbacks',\n",
    "\t\t'ATL': 'Braves',\n",
    "\t\t'BAL': 'Orioles',\n",
    "\t\t'CHC': 'Cubs',\n",
    "\t\t'CLE': 'Indians',\n",
    "\t\t'COL': 'Rockies',\n",
    "\t\t'DET': 'Tigers',\n",
    "\t\t'MIA': 'Marlins',\n",
    "\t\t'HOU': 'Astros',\n",
    "\t\t'LAA': 'Angels',\n",
    "        'ANA': 'Angels',\n",
    "        'CAL': 'Angels',\n",
    "\t\t'LAD': 'Dodgers',\n",
    "\t\t'MIL': 'Brewers',\n",
    "\t\t'MIN': 'Twins',\n",
    "\t\t'NYM': 'Mets',\n",
    "\t\t'NYY': 'Yankees',\n",
    "\t\t'OAK': 'Athletics',\n",
    "\t\t'PHI': 'Phillies',\n",
    "\t\t'PIT': 'Pirates',\n",
    "\t\t'SD': 'Padres',\n",
    "\t\t'SF': 'Giants',\n",
    "\t\t'SEA': 'Mariners',\n",
    "\t\t'STL': 'Cardinals',\n",
    "\t\t'TEX': 'Rangers',\n",
    "\t\t'TB': 'Rays',\n",
    "\t\t'TOR': 'Blue Jays',\n",
    "\t\t'WAS': 'Nationals',\n",
    "\t\t'BOS': 'Red Sox',\n",
    "\t\t'CIN': 'Reds',\n",
    "\t\t'CWS': 'White Sox',\n",
    "\t\t'KC': 'Royals',\n",
    "\t\t'CHW': 'White Sox',\n",
    "\t\t'KCR' : 'Royals',\n",
    "\t\t'SDP' : 'Padres',\n",
    "\t\t'SFG' : 'Giants',\n",
    "\t\t'TBR' : 'Rays',\n",
    "        'WSN' : 'Nationals',\n",
    "        'ATL' : 'Braves'\n",
    "\t}[x]"
   ]
  },
  {
   "cell_type": "code",
   "execution_count": 5,
   "metadata": {},
   "outputs": [],
   "source": [
    "def cleanGL(x):\n",
    "    try:\n",
    "        out = float(x)\n",
    "    except:\n",
    "        try:\n",
    "            out = float(x.strip('%'))\n",
    "        except:\n",
    "            out = 0\n",
    "    return out"
   ]
  },
  {
   "cell_type": "code",
   "execution_count": 6,
   "metadata": {},
   "outputs": [],
   "source": [
    "def formatNumberString(x):\n",
    "    if x < 10:\n",
    "        return '0'+str(x)\n",
    "    else:\n",
    "        return str(x)"
   ]
  },
  {
   "cell_type": "code",
   "execution_count": 7,
   "metadata": {},
   "outputs": [],
   "source": [
    "def cleanPitcherStats(PitchingStats):\n",
    "    PSD = PitchingStats.drop(columns=['HLD','BS','xFIP-','xFIP','SIERA'])\n",
    "    G = PSD.values[0,5]\n",
    "    IP = PSD.values[0,10]\n",
    "                #Win /Loss                       #ERA             #GS CS ShutOut Save IP\n",
    "    OutRow = [x/G for x in PSD.values[0,2:4]]+[PSD.values[0,4]]+[x/G for x in PSD.values[0,6:11]]+[x/IP for x in PSD.values[0,11:22]]+[x for x in PSD.values[0,22:]]    \n",
    "    return OutRow"
   ]
  },
  {
   "cell_type": "code",
   "execution_count": 8,
   "metadata": {},
   "outputs": [],
   "source": [
    "def cleanBatterStats(BattingStats):\n",
    "    BSD=BattingStats.drop(columns=['UBR','wGDP'])\n",
    "    G = BSD.values[0,2]\n",
    "    PA = BSD.values[0,4]\n",
    "    outStats = [cleanGL(x)/PA for x in BSD.values[0,5:21]]+[cleanGL(x) for x in BSD.values[0,21:]]\n",
    "    return outStats"
   ]
  },
  {
   "cell_type": "code",
   "execution_count": 9,
   "metadata": {},
   "outputs": [],
   "source": [
    "RetroSheetDict = {'LAA':'ANA', 'SEA': 'SEA', 'CHW':'CHA', 'CHC':'CHN','ARI':'ARI', 'BAL':'BAL', 'BOS':'BOS',\n",
    "                  'CIN':'CIN', 'CLE':'CLE', 'COL':'COL', 'DET':'DET', 'HOU':'HOU', 'KCR':'KCA', 'LAD':'LAN', 'MIA':'MIA',\n",
    "       'MIN':'MIN','MIL':'MIL', 'NYM':'NYN', 'NYY':'NYA', 'OAK':'OAK', 'PHI':'PHI', 'PIT':'PIT', 'SDP':'SDN', 'SFG':'SFN',\n",
    "       'STL':'SLN','TOR':'TOR', 'TBR':'TBA', 'TEX':'TEX', 'WSN':'WAS', 'MON':'MON', 'ATL':'ATL', 'FLA':'FLO', 'TBD':'TBA','ANA':'ANA','CAL':'CAL'}"
   ]
  },
  {
   "cell_type": "code",
   "execution_count": null,
   "metadata": {},
   "outputs": [],
   "source": [
    "#Load The Rosters\n",
    "ActiveBatter = pd.read_csv('../Data/DataBaseCrawler/MLBBatterRoster2018.csv', index_col=0)\n",
    "InActiveBatter = pd.read_csv('../Data/DataBaseCrawler/GameLogs/InactiveBatterList.csv', index_col=0)\n",
    "\n",
    "#Load all the data - Clusters\n",
    "BatterClusters = pd.read_csv('./BatterClusters/PredBattingClusters.csv', index_col=0)\n",
    "PitcherClusters = pd.read_csv('./PitcherClusters/TotalPitchingClusters.csv', index_col=0)\n",
    "\n",
    "#Player Info -- Hardcoded for now.\n",
    "ID = BatterClusters[BatterClusters['Name']=='Mike Trout']['ID'].values[0]\n",
    "ClusterNum = BatterClusters[BatterClusters['Name']=='Mike Trout']['Labels'].values[0]\n",
    "if ID in ActiveBatter['ID'].values:\n",
    "    Link = ActiveBatter[ActiveBatter['ID']==ID]['Link'].values[0]\n",
    "else:\n",
    "    Link = InActiveBatter[InActiveBatter['ID']==ID]['Link'].values[0]\n",
    "\n",
    "#Factors.\n",
    "UmpireFactors = pd.read_csv('../Data/Factors/UmpireFactors.csv', index_col=0)\n",
    "CatcherFactors = pd.read_csv('../Data/Factors/CatcherFactors.csv', index_col=0)\n",
    "ParkFactors = pd.read_csv('../Data/Factors/ParkFactors.csv', index_col=0)\n",
    "\n",
    "#HistoricalPitching Stats\n",
    "TeamPitchingStats = pd.read_csv('../Data/TeamStats/TeamPitchingStats.csv', index_col=0)\n",
    "TeamBattingStats = pd.read_csv('../Data/TeamStats/TeamBattingStats.csv', index_col=0)"
   ]
  },
  {
   "cell_type": "code",
   "execution_count": null,
   "metadata": {
    "scrolled": true
   },
   "outputs": [
    {
     "name": "stderr",
     "output_type": "stream",
     "text": [
      "/home/josh/anaconda3/lib/python3.6/site-packages/ipykernel_launcher.py:55: UserWarning: Boolean Series key will be reindexed to match DataFrame index.\n"
     ]
    },
    {
     "name": "stdout",
     "output_type": "stream",
     "text": [
      "Row failed!\n",
      "Row failed!\n",
      "Row failed!\n",
      "Row failed!\n",
      "Row failed!\n",
      "Row failed!\n",
      "Row failed!\n",
      "Row failed!\n",
      "Row failed!\n",
      "Row failed!\n",
      "Row failed!\n",
      "Row failed!\n",
      "Row failed!\n",
      "Row failed!\n",
      "Row failed!\n",
      "Row failed!\n",
      "Row failed!\n",
      "Row failed!\n",
      "Row failed!\n",
      "Row failed!\n",
      "Row failed!\n",
      "Row failed!\n",
      "Row failed!\n",
      "Row failed!\n",
      "Row failed!\n",
      "Row failed!\n",
      "Row failed!\n"
     ]
    }
   ],
   "source": [
    "#Pick CLuster number\n",
    "Batters = BatterClusters[BatterClusters['Labels']==ClusterNum]\n",
    "PlayerData=[]\n",
    "FPs=[]\n",
    "for ID in Batters['ID'].values:\n",
    "\n",
    "    #Get GameLog \n",
    "    #PlayerLogMain = pd.read_csv('../Data/DataBaseCrawler/GameLogs/Batters/'+str(ID)+'GL.csv',index_col=0)\n",
    "    \n",
    "    if ID in ActiveBatter['ID'].values:\n",
    "        PlayerLogMain = pd.read_csv('../Data/DataBaseCrawler/GameLogs/Batters/'+str(ID)+'GL.csv',index_col=0)\n",
    "    else:\n",
    "        PlayerLogMain = pd.read_csv('../Data/DataBaseCrawler/GameLogs/InactiveBatters/'+str(ID)+'GL.csv',index_col=0)\n",
    "\n",
    "    #Get the PlayerLog\n",
    "    PlayerLog = PlayerLogMain[PlayerLogMain['Date']!='Total']\n",
    "    #Only use dates before 2018\n",
    "    PlayerLog = PlayerLog[['2018' not in x for x in PlayerLog['Date'].values]]\n",
    "    #FP = PlayerLog['DKfp'].values\n",
    "\n",
    " \n",
    "    for Row1 in PlayerLog.values:\n",
    "        #Build 1 feature vector\n",
    "        #Row1 = PlayerLog.values[0]\n",
    "\n",
    "        #Load schedule\n",
    "        Date = Row1[0]\n",
    "        Year = Date.split('-')[0]\n",
    "        Schedule = pd.read_csv('../Data/Schedules/RSSchedules/RSSchedule'+str(Year)+'.csv',index_col=0)\n",
    "\n",
    "        #Load Batting Order\n",
    "        BO = Row1[3]\n",
    "        BOHC = np.zeros(9)\n",
    "        BOHC[int(BO)-1] = 1\n",
    "\n",
    "        #Figure out if we are home or not\n",
    "        if '@' in Row1[2]:\n",
    "            Home = False\n",
    "            AwayTeam = Row1[1]\n",
    "            PlayerTeam = AwayTeam\n",
    "            HomeTeam = Row1[2].strip('@')\n",
    "            OppTeam = HomeTeam\n",
    "            HFA = 1\n",
    "        else:\n",
    "            Home = True\n",
    "            AwayTeam = Row1[2].strip('@')\n",
    "            OppTeam = AwayTeam\n",
    "            HomeTeam = Row1[1]\n",
    "            PlayerTeam = HomeTeam\n",
    "            HFA = 0\n",
    "\n",
    "        #Find the game in the schedule\n",
    "        ScheduleG = Schedule[Schedule['Date']==Date]\n",
    "        ScheduleG = ScheduleG[ScheduleG['Home Team']==RetroSheetDict[HomeTeam]]\n",
    "        ScheduleG = ScheduleG[Schedule['Visiting Team']==RetroSheetDict[AwayTeam]]\n",
    "\n",
    "        #Get Field info\n",
    "        StadiumID = ScheduleG['Stadium ID'].values[0]\n",
    "        UmpireID = ScheduleG['Umpire ID'].values[0]\n",
    "        ParkRow = ParkFactors[ParkFactors['Park ID']==StadiumID].values[0,12:].tolist()\n",
    "\n",
    "        #Find Catchers\n",
    "        Catchers=np.where(ScheduleG.values==2)[1]\n",
    "\n",
    "        #Get Player info\n",
    "        if Home:\n",
    "            PitcherName =  ScheduleG['Away Pitcher Name']\n",
    "            CatcherID =  ScheduleG.values[0,Catchers[1]-2]\n",
    "        else:\n",
    "            PitcherName =  ScheduleG['Home Pitcher Name']\n",
    "            CatcherID =  ScheduleG.values[0,Catchers[0]-2]\n",
    "        try:\n",
    "            #Get Pitcher cluster\n",
    "            Label = PitcherClusters[PitcherClusters['Name']==PitcherName.values[0]]['Labels'].values[0]\n",
    "\n",
    "            #Get the Cluster Split - Features\n",
    "            ClusterSplit = pd.read_csv('./ClusterSplits/BatterSplit'+str(ClusterNum)+'.csv', index_col=0)\n",
    "            ClusterSplit.drop(columns=['BO', 'G_x','AB','PA', 'DKfp_x'], inplace=True)\n",
    "            SplitColumn = ClusterSplit.as_matrix()[Label,:]\n",
    "\n",
    "            #Get umpire factors\n",
    "            UmpireFactorsRow = UmpireFactors[UmpireFactors['Umpire Id']==UmpireID][['K Factor', 'Walk Factor', 'Hit Factor']].values[0]\n",
    "\n",
    "            #Get Catcher Factors\n",
    "            CatcherFactorsRow = CatcherFactors[CatcherFactors['Catcher Id']==CatcherID][['Catcher Success','Steals Attempts per Game']].values[0]\n",
    "\n",
    "            #Get opposite team pitching  stats\n",
    "            YearTeamPitching=TeamPitchingStats[TeamPitchingStats['Year']==int(Year)]\n",
    "            OppTeamPitchingStats=YearTeamPitching[YearTeamPitching['Team']==Abv2Name(OppTeam)]\n",
    "            PitcherRow = cleanPitcherStats(OppTeamPitchingStats)\n",
    "\n",
    "            #Get our Teams batting stats\n",
    "            YearTeamBattingStats=TeamBattingStats[TeamBattingStats['Year']==int(Year)]\n",
    "            ThisTeamBattingStats=YearTeamBattingStats[YearTeamBattingStats['Team']==Abv2Name(PlayerTeam)]\n",
    "            TeamBattingRow = cleanBatterStats(ThisTeamBattingStats)\n",
    "\n",
    "            #Get recent history.\n",
    "            RecentHist = MeanRecentHistory(Date,PlayerLog, 10)\n",
    "\n",
    "            if RecentHist == -1:\n",
    "                PlayerLogTotal=PlayerLogMain[PlayerLogMain['Date']=='Total']\n",
    "                G = PlayerLogMain.values[0,5]\n",
    "                PA = PlayerLogMain.values[0,7]\n",
    "                RecentHist = [x/PA for x in PlayerLogTotal.values[0,8:24]]+[PlayerLogTotal.values[0,24]]\n",
    "\n",
    "            #Make the Row\n",
    "            FinalRow=SplitColumn.tolist()+RecentHist+TeamBattingRow+PitcherRow+CatcherFactorsRow.tolist()+UmpireFactorsRow.tolist()+ParkRow+BOHC.tolist()+[HFA]\n",
    "            if not np.isnan(FinalRow).any():\n",
    "                PlayerData.append(FinalRow)\n",
    "                FPs.append(Row1[25])\n",
    "        except:\n",
    "            print('Row failed!')"
   ]
  },
  {
   "cell_type": "code",
   "execution_count": null,
   "metadata": {},
   "outputs": [],
   "source": [
    "#Scale The Data\n",
    "scaler = StandardScaler()\n",
    "ScaledData = scaler.fit_transform(PlayerData)"
   ]
  },
  {
   "cell_type": "code",
   "execution_count": null,
   "metadata": {},
   "outputs": [],
   "source": [
    "#Feature Selection\n",
    "Y = FPs\n",
    "ErrorTrain=[]\n",
    "ErrorTest=[]\n",
    "\n",
    "clf = linear_model.Lasso(alpha=0.009).fit(ScaledData,Y)\n",
    "model = SelectFromModel(clf,prefit=True,)\n",
    "ScaledDataSelected = model.transform(ScaledData)\n",
    "#ScaledDataSelected = ScaledData\n",
    "\n",
    "n, d = ScaledData.shape\n",
    "print(d)\n",
    "\n",
    "\n",
    "n2,d2 = ScaledDataSelected.shape\n",
    "print(d2)\n",
    "\n",
    "#Train Test Split\n",
    "#for alph in np.logspace(-2,3,num=10):\n",
    "ErrorTrainTemp=[]\n",
    "ErrorTestTemp=[]\n",
    "\n",
    "X_train, X_test, y_train, y_test = train_test_split(ScaledDataSelected, Y, test_size=0.3, random_state=42)\n",
    "\n",
    "ntrain=len(y_train)\n",
    "ntest=len(y_test)\n",
    "\n",
    "#Network\n",
    "Predictor = MLPRegressor(hidden_layer_sizes=(9, ),activation='logistic',alpha=35, max_iter=10000)\n",
    "Predictor.fit(X_train, y_train)\n",
    "ErrorTrainTemp.append(sum((y_train - Predictor.predict(X_train))**2)/ntrain)\n",
    "ErrorTestTemp.append(sum((y_test - Predictor.predict(X_test))**2)/ntest)\n",
    "\n",
    "ErrorTrain.append(np.mean(ErrorTrainTemp))\n",
    "ErrorTest.append(np.mean(ErrorTestTemp))\n",
    "\n",
    "print(ErrorTrain)\n",
    "print(ErrorTest)"
   ]
  },
  {
   "cell_type": "code",
   "execution_count": null,
   "metadata": {},
   "outputs": [],
   "source": [
    "ErrorTrain"
   ]
  },
  {
   "cell_type": "code",
   "execution_count": null,
   "metadata": {},
   "outputs": [],
   "source": [
    "ErrorTest"
   ]
  },
  {
   "cell_type": "code",
   "execution_count": null,
   "metadata": {},
   "outputs": [],
   "source": [
    "Predictor = MLPRegressor(hidden_layer_sizes=(9, ),activation='logistic', alpha=25, max_iter=10000)\n",
    "Predictor.fit(ScaledDataSelected, Y)\n",
    "plt.hist(Y - Predictor.predict(ScaledDataSelected), bins='auto')"
   ]
  },
  {
   "cell_type": "code",
   "execution_count": null,
   "metadata": {},
   "outputs": [],
   "source": [
    "sum((Y - Predictor.predict(ScaledDataSelected))**2)/n"
   ]
  },
  {
   "cell_type": "code",
   "execution_count": null,
   "metadata": {},
   "outputs": [],
   "source": [
    "Predictor.predict(ScaledDataSelected)"
   ]
  },
  {
   "cell_type": "code",
   "execution_count": null,
   "metadata": {},
   "outputs": [],
   "source": [
    "np.min(Predictor.predict(ScaledDataSelected))"
   ]
  },
  {
   "cell_type": "code",
   "execution_count": null,
   "metadata": {},
   "outputs": [],
   "source": [
    "np.max(Predictor.predict(ScaledDataSelected))"
   ]
  },
  {
   "cell_type": "code",
   "execution_count": null,
   "metadata": {},
   "outputs": [],
   "source": [
    "Batters"
   ]
  },
  {
   "cell_type": "code",
   "execution_count": null,
   "metadata": {},
   "outputs": [],
   "source": []
  },
  {
   "cell_type": "code",
   "execution_count": null,
   "metadata": {},
   "outputs": [],
   "source": []
  },
  {
   "cell_type": "code",
   "execution_count": null,
   "metadata": {},
   "outputs": [],
   "source": []
  },
  {
   "cell_type": "code",
   "execution_count": null,
   "metadata": {},
   "outputs": [],
   "source": []
  },
  {
   "cell_type": "code",
   "execution_count": null,
   "metadata": {},
   "outputs": [],
   "source": []
  },
  {
   "cell_type": "code",
   "execution_count": null,
   "metadata": {},
   "outputs": [],
   "source": []
  }
 ],
 "metadata": {
  "kernelspec": {
   "display_name": "Python 3",
   "language": "python",
   "name": "python3"
  },
  "language_info": {
   "codemirror_mode": {
    "name": "ipython",
    "version": 3
   },
   "file_extension": ".py",
   "mimetype": "text/x-python",
   "name": "python",
   "nbconvert_exporter": "python",
   "pygments_lexer": "ipython3",
   "version": "3.6.4"
  }
 },
 "nbformat": 4,
 "nbformat_minor": 2
}
