{
 "cells": [
  {
   "cell_type": "code",
   "execution_count": 1,
   "metadata": {},
   "outputs": [],
   "source": [
    "from sklearn.cluster import KMeans\n",
    "from sklearn.preprocessing import StandardScaler\n",
    "import numpy as np\n",
    "import pandas as pd\n",
    "import matplotlib.pyplot as plt\n",
    "LowerGameBound = 100"
   ]
  },
  {
   "cell_type": "code",
   "execution_count": 2,
   "metadata": {},
   "outputs": [],
   "source": [
    "def cleanGL(x):\n",
    "    try:\n",
    "        out = float(x)\n",
    "    except:\n",
    "        out = 0\n",
    "    return out"
   ]
  },
  {
   "cell_type": "code",
   "execution_count": null,
   "metadata": {},
   "outputs": [],
   "source": []
  },
  {
   "cell_type": "code",
   "execution_count": 3,
   "metadata": {},
   "outputs": [
    {
     "data": {
      "text/plain": [
       "(766, 3)"
      ]
     },
     "execution_count": 3,
     "metadata": {},
     "output_type": "execute_result"
    }
   ],
   "source": [
    "CurrentPitcherRoster = pd.read_csv('../Data/DataBaseCrawler/MLBPitcherRoster2018.csv', index_col=0)\n",
    "CurrentPitcherRoster = CurrentPitcherRoster[['Name','Team','ID']]\n",
    "CurrentPitcherRoster.shape"
   ]
  },
  {
   "cell_type": "code",
   "execution_count": 4,
   "metadata": {},
   "outputs": [],
   "source": [
    "AggregatedPitcherDataFrame=pd.read_csv('../Data/DataBaseCrawler/GameLogs/InactivePitcherList.csv')\n",
    "AggregatedPitcherDataFrame.drop_duplicates(subset=['ID'], inplace=True)\n",
    "AggregatedPitcherDataFrame = AggregatedPitcherDataFrame[~AggregatedPitcherDataFrame['ID'].isin(CurrentPitcherRoster['ID'])]"
   ]
  },
  {
   "cell_type": "code",
   "execution_count": 5,
   "metadata": {},
   "outputs": [],
   "source": [
    "ID = CurrentPitcherRoster['ID'][0]\n",
    "GameLog = pd.read_csv('../Data/DataBaseCrawler/GameLogs/Pitchers/'+str(ID)+'GL.csv',index_col=0)\n",
    "#GameLog=GameLog.drop(['GS_x','GSv2'], axis=1)\n",
    "\n",
    "#Grab the splitLogs\n",
    "SplitLogHand = pd.read_csv('../Data/DataBaseCrawler/GameLogs/Pitchers/'+str(ID)+'HandSL.csv', index_col=0)\n",
    "SplitLogHomeAway = pd.read_csv('../Data/DataBaseCrawler/GameLogs/Pitchers/'+str(ID)+'HomeAwaySL.csv')"
   ]
  },
  {
   "cell_type": "code",
   "execution_count": 6,
   "metadata": {},
   "outputs": [],
   "source": [
    "cleanRowNorm = [x for x in map(cleanGL,GameLog.values[0,3:])]\n",
    "G = cleanRowNorm[4]\n",
    "IP = cleanRowNorm[10]\n",
    "cleanRowNorm2 = cleanRowNorm[:4]+cleanRowNorm[5:10]+cleanRowNorm[11:]\n",
    "cleanRowNorm3 = [x/G for x in cleanRowNorm2[:3]] +[cleanRowNorm2[3]]+ [x/G for x in cleanRowNorm2[4:9]]+[x/IP for x in cleanRowNorm2[9:20]]+[cleanRowNorm2[20]/G]+[x for x in cleanRowNorm2[21:]]"
   ]
  },
  {
   "cell_type": "code",
   "execution_count": 7,
   "metadata": {},
   "outputs": [
    {
     "data": {
      "text/plain": [
       "True"
      ]
     },
     "execution_count": 7,
     "metadata": {},
     "output_type": "execute_result"
    }
   ],
   "source": [
    "len(cleanRowNorm2) ==len(cleanRowNorm3)"
   ]
  },
  {
   "cell_type": "code",
   "execution_count": 8,
   "metadata": {},
   "outputs": [],
   "source": [
    "def MakeStdRow(GameLog):\n",
    "    try:\n",
    "        GameLog=GameLog.drop(['GS_x','GSv2'], axis=1)\n",
    "    except:\n",
    "        print(\"Didn't drop GS_x and GSv2\")\n",
    "    cleanRowNorm = [x for x in map(cleanGL,GameLog.values[0,3:])]\n",
    "    G = cleanRowNorm[4]\n",
    "    IP = cleanRowNorm[10]\n",
    "    cleanRowNorm2 = cleanRowNorm[:4]+cleanRowNorm[5:10]+cleanRowNorm[11:]\n",
    "    cleanRowNorm3 = [x/G for x in cleanRowNorm2[:3]] +[cleanRowNorm2[3]]+ [x/G for x in cleanRowNorm2[4:9]]+[x/IP for x in cleanRowNorm2[9:20]]+[cleanRowNorm2[20]/G]+[x for x in cleanRowNorm2[21:]]\n",
    "    return cleanRowNorm"
   ]
  },
  {
   "cell_type": "code",
   "execution_count": 9,
   "metadata": {},
   "outputs": [
    {
     "name": "stdout",
     "output_type": "stream",
     "text": [
      "Didn't drop GS_x and GSv2\n"
     ]
    },
    {
     "ename": "ValueError",
     "evalue": "too many values to unpack (expected 2)",
     "output_type": "error",
     "traceback": [
      "\u001b[0;31m---------------------------------------------------------------------------\u001b[0m",
      "\u001b[0;31mValueError\u001b[0m                                Traceback (most recent call last)",
      "\u001b[0;32m<ipython-input-9-a2d2acc89069>\u001b[0m in \u001b[0;36m<module>\u001b[0;34m()\u001b[0m\n\u001b[0;32m----> 1\u001b[0;31m \u001b[0mCleanRow\u001b[0m\u001b[0;34m,\u001b[0m \u001b[0mGames\u001b[0m \u001b[0;34m=\u001b[0m \u001b[0mMakeStdRow\u001b[0m\u001b[0;34m(\u001b[0m\u001b[0mGameLog\u001b[0m\u001b[0;34m)\u001b[0m\u001b[0;34m\u001b[0m\u001b[0m\n\u001b[0m",
      "\u001b[0;31mValueError\u001b[0m: too many values to unpack (expected 2)"
     ]
    }
   ],
   "source": [
    "CleanRow, Games = MakeStdRow(GameLog)"
   ]
  },
  {
   "cell_type": "code",
   "execution_count": null,
   "metadata": {},
   "outputs": [],
   "source": [
    "CleanRow"
   ]
  },
  {
   "cell_type": "code",
   "execution_count": null,
   "metadata": {},
   "outputs": [],
   "source": [
    "Games"
   ]
  },
  {
   "cell_type": "code",
   "execution_count": null,
   "metadata": {},
   "outputs": [],
   "source": [
    "SplitLogHand.head()"
   ]
  },
  {
   "cell_type": "code",
   "execution_count": null,
   "metadata": {},
   "outputs": [],
   "source": [
    "cleanRowSplitvL = [SplitLogHand.values[0,2]]+[x for x in map(cleanGL, SplitLogHand.values[0,4:])]\n",
    "cleanRowSplitvL"
   ]
  },
  {
   "cell_type": "code",
   "execution_count": null,
   "metadata": {},
   "outputs": [],
   "source": []
  },
  {
   "cell_type": "code",
   "execution_count": null,
   "metadata": {},
   "outputs": [],
   "source": []
  },
  {
   "cell_type": "code",
   "execution_count": null,
   "metadata": {},
   "outputs": [],
   "source": [
    "def MakeHandRow(SplitLogHand, Games):\n",
    "    return"
   ]
  },
  {
   "cell_type": "code",
   "execution_count": null,
   "metadata": {},
   "outputs": [],
   "source": []
  },
  {
   "cell_type": "code",
   "execution_count": null,
   "metadata": {},
   "outputs": [],
   "source": []
  }
 ],
 "metadata": {
  "kernelspec": {
   "display_name": "Python 3",
   "language": "python",
   "name": "python3"
  },
  "language_info": {
   "codemirror_mode": {
    "name": "ipython",
    "version": 3
   },
   "file_extension": ".py",
   "mimetype": "text/x-python",
   "name": "python",
   "nbconvert_exporter": "python",
   "pygments_lexer": "ipython3",
   "version": "3.6.4"
  }
 },
 "nbformat": 4,
 "nbformat_minor": 2
}
