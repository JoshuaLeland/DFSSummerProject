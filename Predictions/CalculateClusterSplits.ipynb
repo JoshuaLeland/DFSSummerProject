{
 "cells": [
  {
   "cell_type": "code",
   "execution_count": 1,
   "metadata": {},
   "outputs": [],
   "source": [
    "import numpy as np\n",
    "import pandas as pd"
   ]
  },
  {
   "cell_type": "code",
   "execution_count": 2,
   "metadata": {},
   "outputs": [],
   "source": [
    "def aggregateCluster(clusterNum,ptype):\n",
    "    GLList=[]\n",
    "    if ptype =='Batters':\n",
    "        Clusters = pd.read_csv('./BatterClusters/PredBattingClusters.csv', index_col=0)\n",
    "    else:\n",
    "        Clusters = pd.read_csv('./PitcherClusters/PredPitchingClusters.csv', index_col=0)\n",
    "    \n",
    "    PlayersCluster = Clusters[Clusters['Labels']==clusterNum]\n",
    "    for players in PlayersCluster.values:\n",
    "        ID=players[1]\n",
    "        if players[3] == 'Y':\n",
    "            GameLog = pd.read_csv('../Data/DataBaseCrawler/GameLogs/'+ptype+'/'+str(ID)+'GL.csv', index_col=0)\n",
    "        else:\n",
    "            GameLog = pd.read_csv('../Data/DataBaseCrawler/GameLogs/Inactive'+ptype+'/'+str(ID)+'GL.csv', index_col=0)\n",
    "        GameLog = GameLog[GameLog['Date']!='Total']\n",
    "        GLList.append(GameLog)\n",
    "    return pd.concat(GLList)"
   ]
  },
  {
   "cell_type": "code",
   "execution_count": 3,
   "metadata": {},
   "outputs": [],
   "source": [
    "def stripAt(x):\n",
    "    return x.strip('@')"
   ]
  },
  {
   "cell_type": "code",
   "execution_count": 4,
   "metadata": {},
   "outputs": [],
   "source": [
    "def cleanGL(x):\n",
    "    try:\n",
    "        out = float(x)\n",
    "    except:\n",
    "        try:\n",
    "            out = float(x.strip('%'))\n",
    "        except:\n",
    "            out = 0\n",
    "    return out"
   ]
  },
  {
   "cell_type": "code",
   "execution_count": 5,
   "metadata": {},
   "outputs": [],
   "source": [
    "BattingClusters = pd.read_csv('./BatterClusters/PredBattingClusters.csv', index_col=0)\n",
    "PitchingClusters = pd.read_csv('./PitcherClusters/TotalPitchingClusters.csv', index_col=0)\n",
    "NumBattingClusters = 32\n",
    "NumPitchingClusterNum = 8"
   ]
  },
  {
   "cell_type": "code",
   "execution_count": 6,
   "metadata": {},
   "outputs": [],
   "source": [
    "for i in range(NumBattingClusters):\n",
    "    #Make the Dataframe\n",
    "    ClusterSplitData=[]\n",
    "    #Get the Battercluster\n",
    "    BatterCluster = aggregateCluster(i,'Batters')\n",
    "    BatterCluster = BatterCluster[~BatterCluster['Pos'].isin(['PR-LF', 'PH-CF', 'PH-RF','PH-1B','PH-SS','PH-2B','PR-C','P','PH-RF-CF','PR-DH','PH-3B','PH-C','PH','PH-LF','DH','PR-1B','PR-RF','PH-DH','1B-PH','RF-PH'])]\n",
    "    BatterCluster = BatterCluster[BatterCluster['BO']!=0]\n",
    "    BatterCluster['Opp']=BatterCluster['Opp'].apply(stripAt)\n",
    "    for j in range(NumPitchingClusterNum):\n",
    "        #Get the Pitcher Cluster\n",
    "        PitcherCluster=aggregateCluster(j,'Pitchers')\n",
    "        PitcherCluster=PitcherCluster[PitcherCluster['GS']==1]\n",
    "        PitcherCluster['Opp']=PitcherCluster['Opp'].apply(stripAt)\n",
    "        \n",
    "        #Get Cluster\n",
    "        MergedClusters=pd.merge(BatterCluster,PitcherCluster, left_on=['Date','Team','Opp'], right_on=['Date','Opp','Team'])\n",
    "        MergedClusters=MergedClusters[MergedClusters['PA']!=0]\n",
    "        \n",
    "        #Clean the merge.\n",
    "        MergedClusters=MergedClusters[['BO', 'G_x', 'AB', 'PA', 'H_x', '1B','2B', '3B', 'HR_x', 'R_x','SO_x','HBP_x', 'BB_x', 'IBB_x','RBI','AVG_x','DKfp_x','SF', 'SH', 'SB', 'CS', 'BB%_x', 'K%_x','BB/K', 'OBP', 'SLG', 'OPS', 'ISO', 'Spd', 'BABIP_x', 'wSB', 'wRC','wRAA', 'wOBA', 'wRC+']].applymap(cleanGL)\n",
    "        \n",
    "        #Get the count.\n",
    "        n, d = MergedClusters.shape\n",
    "        \n",
    "        #Get the sum\n",
    "        ClusterSplit = MergedClusters.sum(axis=0).to_frame().T\n",
    "        \n",
    "        #Normalize the split to PA\n",
    "        PA = ClusterSplit.values[0][3]\n",
    "        G = ClusterSplit.values[0][1]\n",
    "        \n",
    "        #Normalize by plate apperance\n",
    "        NormalizedValues = [x/G for x in ClusterSplit.values[0][0:1]]+[x for x in ClusterSplit.values[0][1:4]]+[x/PA for x in ClusterSplit.values[0][4:14]]+[x/G for x in ClusterSplit.values[0][14:]]\n",
    "        \n",
    "        #Put the row in the clustersplit\n",
    "        ClusterSplitData.append(NormalizedValues)\n",
    "        \n",
    "    pd.DataFrame(data=ClusterSplitData, columns=MergedClusters.columns).to_csv('./ClusterSplits/BatterSplit'+str(i)+'.csv')"
   ]
  },
  {
   "cell_type": "code",
   "execution_count": null,
   "metadata": {},
   "outputs": [],
   "source": []
  },
  {
   "cell_type": "code",
   "execution_count": null,
   "metadata": {},
   "outputs": [],
   "source": []
  },
  {
   "cell_type": "code",
   "execution_count": null,
   "metadata": {},
   "outputs": [],
   "source": []
  }
 ],
 "metadata": {
  "kernelspec": {
   "display_name": "Python 3",
   "language": "python",
   "name": "python3"
  },
  "language_info": {
   "codemirror_mode": {
    "name": "ipython",
    "version": 3
   },
   "file_extension": ".py",
   "mimetype": "text/x-python",
   "name": "python",
   "nbconvert_exporter": "python",
   "pygments_lexer": "ipython3",
   "version": "3.6.4"
  }
 },
 "nbformat": 4,
 "nbformat_minor": 2
}
